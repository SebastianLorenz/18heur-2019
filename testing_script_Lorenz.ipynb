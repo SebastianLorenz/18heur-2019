{
 "cells": [
  {
   "cell_type": "code",
   "execution_count": 1,
   "metadata": {},
   "outputs": [],
   "source": [
    "# pridam si src slozku do cesty\n",
    "import sys\n",
    "import os\n",
    "pwd = %pwd\n",
    "sys.path.append(os.path.join('src'))\n",
    "\n",
    "%load_ext autoreload\n",
    "%autoreload 2"
   ]
  },
  {
   "cell_type": "code",
   "execution_count": 2,
   "metadata": {},
   "outputs": [],
   "source": [
    "# knihovny\n",
    "import numpy as np"
   ]
  },
  {
   "cell_type": "code",
   "execution_count": 3,
   "metadata": {},
   "outputs": [],
   "source": [
    "# nactu si Rastrigin\n",
    "from objfun_rastrigin_Lorenz import Rastrigin"
   ]
  },
  {
   "cell_type": "code",
   "execution_count": 4,
   "metadata": {},
   "outputs": [],
   "source": [
    "rast = Rastrigin(n=3,eps=1.0)"
   ]
  },
  {
   "cell_type": "code",
   "execution_count": 5,
   "metadata": {},
   "outputs": [
    {
     "name": "stdout",
     "output_type": "stream",
     "text": [
      "[ 1.9112086  -1.77425184 -3.82513427]\n",
      "36.88330332543175\n"
     ]
    }
   ],
   "source": [
    "x = rast.generate_point()\n",
    "print(x)\n",
    "print(rast.evaluate(x))"
   ]
  },
  {
   "cell_type": "code",
   "execution_count": null,
   "metadata": {},
   "outputs": [],
   "source": []
  },
  {
   "cell_type": "code",
   "execution_count": 6,
   "metadata": {},
   "outputs": [],
   "source": [
    "# Import external librarires\n",
    "import numpy as np\n",
    "import pandas as pd\n",
    "from tqdm import tqdm_notebook\n",
    "\n",
    "import matplotlib\n",
    "%matplotlib notebook\n",
    "import matplotlib.pyplot as plt\n",
    "import seaborn as sns\n",
    "sns.set()"
   ]
  },
  {
   "cell_type": "code",
   "execution_count": 7,
   "metadata": {},
   "outputs": [
    {
     "name": "stdout",
     "output_type": "stream",
     "text": [
      "{'best_y': 0.3126217407426246, 'best_x': array([-0.01299789,  0.014027  , -0.03485858]), 'neval': 69426, 'log_data': Empty DataFrame\n",
      "Columns: []\n",
      "Index: []}\n"
     ]
    }
   ],
   "source": [
    "# GENETICKA OPTIMALIZACE Z HODINY:\n",
    "# prvni zkouska:\n",
    "from heur_go import GeneticOptimization\n",
    "from heur_aux import Correction, MirrorCorrection, ExtensionCorrection, CauchyMutation\n",
    "from heur_go import Crossover, UniformMultipoint, RandomCombination\n",
    "cauchy = CauchyMutation(r=.75, correction=MirrorCorrection(rast))\n",
    "heur_1 = GeneticOptimization(rast, maxeval=100000, N=10, M=30, Tsel1=0.5, Tsel2=0.1, \n",
    "                           mutation=cauchy, crossover=RandomCombination())\n",
    "res = heur_1.search()\n",
    "print(res)"
   ]
  },
  {
   "cell_type": "code",
   "execution_count": 8,
   "metadata": {},
   "outputs": [],
   "source": [
    "NUM_RUNS = 10 # lze potom zvysit\n",
    "maxeval = 50000 # nejde moc snizit v pripade skolni implementace GO"
   ]
  },
  {
   "cell_type": "code",
   "execution_count": 9,
   "metadata": {},
   "outputs": [],
   "source": [
    "def experiment_go(of, maxeval, num_runs, N, M, Tsel1, Tsel2, mutation, crossover):\n",
    "    results = []\n",
    "    heur_name = 'GO_{}'.format(N)\n",
    "    for i in tqdm_notebook(range(num_runs), 'Testing {}'.format(heur_name)):\n",
    "        result = GeneticOptimization(of, maxeval, N=N, M=M, Tsel1=Tsel1, Tsel2=Tsel2, \n",
    "                                     mutation=mutation, crossover=crossover).search()\n",
    "        result['run'] = i\n",
    "        result['heur'] = heur_name\n",
    "        result['N'] = N\n",
    "        results.append(result)\n",
    "    return pd.DataFrame(results, columns=['heur', 'run', 'N', 'best_x', 'best_y', 'neval'])"
   ]
  },
  {
   "cell_type": "code",
   "execution_count": 10,
   "metadata": {},
   "outputs": [
    {
     "data": {
      "application/vnd.jupyter.widget-view+json": {
       "model_id": "7263f7cd49e74705a799d2b9fd0f0a90",
       "version_major": 2,
       "version_minor": 0
      },
      "text/plain": [
       "HBox(children=(IntProgress(value=0, description='Testing GO_1', max=10, style=ProgressStyle(description_width=…"
      ]
     },
     "metadata": {},
     "output_type": "display_data"
    },
    {
     "name": "stdout",
     "output_type": "stream",
     "text": [
      "\n"
     ]
    },
    {
     "data": {
      "application/vnd.jupyter.widget-view+json": {
       "model_id": "ce8a8a44c2b14c52a82e1262609fda47",
       "version_major": 2,
       "version_minor": 0
      },
      "text/plain": [
       "HBox(children=(IntProgress(value=0, description='Testing GO_2', max=10, style=ProgressStyle(description_width=…"
      ]
     },
     "metadata": {},
     "output_type": "display_data"
    },
    {
     "name": "stdout",
     "output_type": "stream",
     "text": [
      "\n"
     ]
    },
    {
     "data": {
      "application/vnd.jupyter.widget-view+json": {
       "model_id": "9cb38a2c195e4b11b52c35f9b350abf5",
       "version_major": 2,
       "version_minor": 0
      },
      "text/plain": [
       "HBox(children=(IntProgress(value=0, description='Testing GO_3', max=10, style=ProgressStyle(description_width=…"
      ]
     },
     "metadata": {},
     "output_type": "display_data"
    },
    {
     "name": "stdout",
     "output_type": "stream",
     "text": [
      "\n"
     ]
    },
    {
     "data": {
      "application/vnd.jupyter.widget-view+json": {
       "model_id": "22985535584c4299bb3a82357e975952",
       "version_major": 2,
       "version_minor": 0
      },
      "text/plain": [
       "HBox(children=(IntProgress(value=0, description='Testing GO_5', max=10, style=ProgressStyle(description_width=…"
      ]
     },
     "metadata": {},
     "output_type": "display_data"
    },
    {
     "name": "stdout",
     "output_type": "stream",
     "text": [
      "\n"
     ]
    },
    {
     "data": {
      "application/vnd.jupyter.widget-view+json": {
       "model_id": "6997751929e94fd48126cbe978736933",
       "version_major": 2,
       "version_minor": 0
      },
      "text/plain": [
       "HBox(children=(IntProgress(value=0, description='Testing GO_10', max=10, style=ProgressStyle(description_width…"
      ]
     },
     "metadata": {},
     "output_type": "display_data"
    },
    {
     "name": "stdout",
     "output_type": "stream",
     "text": [
      "\n"
     ]
    },
    {
     "data": {
      "application/vnd.jupyter.widget-view+json": {
       "model_id": "dde30f0389f54306b8c0d3eeb7db8051",
       "version_major": 2,
       "version_minor": 0
      },
      "text/plain": [
       "HBox(children=(IntProgress(value=0, description='Testing GO_20', max=10, style=ProgressStyle(description_width…"
      ]
     },
     "metadata": {},
     "output_type": "display_data"
    },
    {
     "name": "stdout",
     "output_type": "stream",
     "text": [
      "\n"
     ]
    },
    {
     "data": {
      "application/vnd.jupyter.widget-view+json": {
       "model_id": "a7f6cd49b0974cbf9f5a4b3769c5d7d4",
       "version_major": 2,
       "version_minor": 0
      },
      "text/plain": [
       "HBox(children=(IntProgress(value=0, description='Testing GO_30', max=10, style=ProgressStyle(description_width…"
      ]
     },
     "metadata": {},
     "output_type": "display_data"
    },
    {
     "name": "stdout",
     "output_type": "stream",
     "text": [
      "\n"
     ]
    },
    {
     "data": {
      "application/vnd.jupyter.widget-view+json": {
       "model_id": "39d27468bcdc4840b6442d3d12537c74",
       "version_major": 2,
       "version_minor": 0
      },
      "text/plain": [
       "HBox(children=(IntProgress(value=0, description='Testing GO_100', max=10, style=ProgressStyle(description_widt…"
      ]
     },
     "metadata": {},
     "output_type": "display_data"
    },
    {
     "name": "stdout",
     "output_type": "stream",
     "text": [
      "\n"
     ]
    }
   ],
   "source": [
    "results = pd.DataFrame()\n",
    "mutation = CauchyMutation(r=0.1, correction=MirrorCorrection(rast))\n",
    "crossover = RandomCombination()\n",
    "for N in [1, 2, 3, 5, 10, 20, 30, 100]:\n",
    "    res = experiment_go(of=rast, maxeval=maxeval, num_runs=NUM_RUNS, N=N, M=N*3, Tsel1=0.1, Tsel2=1, \n",
    "                        mutation=mutation, crossover=crossover)\n",
    "    results = pd.concat([results, res], axis=0)"
   ]
  },
  {
   "cell_type": "code",
   "execution_count": 11,
   "metadata": {},
   "outputs": [],
   "source": [
    "def rel(x): # REL=m/q where m is number of successful runs and q is total number of runs\n",
    "    return len([n for n in x if n < np.inf])/len(x)\n",
    "def mne(x): # Mean Number of objective function Evaluations in the succesful runs\n",
    "    return np.mean([n for n in x if n < np.inf])\n",
    "def feo(x): # eoktistov criterion: FEO = MNE/REL\n",
    "    return mne(x)/rel(x)"
   ]
  },
  {
   "cell_type": "code",
   "execution_count": 12,
   "metadata": {},
   "outputs": [
    {
     "data": {
      "text/html": [
       "<div>\n",
       "<style scoped>\n",
       "    .dataframe tbody tr th:only-of-type {\n",
       "        vertical-align: middle;\n",
       "    }\n",
       "\n",
       "    .dataframe tbody tr th {\n",
       "        vertical-align: top;\n",
       "    }\n",
       "\n",
       "    .dataframe thead th {\n",
       "        text-align: right;\n",
       "    }\n",
       "</style>\n",
       "<table border=\"1\" class=\"dataframe\">\n",
       "  <thead>\n",
       "    <tr style=\"text-align: right;\">\n",
       "      <th></th>\n",
       "      <th>heur</th>\n",
       "      <th>N</th>\n",
       "      <th>feo</th>\n",
       "      <th>mne</th>\n",
       "      <th>rel</th>\n",
       "    </tr>\n",
       "  </thead>\n",
       "  <tbody>\n",
       "    <tr>\n",
       "      <th>0</th>\n",
       "      <td>GO_1</td>\n",
       "      <td>1</td>\n",
       "      <td>36599.2</td>\n",
       "      <td>18299.6</td>\n",
       "      <td>0.5</td>\n",
       "    </tr>\n",
       "    <tr>\n",
       "      <th>3</th>\n",
       "      <td>GO_2</td>\n",
       "      <td>2</td>\n",
       "      <td>5913.2</td>\n",
       "      <td>5913.2</td>\n",
       "      <td>1.0</td>\n",
       "    </tr>\n",
       "    <tr>\n",
       "      <th>5</th>\n",
       "      <td>GO_3</td>\n",
       "      <td>3</td>\n",
       "      <td>3405.3</td>\n",
       "      <td>3405.3</td>\n",
       "      <td>1.0</td>\n",
       "    </tr>\n",
       "    <tr>\n",
       "      <th>7</th>\n",
       "      <td>GO_5</td>\n",
       "      <td>5</td>\n",
       "      <td>1439.0</td>\n",
       "      <td>1439.0</td>\n",
       "      <td>1.0</td>\n",
       "    </tr>\n",
       "    <tr>\n",
       "      <th>1</th>\n",
       "      <td>GO_10</td>\n",
       "      <td>10</td>\n",
       "      <td>2793.4</td>\n",
       "      <td>2793.4</td>\n",
       "      <td>1.0</td>\n",
       "    </tr>\n",
       "    <tr>\n",
       "      <th>4</th>\n",
       "      <td>GO_20</td>\n",
       "      <td>20</td>\n",
       "      <td>2709.3</td>\n",
       "      <td>2709.3</td>\n",
       "      <td>1.0</td>\n",
       "    </tr>\n",
       "    <tr>\n",
       "      <th>6</th>\n",
       "      <td>GO_30</td>\n",
       "      <td>30</td>\n",
       "      <td>2601.3</td>\n",
       "      <td>2601.3</td>\n",
       "      <td>1.0</td>\n",
       "    </tr>\n",
       "    <tr>\n",
       "      <th>2</th>\n",
       "      <td>GO_100</td>\n",
       "      <td>100</td>\n",
       "      <td>2448.7</td>\n",
       "      <td>2448.7</td>\n",
       "      <td>1.0</td>\n",
       "    </tr>\n",
       "  </tbody>\n",
       "</table>\n",
       "</div>"
      ],
      "text/plain": [
       "     heur    N      feo      mne  rel\n",
       "0    GO_1    1  36599.2  18299.6  0.5\n",
       "3    GO_2    2   5913.2   5913.2  1.0\n",
       "5    GO_3    3   3405.3   3405.3  1.0\n",
       "7    GO_5    5   1439.0   1439.0  1.0\n",
       "1   GO_10   10   2793.4   2793.4  1.0\n",
       "4   GO_20   20   2709.3   2709.3  1.0\n",
       "6   GO_30   30   2601.3   2601.3  1.0\n",
       "2  GO_100  100   2448.7   2448.7  1.0"
      ]
     },
     "execution_count": 12,
     "metadata": {},
     "output_type": "execute_result"
    }
   ],
   "source": [
    "results_pivot = results.pivot_table(\n",
    "    index=['heur', 'N'],\n",
    "    values=['neval'],\n",
    "    aggfunc=(rel, mne, feo)\n",
    ")['neval']\n",
    "results_pivot = results_pivot.reset_index()\n",
    "results_pivot.sort_values(by='N')\n",
    "# vidime tu ze velky pocet behu je potreba (cca maxeval>35000)"
   ]
  },
  {
   "cell_type": "code",
   "execution_count": 13,
   "metadata": {
    "scrolled": true
   },
   "outputs": [
    {
     "name": "stdout",
     "output_type": "stream",
     "text": [
      "{'best_y': 0.2193276072206629, 'best_x': array([-0.00363884, -0.00756403,  0.03222744]), 'neval': 3141, 'log_data': Empty DataFrame\n",
      "Columns: []\n",
      "Index: []}\n"
     ]
    }
   ],
   "source": [
    "# MOJE IMPLEMENTACE:\n",
    "from heur_aux import Correction, MirrorCorrection, ExtensionCorrection, CauchyMutation\n",
    "from heur_go_Lorenz import GeneticOptimization, Crossover, MeanChild\n",
    "cauchy = CauchyMutation(r=0.1, correction=MirrorCorrection(rast))\n",
    "heur_2 = GeneticOptimization(rast, maxeval=100000, N=10, M=30, Tsel1=0.5, Tsel2=0.1, \n",
    "                           mutation=cauchy, crossover=MeanChild())\n",
    "res2 = heur_2.search()\n",
    "print(res2)"
   ]
  },
  {
   "cell_type": "code",
   "execution_count": 14,
   "metadata": {},
   "outputs": [
    {
     "data": {
      "application/vnd.jupyter.widget-view+json": {
       "model_id": "66162eb9130c41e287400c8de4ff775b",
       "version_major": 2,
       "version_minor": 0
      },
      "text/plain": [
       "HBox(children=(IntProgress(value=0, description='Testing GO_1', max=10, style=ProgressStyle(description_width=…"
      ]
     },
     "metadata": {},
     "output_type": "display_data"
    },
    {
     "name": "stdout",
     "output_type": "stream",
     "text": [
      "\n"
     ]
    },
    {
     "data": {
      "application/vnd.jupyter.widget-view+json": {
       "model_id": "3657f2ec990243b293f767f2fe75a42c",
       "version_major": 2,
       "version_minor": 0
      },
      "text/plain": [
       "HBox(children=(IntProgress(value=0, description='Testing GO_2', max=10, style=ProgressStyle(description_width=…"
      ]
     },
     "metadata": {},
     "output_type": "display_data"
    },
    {
     "name": "stdout",
     "output_type": "stream",
     "text": [
      "\n"
     ]
    },
    {
     "data": {
      "application/vnd.jupyter.widget-view+json": {
       "model_id": "15476686e87d401ba920371d48cc0177",
       "version_major": 2,
       "version_minor": 0
      },
      "text/plain": [
       "HBox(children=(IntProgress(value=0, description='Testing GO_3', max=10, style=ProgressStyle(description_width=…"
      ]
     },
     "metadata": {},
     "output_type": "display_data"
    },
    {
     "name": "stdout",
     "output_type": "stream",
     "text": [
      "\n"
     ]
    },
    {
     "data": {
      "application/vnd.jupyter.widget-view+json": {
       "model_id": "6e4be6c3335e46fb8cea78a8a9978593",
       "version_major": 2,
       "version_minor": 0
      },
      "text/plain": [
       "HBox(children=(IntProgress(value=0, description='Testing GO_5', max=10, style=ProgressStyle(description_width=…"
      ]
     },
     "metadata": {},
     "output_type": "display_data"
    },
    {
     "name": "stdout",
     "output_type": "stream",
     "text": [
      "\n"
     ]
    },
    {
     "data": {
      "application/vnd.jupyter.widget-view+json": {
       "model_id": "89250aed89ff43759a0db1d8c95595ed",
       "version_major": 2,
       "version_minor": 0
      },
      "text/plain": [
       "HBox(children=(IntProgress(value=0, description='Testing GO_10', max=10, style=ProgressStyle(description_width…"
      ]
     },
     "metadata": {},
     "output_type": "display_data"
    },
    {
     "name": "stdout",
     "output_type": "stream",
     "text": [
      "\n"
     ]
    },
    {
     "data": {
      "application/vnd.jupyter.widget-view+json": {
       "model_id": "3ae2dc0e1def449fae9bed42444f199d",
       "version_major": 2,
       "version_minor": 0
      },
      "text/plain": [
       "HBox(children=(IntProgress(value=0, description='Testing GO_20', max=10, style=ProgressStyle(description_width…"
      ]
     },
     "metadata": {},
     "output_type": "display_data"
    },
    {
     "name": "stdout",
     "output_type": "stream",
     "text": [
      "\n"
     ]
    },
    {
     "data": {
      "application/vnd.jupyter.widget-view+json": {
       "model_id": "5c6468c2ed59447baf178c1a378d8bc2",
       "version_major": 2,
       "version_minor": 0
      },
      "text/plain": [
       "HBox(children=(IntProgress(value=0, description='Testing GO_30', max=10, style=ProgressStyle(description_width…"
      ]
     },
     "metadata": {},
     "output_type": "display_data"
    },
    {
     "name": "stdout",
     "output_type": "stream",
     "text": [
      "\n"
     ]
    },
    {
     "data": {
      "application/vnd.jupyter.widget-view+json": {
       "model_id": "6f3fd8fec8ce48c68ea99c8e2dbae708",
       "version_major": 2,
       "version_minor": 0
      },
      "text/plain": [
       "HBox(children=(IntProgress(value=0, description='Testing GO_100', max=10, style=ProgressStyle(description_widt…"
      ]
     },
     "metadata": {},
     "output_type": "display_data"
    },
    {
     "name": "stdout",
     "output_type": "stream",
     "text": [
      "\n"
     ]
    }
   ],
   "source": [
    "results2 = pd.DataFrame()\n",
    "mutation = CauchyMutation(r=0.75, correction=MirrorCorrection(rast))\n",
    "crossover = MeanChild()\n",
    "for N in [1, 2, 3, 5, 10, 20, 30, 100]:\n",
    "    res2 = experiment_go(of=rast, maxeval=maxeval, num_runs=NUM_RUNS, N=N, M=N*3, Tsel1=0.1, Tsel2=1, \n",
    "                        mutation=mutation, crossover=crossover)\n",
    "    results2 = pd.concat([results2, res2], axis=0)"
   ]
  },
  {
   "cell_type": "code",
   "execution_count": 15,
   "metadata": {},
   "outputs": [
    {
     "data": {
      "text/html": [
       "<div>\n",
       "<style scoped>\n",
       "    .dataframe tbody tr th:only-of-type {\n",
       "        vertical-align: middle;\n",
       "    }\n",
       "\n",
       "    .dataframe tbody tr th {\n",
       "        vertical-align: top;\n",
       "    }\n",
       "\n",
       "    .dataframe thead th {\n",
       "        text-align: right;\n",
       "    }\n",
       "</style>\n",
       "<table border=\"1\" class=\"dataframe\">\n",
       "  <thead>\n",
       "    <tr style=\"text-align: right;\">\n",
       "      <th></th>\n",
       "      <th>heur</th>\n",
       "      <th>N</th>\n",
       "      <th>feo</th>\n",
       "      <th>mne</th>\n",
       "      <th>rel</th>\n",
       "    </tr>\n",
       "  </thead>\n",
       "  <tbody>\n",
       "    <tr>\n",
       "      <th>0</th>\n",
       "      <td>GO_1</td>\n",
       "      <td>1</td>\n",
       "      <td>163312.500000</td>\n",
       "      <td>32662.500000</td>\n",
       "      <td>0.2</td>\n",
       "    </tr>\n",
       "    <tr>\n",
       "      <th>3</th>\n",
       "      <td>GO_2</td>\n",
       "      <td>2</td>\n",
       "      <td>63972.000000</td>\n",
       "      <td>31986.000000</td>\n",
       "      <td>0.5</td>\n",
       "    </tr>\n",
       "    <tr>\n",
       "      <th>5</th>\n",
       "      <td>GO_3</td>\n",
       "      <td>3</td>\n",
       "      <td>52930.625000</td>\n",
       "      <td>21172.250000</td>\n",
       "      <td>0.4</td>\n",
       "    </tr>\n",
       "    <tr>\n",
       "      <th>7</th>\n",
       "      <td>GO_5</td>\n",
       "      <td>5</td>\n",
       "      <td>59825.625000</td>\n",
       "      <td>23930.250000</td>\n",
       "      <td>0.4</td>\n",
       "    </tr>\n",
       "    <tr>\n",
       "      <th>1</th>\n",
       "      <td>GO_10</td>\n",
       "      <td>10</td>\n",
       "      <td>24674.081633</td>\n",
       "      <td>17271.857143</td>\n",
       "      <td>0.7</td>\n",
       "    </tr>\n",
       "    <tr>\n",
       "      <th>4</th>\n",
       "      <td>GO_20</td>\n",
       "      <td>20</td>\n",
       "      <td>39055.200000</td>\n",
       "      <td>19527.600000</td>\n",
       "      <td>0.5</td>\n",
       "    </tr>\n",
       "    <tr>\n",
       "      <th>6</th>\n",
       "      <td>GO_30</td>\n",
       "      <td>30</td>\n",
       "      <td>20500.123457</td>\n",
       "      <td>18450.111111</td>\n",
       "      <td>0.9</td>\n",
       "    </tr>\n",
       "    <tr>\n",
       "      <th>2</th>\n",
       "      <td>GO_100</td>\n",
       "      <td>100</td>\n",
       "      <td>29581.224490</td>\n",
       "      <td>20706.857143</td>\n",
       "      <td>0.7</td>\n",
       "    </tr>\n",
       "  </tbody>\n",
       "</table>\n",
       "</div>"
      ],
      "text/plain": [
       "     heur    N            feo           mne  rel\n",
       "0    GO_1    1  163312.500000  32662.500000  0.2\n",
       "3    GO_2    2   63972.000000  31986.000000  0.5\n",
       "5    GO_3    3   52930.625000  21172.250000  0.4\n",
       "7    GO_5    5   59825.625000  23930.250000  0.4\n",
       "1   GO_10   10   24674.081633  17271.857143  0.7\n",
       "4   GO_20   20   39055.200000  19527.600000  0.5\n",
       "6   GO_30   30   20500.123457  18450.111111  0.9\n",
       "2  GO_100  100   29581.224490  20706.857143  0.7"
      ]
     },
     "execution_count": 15,
     "metadata": {},
     "output_type": "execute_result"
    }
   ],
   "source": [
    "results_pivot2 = results2.pivot_table(\n",
    "    index=['heur', 'N'],\n",
    "    values=['neval'],\n",
    "    aggfunc=(rel, mne, feo)\n",
    ")['neval']\n",
    "results_pivot2 = results_pivot2.reset_index()\n",
    "results_pivot2.sort_values(by='N')\n",
    "# nevypada to ze se to nejak zlepsilo,\n",
    "#ale ponecham to"
   ]
  },
  {
   "cell_type": "code",
   "execution_count": 16,
   "metadata": {},
   "outputs": [],
   "source": [
    "def experiment_go_rr(of, maxeval, num_runs, N, M, Tsel1, Tsel2, mutation, crossover):\n",
    "    results = []\n",
    "    heur_name = 'GO_{}'.format(rr)\n",
    "    for i in tqdm_notebook(range(num_runs), 'Testing {}'.format(heur_name)):\n",
    "        result = GeneticOptimization(of, maxeval, N=N, M=M, Tsel1=Tsel1, Tsel2=Tsel2, \n",
    "                                     mutation=mutation, crossover=crossover).search()\n",
    "        result['run'] = i\n",
    "        result['heur'] = heur_name\n",
    "        result['N'] = N\n",
    "        results.append(result)\n",
    "    return pd.DataFrame(results, columns=['heur', 'run', 'N', 'best_x', 'best_y', 'neval'])"
   ]
  },
  {
   "cell_type": "code",
   "execution_count": 17,
   "metadata": {},
   "outputs": [
    {
     "data": {
      "application/vnd.jupyter.widget-view+json": {
       "model_id": "a1bc462cf2c547d4a54c309516e6a72e",
       "version_major": 2,
       "version_minor": 0
      },
      "text/plain": [
       "HBox(children=(IntProgress(value=0, description='Testing GO_0.01', max=10, style=ProgressStyle(description_wid…"
      ]
     },
     "metadata": {},
     "output_type": "display_data"
    },
    {
     "name": "stdout",
     "output_type": "stream",
     "text": [
      "\n"
     ]
    },
    {
     "data": {
      "application/vnd.jupyter.widget-view+json": {
       "model_id": "8ffc72f4e3cc4cc4b6a66ec2ae4e38e8",
       "version_major": 2,
       "version_minor": 0
      },
      "text/plain": [
       "HBox(children=(IntProgress(value=0, description='Testing GO_0.02', max=10, style=ProgressStyle(description_wid…"
      ]
     },
     "metadata": {},
     "output_type": "display_data"
    },
    {
     "name": "stdout",
     "output_type": "stream",
     "text": [
      "\n"
     ]
    },
    {
     "data": {
      "application/vnd.jupyter.widget-view+json": {
       "model_id": "b71f6db06dc149eaa08dede58223c242",
       "version_major": 2,
       "version_minor": 0
      },
      "text/plain": [
       "HBox(children=(IntProgress(value=0, description='Testing GO_0.05', max=10, style=ProgressStyle(description_wid…"
      ]
     },
     "metadata": {},
     "output_type": "display_data"
    },
    {
     "name": "stdout",
     "output_type": "stream",
     "text": [
      "\n"
     ]
    },
    {
     "data": {
      "application/vnd.jupyter.widget-view+json": {
       "model_id": "8433dd031d2e42fa9b681f39812b466d",
       "version_major": 2,
       "version_minor": 0
      },
      "text/plain": [
       "HBox(children=(IntProgress(value=0, description='Testing GO_0.1', max=10, style=ProgressStyle(description_widt…"
      ]
     },
     "metadata": {},
     "output_type": "display_data"
    },
    {
     "name": "stdout",
     "output_type": "stream",
     "text": [
      "\n"
     ]
    },
    {
     "data": {
      "application/vnd.jupyter.widget-view+json": {
       "model_id": "271276bf7d8647389870aeabc293e2f4",
       "version_major": 2,
       "version_minor": 0
      },
      "text/plain": [
       "HBox(children=(IntProgress(value=0, description='Testing GO_0.2', max=10, style=ProgressStyle(description_widt…"
      ]
     },
     "metadata": {},
     "output_type": "display_data"
    },
    {
     "name": "stdout",
     "output_type": "stream",
     "text": [
      "\n"
     ]
    },
    {
     "data": {
      "application/vnd.jupyter.widget-view+json": {
       "model_id": "d575c2474664422fb7742d6ea84094f8",
       "version_major": 2,
       "version_minor": 0
      },
      "text/plain": [
       "HBox(children=(IntProgress(value=0, description='Testing GO_0.5', max=10, style=ProgressStyle(description_widt…"
      ]
     },
     "metadata": {},
     "output_type": "display_data"
    },
    {
     "name": "stdout",
     "output_type": "stream",
     "text": [
      "\n"
     ]
    },
    {
     "data": {
      "application/vnd.jupyter.widget-view+json": {
       "model_id": "7cc392e80e1b4d78a273578134676b66",
       "version_major": 2,
       "version_minor": 0
      },
      "text/plain": [
       "HBox(children=(IntProgress(value=0, description='Testing GO_1', max=10, style=ProgressStyle(description_width=…"
      ]
     },
     "metadata": {},
     "output_type": "display_data"
    },
    {
     "name": "stdout",
     "output_type": "stream",
     "text": [
      "\n"
     ]
    },
    {
     "data": {
      "application/vnd.jupyter.widget-view+json": {
       "model_id": "41b12db3a3874224b62656b0bd636b4d",
       "version_major": 2,
       "version_minor": 0
      },
      "text/plain": [
       "HBox(children=(IntProgress(value=0, description='Testing GO_2', max=10, style=ProgressStyle(description_width=…"
      ]
     },
     "metadata": {},
     "output_type": "display_data"
    },
    {
     "name": "stdout",
     "output_type": "stream",
     "text": [
      "\n"
     ]
    }
   ],
   "source": [
    "# jeste RESEARCH NA PARAMETR R V CAUCHY MUTATION:\n",
    "results3 = pd.DataFrame()\n",
    "crossover = MeanChild()\n",
    "N = 10;\n",
    "for rr in [0.01, 0.02, 0.05, 0.1, 0.2, 0.5, 1, 2]:\n",
    "    mutation = CauchyMutation(r=rr, correction=MirrorCorrection(rast))\n",
    "    res3 = experiment_go_rr(of=rast, maxeval=maxeval, num_runs=NUM_RUNS, N=N, M=N*3, Tsel1=0.1, Tsel2=1, \n",
    "                        mutation=mutation, crossover=crossover)\n",
    "    results3 = pd.concat([results3, res3], axis=0)"
   ]
  },
  {
   "cell_type": "code",
   "execution_count": 18,
   "metadata": {},
   "outputs": [
    {
     "data": {
      "text/html": [
       "<div>\n",
       "<style scoped>\n",
       "    .dataframe tbody tr th:only-of-type {\n",
       "        vertical-align: middle;\n",
       "    }\n",
       "\n",
       "    .dataframe tbody tr th {\n",
       "        vertical-align: top;\n",
       "    }\n",
       "\n",
       "    .dataframe thead th {\n",
       "        text-align: right;\n",
       "    }\n",
       "</style>\n",
       "<table border=\"1\" class=\"dataframe\">\n",
       "  <thead>\n",
       "    <tr style=\"text-align: right;\">\n",
       "      <th></th>\n",
       "      <th>heur</th>\n",
       "      <th>N</th>\n",
       "      <th>feo</th>\n",
       "      <th>mne</th>\n",
       "      <th>rel</th>\n",
       "    </tr>\n",
       "  </thead>\n",
       "  <tbody>\n",
       "    <tr>\n",
       "      <th>0</th>\n",
       "      <td>GO_0.01</td>\n",
       "      <td>10</td>\n",
       "      <td>2972.100000</td>\n",
       "      <td>2972.100000</td>\n",
       "      <td>1.0</td>\n",
       "    </tr>\n",
       "    <tr>\n",
       "      <th>1</th>\n",
       "      <td>GO_0.02</td>\n",
       "      <td>10</td>\n",
       "      <td>2664.800000</td>\n",
       "      <td>2664.800000</td>\n",
       "      <td>1.0</td>\n",
       "    </tr>\n",
       "    <tr>\n",
       "      <th>2</th>\n",
       "      <td>GO_0.05</td>\n",
       "      <td>10</td>\n",
       "      <td>2651.600000</td>\n",
       "      <td>2651.600000</td>\n",
       "      <td>1.0</td>\n",
       "    </tr>\n",
       "    <tr>\n",
       "      <th>3</th>\n",
       "      <td>GO_0.1</td>\n",
       "      <td>10</td>\n",
       "      <td>2144.500000</td>\n",
       "      <td>2144.500000</td>\n",
       "      <td>1.0</td>\n",
       "    </tr>\n",
       "    <tr>\n",
       "      <th>4</th>\n",
       "      <td>GO_0.2</td>\n",
       "      <td>10</td>\n",
       "      <td>2404.300000</td>\n",
       "      <td>2404.300000</td>\n",
       "      <td>1.0</td>\n",
       "    </tr>\n",
       "    <tr>\n",
       "      <th>5</th>\n",
       "      <td>GO_0.5</td>\n",
       "      <td>10</td>\n",
       "      <td>22084.567901</td>\n",
       "      <td>19876.111111</td>\n",
       "      <td>0.9</td>\n",
       "    </tr>\n",
       "    <tr>\n",
       "      <th>6</th>\n",
       "      <td>GO_1</td>\n",
       "      <td>10</td>\n",
       "      <td>54427.600000</td>\n",
       "      <td>27213.800000</td>\n",
       "      <td>0.5</td>\n",
       "    </tr>\n",
       "    <tr>\n",
       "      <th>7</th>\n",
       "      <td>GO_2</td>\n",
       "      <td>10</td>\n",
       "      <td>347430.000000</td>\n",
       "      <td>34743.000000</td>\n",
       "      <td>0.1</td>\n",
       "    </tr>\n",
       "  </tbody>\n",
       "</table>\n",
       "</div>"
      ],
      "text/plain": [
       "      heur   N            feo           mne  rel\n",
       "0  GO_0.01  10    2972.100000   2972.100000  1.0\n",
       "1  GO_0.02  10    2664.800000   2664.800000  1.0\n",
       "2  GO_0.05  10    2651.600000   2651.600000  1.0\n",
       "3   GO_0.1  10    2144.500000   2144.500000  1.0\n",
       "4   GO_0.2  10    2404.300000   2404.300000  1.0\n",
       "5   GO_0.5  10   22084.567901  19876.111111  0.9\n",
       "6     GO_1  10   54427.600000  27213.800000  0.5\n",
       "7     GO_2  10  347430.000000  34743.000000  0.1"
      ]
     },
     "execution_count": 18,
     "metadata": {},
     "output_type": "execute_result"
    }
   ],
   "source": [
    "results_pivot3 = results3.pivot_table(\n",
    "    index=['heur', 'N'],\n",
    "    values=['neval'],\n",
    "    aggfunc=(rel, mne, feo)\n",
    ")['neval']\n",
    "results_pivot3 = results_pivot3.reset_index()\n",
    "results_pivot3.sort_values(by='N')\n",
    "# to vypada dobre, zvlast r=0.1"
   ]
  },
  {
   "cell_type": "code",
   "execution_count": 20,
   "metadata": {},
   "outputs": [
    {
     "data": {
      "text/plain": [
       "'<heur_go_Lorenz.MeanChild object at 0x000001A7C6FD90B8>'"
      ]
     },
     "execution_count": 20,
     "metadata": {},
     "output_type": "execute_result"
    }
   ],
   "source": []
  }
 ],
 "metadata": {
  "kernelspec": {
   "display_name": "Python 3",
   "language": "python",
   "name": "python3"
  },
  "language_info": {
   "codemirror_mode": {
    "name": "ipython",
    "version": 3
   },
   "file_extension": ".py",
   "mimetype": "text/x-python",
   "name": "python",
   "nbconvert_exporter": "python",
   "pygments_lexer": "ipython3",
   "version": "3.7.1"
  }
 },
 "nbformat": 4,
 "nbformat_minor": 2
}
