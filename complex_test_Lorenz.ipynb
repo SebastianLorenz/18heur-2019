{
 "cells": [
  {
   "cell_type": "markdown",
   "metadata": {},
   "source": [
    "# Zápočtový úkol - HEUR\n",
    "## Sebastian Lorenz\n",
    "## 21.5.2019\n",
    "***\n",
    "# Implementace nového typu křížení v GO a ladění parametrů na spojité 3D Rastriginově funkci\n",
    "\n",
    "Nový typ křížení: potomek je aritmetickým průměrem rodičů\n",
    "\n",
    "Rastriginova funkce (2D vyobrazení):\n",
    "<img src=\"rast.gif\">\n",
    "$f(x)=10*n+sum(x(i)^2-10*cos(2*pi*x(i))), i=1:n; -5.12<=x(i)<=5.12$\n",
    "\n",
    "$n$ je počet dimenzí (v našem případě 3)\n",
    "\n",
    "Minimum = 0 leží v počátku souřadnic.\n",
    "\n",
    "Toleranci pro nalezení minima jsem zvolil eps=0,5 (absolutní minimum je $0$ a všechny ostatní lokální minima jsou $>1$, tzn. že pokud dojde ke splnění odmínky, tak víme, že se nacházíme v nejnižším kalíšku).\n",
    "\n",
    "Optimalizované parametry:\n",
    "- počet jedinců v první generaci $N$ \n",
    "- počet jedinců v druhé generaci $M=N*M_c$\n",
    "- typ křížení (4 druhy: 3 z hodiny + 1 jeden nový)\n",
    "- parametr $r$ v Cauchyho mutaci\n",
    "***"
   ]
  },
  {
   "cell_type": "markdown",
   "metadata": {},
   "source": [
    "## Implementace průměrového křížení:\n",
    "~~~~{.python}\n",
    "class MeanChild(Crossover):\n",
    "\n",
    "    def __init__(self):\n",
    "        pass\n",
    "\n",
    "    def crossover(self, x, y):\n",
    "\n",
    "        if is_integer(x):\n",
    "            z = np.array(int(round((x+y)/2)), dtype=x.dtype)\n",
    "        else:\n",
    "            z = np.array((x+y)/2, dtype=x.dtype)\n",
    "        return z\n",
    "~~~~"
   ]
  },
  {
   "cell_type": "markdown",
   "metadata": {},
   "source": [
    "## Implementace Rastriginovy funkce:\n",
    "~~~~{.python}\n",
    "from objfun import ObjFun\n",
    "import numpy as np\n",
    "\n",
    "\n",
    "class Rastrigin(ObjFun):\n",
    "    \"\"\"\n",
    "    Rastrigin's function\n",
    "    \n",
    "    \"\"\"\n",
    "\n",
    "    def __init__(self, n, eps=0.01):\n",
    "        self.fstar = 0 + eps\n",
    "        self.n = n\n",
    "        self.a = -5.12*np.ones(self.n, dtype=np.float64)\n",
    "        self.b = 5.12*np.ones(self.n, dtype=np.float64)\n",
    "\n",
    "    def generate_point(self):\n",
    "        return np.array([np.random.uniform(self.a[i], self.b[i]) for i in np.arange(self.n)], dtype=np.float64)\n",
    "\n",
    "    def evaluate(self, x):\n",
    "        return 10*self.n + np.sum([x[i] ** 2 -10*np.cos(2*3.1415926*x[i]) for i in range(self.n)])\n",
    "~~~~"
   ]
  },
  {
   "cell_type": "markdown",
   "metadata": {},
   "source": [
    "***\n",
    "## Nejdžíve naleznu nejlepší kombinaci typu křížení s parametrem r v Cauchyho mutaci:"
   ]
  },
  {
   "cell_type": "code",
   "execution_count": 1,
   "metadata": {},
   "outputs": [],
   "source": [
    "# přidání src složky do cesty\n",
    "import sys\n",
    "import os\n",
    "pwd = %pwd\n",
    "sys.path.append(os.path.join('src'))\n",
    "\n",
    "%load_ext autoreload\n",
    "%autoreload 2"
   ]
  },
  {
   "cell_type": "code",
   "execution_count": 2,
   "metadata": {},
   "outputs": [],
   "source": [
    "# načtení potřebných knihoven\n",
    "import numpy as np\n",
    "import pandas as pd\n",
    "from tqdm import tqdm_notebook\n",
    "\n",
    "import matplotlib\n",
    "%matplotlib notebook\n",
    "import matplotlib.pyplot as plt\n",
    "import seaborn as sns\n",
    "sns.set()\n",
    "\n",
    "from timeit import default_timer as timer"
   ]
  },
  {
   "cell_type": "code",
   "execution_count": 3,
   "metadata": {},
   "outputs": [],
   "source": [
    "# funkce pro genetickou optimalizaci\n",
    "from heur_aux import Correction, MirrorCorrection, ExtensionCorrection, CauchyMutation\n",
    "from heur_go_Lorenz import GeneticOptimization, Crossover, MeanChild, UniformMultipoint, RandomCombination"
   ]
  },
  {
   "cell_type": "code",
   "execution_count": 4,
   "metadata": {},
   "outputs": [],
   "source": [
    "# vygenerování funkce Rastrigin\n",
    "from objfun_rastrigin_Lorenz import Rastrigin\n",
    "rast = Rastrigin(n=3,eps=0.5)"
   ]
  },
  {
   "cell_type": "markdown",
   "metadata": {},
   "source": [
    "Pomocí malých jednoduchých 1D testů na pár bězích (cca 10) jsem si určil, že by mohly být výhodné následující parametry:\n",
    "- počet jedinců v první generaci: $N=10$\n",
    "- počet jedinců v druhé generaci: $M=N*3$\n",
    "- maximální počet vyhodnocení fce: $maxeval = 35000$\n",
    "- teploty v simulovaném žíhání: $T_1=0,1$, $T_2=1$\n",
    "\n",
    "Počet běhů nastavuju 100 z důvodu výpočetní náročnosti."
   ]
  },
  {
   "cell_type": "code",
   "execution_count": 5,
   "metadata": {},
   "outputs": [],
   "source": [
    "# nastavím parametry testování\n",
    "NUM_RUNS = 100\n",
    "maxeval = 35000\n",
    "Cauchy_r = [0.001, 0.002, 0.005, 0.01, 0.02, 0.05, 0.1, 0.2, 0.5, 1, 2]\n",
    "N = 10 # = [1, 2, 5, 10, 20, 50, 100, 200]         # bude testováno v pozdějším testu\n",
    "M_coeff = 3 # =[2, 3, 4, 6, 8, 10, 20, 50, 100]    # bude testováno v pozdějším testu"
   ]
  },
  {
   "cell_type": "code",
   "execution_count": 6,
   "metadata": {},
   "outputs": [],
   "source": [
    "# funkce prvního experimentu\n",
    "def experiment_go(of, maxeval, num_runs, N, M, Tsel1, Tsel2, mutation, crossover,r):\n",
    "    results = []\n",
    "    heur_name = 'GO_cross_{}_mut_{}'.format(crossover['name'],r)\n",
    "    for i in tqdm_notebook(range(num_runs), 'Testing {}'.format(heur_name)):\n",
    "        result = GeneticOptimization(of, maxeval, N=N, M=M, Tsel1=Tsel1, Tsel2=Tsel2, \n",
    "                                     mutation=mutation, crossover=crossover['crossover']).search()\n",
    "        result['run'] = i\n",
    "        result['cross'] = crossover['name']\n",
    "        result['cauchy_par'] = r\n",
    "        result['heur'] = heur_name\n",
    "        results.append(result)\n",
    "    return pd.DataFrame(results, columns=['heur', 'run', 'cross', 'cauchy_par', 'best_x', 'best_y', 'neval'])"
   ]
  },
  {
   "cell_type": "code",
   "execution_count": 7,
   "metadata": {},
   "outputs": [
    {
     "data": {
      "application/vnd.jupyter.widget-view+json": {
       "model_id": "23108f4a528f4378be98fd823849abcf",
       "version_major": 2,
       "version_minor": 0
      },
      "text/plain": [
       "HBox(children=(IntProgress(value=0, description='Testing GO_cross_mix_mut_0.001', style=ProgressStyle(descript…"
      ]
     },
     "metadata": {},
     "output_type": "display_data"
    },
    {
     "name": "stdout",
     "output_type": "stream",
     "text": [
      "\n"
     ]
    },
    {
     "data": {
      "application/vnd.jupyter.widget-view+json": {
       "model_id": "a76093d742bc4ae5b349277d0c41d7a1",
       "version_major": 2,
       "version_minor": 0
      },
      "text/plain": [
       "HBox(children=(IntProgress(value=0, description='Testing GO_cross_mix_mut_0.002', style=ProgressStyle(descript…"
      ]
     },
     "metadata": {},
     "output_type": "display_data"
    },
    {
     "name": "stdout",
     "output_type": "stream",
     "text": [
      "\n"
     ]
    },
    {
     "data": {
      "application/vnd.jupyter.widget-view+json": {
       "model_id": "e17bb1befce5467f992be73fa665ae87",
       "version_major": 2,
       "version_minor": 0
      },
      "text/plain": [
       "HBox(children=(IntProgress(value=0, description='Testing GO_cross_mix_mut_0.005', style=ProgressStyle(descript…"
      ]
     },
     "metadata": {},
     "output_type": "display_data"
    },
    {
     "name": "stdout",
     "output_type": "stream",
     "text": [
      "\n"
     ]
    },
    {
     "data": {
      "application/vnd.jupyter.widget-view+json": {
       "model_id": "b4cba1ab604443c792da771e0fee8877",
       "version_major": 2,
       "version_minor": 0
      },
      "text/plain": [
       "HBox(children=(IntProgress(value=0, description='Testing GO_cross_mix_mut_0.01', style=ProgressStyle(descripti…"
      ]
     },
     "metadata": {},
     "output_type": "display_data"
    },
    {
     "name": "stdout",
     "output_type": "stream",
     "text": [
      "\n"
     ]
    },
    {
     "data": {
      "application/vnd.jupyter.widget-view+json": {
       "model_id": "628d103230dd4fb99873d6473a790744",
       "version_major": 2,
       "version_minor": 0
      },
      "text/plain": [
       "HBox(children=(IntProgress(value=0, description='Testing GO_cross_mix_mut_0.02', style=ProgressStyle(descripti…"
      ]
     },
     "metadata": {},
     "output_type": "display_data"
    },
    {
     "name": "stdout",
     "output_type": "stream",
     "text": [
      "\n"
     ]
    },
    {
     "data": {
      "application/vnd.jupyter.widget-view+json": {
       "model_id": "960e12a5cc464ca782c5c11266e38d90",
       "version_major": 2,
       "version_minor": 0
      },
      "text/plain": [
       "HBox(children=(IntProgress(value=0, description='Testing GO_cross_mix_mut_0.05', style=ProgressStyle(descripti…"
      ]
     },
     "metadata": {},
     "output_type": "display_data"
    },
    {
     "name": "stdout",
     "output_type": "stream",
     "text": [
      "\n"
     ]
    },
    {
     "data": {
      "application/vnd.jupyter.widget-view+json": {
       "model_id": "0aa92020c21d4c8c99c5fa75d7db6b1e",
       "version_major": 2,
       "version_minor": 0
      },
      "text/plain": [
       "HBox(children=(IntProgress(value=0, description='Testing GO_cross_mix_mut_0.1', style=ProgressStyle(descriptio…"
      ]
     },
     "metadata": {},
     "output_type": "display_data"
    },
    {
     "name": "stdout",
     "output_type": "stream",
     "text": [
      "\n"
     ]
    },
    {
     "data": {
      "application/vnd.jupyter.widget-view+json": {
       "model_id": "b0251b66f39845bda452b1f07cdea707",
       "version_major": 2,
       "version_minor": 0
      },
      "text/plain": [
       "HBox(children=(IntProgress(value=0, description='Testing GO_cross_mix_mut_0.2', style=ProgressStyle(descriptio…"
      ]
     },
     "metadata": {},
     "output_type": "display_data"
    },
    {
     "name": "stdout",
     "output_type": "stream",
     "text": [
      "\n"
     ]
    },
    {
     "data": {
      "application/vnd.jupyter.widget-view+json": {
       "model_id": "c69fb76927054ab6898fefca6a936ada",
       "version_major": 2,
       "version_minor": 0
      },
      "text/plain": [
       "HBox(children=(IntProgress(value=0, description='Testing GO_cross_mix_mut_0.5', style=ProgressStyle(descriptio…"
      ]
     },
     "metadata": {},
     "output_type": "display_data"
    },
    {
     "name": "stdout",
     "output_type": "stream",
     "text": [
      "\n"
     ]
    },
    {
     "data": {
      "application/vnd.jupyter.widget-view+json": {
       "model_id": "bc8b8514bfeb49d3b477285652b5b085",
       "version_major": 2,
       "version_minor": 0
      },
      "text/plain": [
       "HBox(children=(IntProgress(value=0, description='Testing GO_cross_mix_mut_1', style=ProgressStyle(description_…"
      ]
     },
     "metadata": {},
     "output_type": "display_data"
    },
    {
     "name": "stdout",
     "output_type": "stream",
     "text": [
      "\n"
     ]
    },
    {
     "data": {
      "application/vnd.jupyter.widget-view+json": {
       "model_id": "5527da124c5b4c3494c87f05778fe3f9",
       "version_major": 2,
       "version_minor": 0
      },
      "text/plain": [
       "HBox(children=(IntProgress(value=0, description='Testing GO_cross_mix_mut_2', style=ProgressStyle(description_…"
      ]
     },
     "metadata": {},
     "output_type": "display_data"
    },
    {
     "name": "stdout",
     "output_type": "stream",
     "text": [
      "\n"
     ]
    },
    {
     "data": {
      "application/vnd.jupyter.widget-view+json": {
       "model_id": "90b328f38dc84e4a9192d4878af5b8ba",
       "version_major": 2,
       "version_minor": 0
      },
      "text/plain": [
       "HBox(children=(IntProgress(value=0, description='Testing GO_cross_uni_mut_0.001', style=ProgressStyle(descript…"
      ]
     },
     "metadata": {},
     "output_type": "display_data"
    },
    {
     "name": "stdout",
     "output_type": "stream",
     "text": [
      "\n"
     ]
    },
    {
     "data": {
      "application/vnd.jupyter.widget-view+json": {
       "model_id": "fd6a212c5e834696907fb273db391b38",
       "version_major": 2,
       "version_minor": 0
      },
      "text/plain": [
       "HBox(children=(IntProgress(value=0, description='Testing GO_cross_uni_mut_0.002', style=ProgressStyle(descript…"
      ]
     },
     "metadata": {},
     "output_type": "display_data"
    },
    {
     "name": "stdout",
     "output_type": "stream",
     "text": [
      "\n"
     ]
    },
    {
     "data": {
      "application/vnd.jupyter.widget-view+json": {
       "model_id": "debf2fd94cf34068ad3eb94180b7720b",
       "version_major": 2,
       "version_minor": 0
      },
      "text/plain": [
       "HBox(children=(IntProgress(value=0, description='Testing GO_cross_uni_mut_0.005', style=ProgressStyle(descript…"
      ]
     },
     "metadata": {},
     "output_type": "display_data"
    },
    {
     "name": "stdout",
     "output_type": "stream",
     "text": [
      "\n"
     ]
    },
    {
     "data": {
      "application/vnd.jupyter.widget-view+json": {
       "model_id": "4e25c1f69a904177aac0ea65d9dc308e",
       "version_major": 2,
       "version_minor": 0
      },
      "text/plain": [
       "HBox(children=(IntProgress(value=0, description='Testing GO_cross_uni_mut_0.01', style=ProgressStyle(descripti…"
      ]
     },
     "metadata": {},
     "output_type": "display_data"
    },
    {
     "name": "stdout",
     "output_type": "stream",
     "text": [
      "\n"
     ]
    },
    {
     "data": {
      "application/vnd.jupyter.widget-view+json": {
       "model_id": "6766f20c86ee48758282593d597261f7",
       "version_major": 2,
       "version_minor": 0
      },
      "text/plain": [
       "HBox(children=(IntProgress(value=0, description='Testing GO_cross_uni_mut_0.02', style=ProgressStyle(descripti…"
      ]
     },
     "metadata": {},
     "output_type": "display_data"
    },
    {
     "name": "stdout",
     "output_type": "stream",
     "text": [
      "\n"
     ]
    },
    {
     "data": {
      "application/vnd.jupyter.widget-view+json": {
       "model_id": "fbdd8c30b8a2488f8636599f712a8953",
       "version_major": 2,
       "version_minor": 0
      },
      "text/plain": [
       "HBox(children=(IntProgress(value=0, description='Testing GO_cross_uni_mut_0.05', style=ProgressStyle(descripti…"
      ]
     },
     "metadata": {},
     "output_type": "display_data"
    },
    {
     "name": "stdout",
     "output_type": "stream",
     "text": [
      "\n"
     ]
    },
    {
     "data": {
      "application/vnd.jupyter.widget-view+json": {
       "model_id": "8221f810fd0f40a4bdeedadaa3b215e5",
       "version_major": 2,
       "version_minor": 0
      },
      "text/plain": [
       "HBox(children=(IntProgress(value=0, description='Testing GO_cross_uni_mut_0.1', style=ProgressStyle(descriptio…"
      ]
     },
     "metadata": {},
     "output_type": "display_data"
    },
    {
     "name": "stdout",
     "output_type": "stream",
     "text": [
      "\n"
     ]
    },
    {
     "data": {
      "application/vnd.jupyter.widget-view+json": {
       "model_id": "c7ac47f5d2ad4ace8f02235f3a0967ff",
       "version_major": 2,
       "version_minor": 0
      },
      "text/plain": [
       "HBox(children=(IntProgress(value=0, description='Testing GO_cross_uni_mut_0.2', style=ProgressStyle(descriptio…"
      ]
     },
     "metadata": {},
     "output_type": "display_data"
    },
    {
     "name": "stdout",
     "output_type": "stream",
     "text": [
      "\n"
     ]
    },
    {
     "data": {
      "application/vnd.jupyter.widget-view+json": {
       "model_id": "65624fa9d236482fa0bfd3f191c84587",
       "version_major": 2,
       "version_minor": 0
      },
      "text/plain": [
       "HBox(children=(IntProgress(value=0, description='Testing GO_cross_uni_mut_0.5', style=ProgressStyle(descriptio…"
      ]
     },
     "metadata": {},
     "output_type": "display_data"
    },
    {
     "name": "stdout",
     "output_type": "stream",
     "text": [
      "\n"
     ]
    },
    {
     "data": {
      "application/vnd.jupyter.widget-view+json": {
       "model_id": "fe05851e131346e8a1acc1120ab80a6e",
       "version_major": 2,
       "version_minor": 0
      },
      "text/plain": [
       "HBox(children=(IntProgress(value=0, description='Testing GO_cross_uni_mut_1', style=ProgressStyle(description_…"
      ]
     },
     "metadata": {},
     "output_type": "display_data"
    },
    {
     "name": "stdout",
     "output_type": "stream",
     "text": [
      "\n"
     ]
    },
    {
     "data": {
      "application/vnd.jupyter.widget-view+json": {
       "model_id": "2ca9ccd5a0294bdba39545a5a5b4e5b5",
       "version_major": 2,
       "version_minor": 0
      },
      "text/plain": [
       "HBox(children=(IntProgress(value=0, description='Testing GO_cross_uni_mut_2', style=ProgressStyle(description_…"
      ]
     },
     "metadata": {},
     "output_type": "display_data"
    },
    {
     "name": "stdout",
     "output_type": "stream",
     "text": [
      "\n"
     ]
    },
    {
     "data": {
      "application/vnd.jupyter.widget-view+json": {
       "model_id": "8b5af47348b64b2091dbce6c943cc91d",
       "version_major": 2,
       "version_minor": 0
      },
      "text/plain": [
       "HBox(children=(IntProgress(value=0, description='Testing GO_cross_rnd_mut_0.001', style=ProgressStyle(descript…"
      ]
     },
     "metadata": {},
     "output_type": "display_data"
    },
    {
     "name": "stdout",
     "output_type": "stream",
     "text": [
      "\n"
     ]
    },
    {
     "data": {
      "application/vnd.jupyter.widget-view+json": {
       "model_id": "47918d66a18f4c21b63b128db676282e",
       "version_major": 2,
       "version_minor": 0
      },
      "text/plain": [
       "HBox(children=(IntProgress(value=0, description='Testing GO_cross_rnd_mut_0.002', style=ProgressStyle(descript…"
      ]
     },
     "metadata": {},
     "output_type": "display_data"
    },
    {
     "name": "stdout",
     "output_type": "stream",
     "text": [
      "\n"
     ]
    },
    {
     "data": {
      "application/vnd.jupyter.widget-view+json": {
       "model_id": "83f95b01c38043db96fbaf6dcdf37d85",
       "version_major": 2,
       "version_minor": 0
      },
      "text/plain": [
       "HBox(children=(IntProgress(value=0, description='Testing GO_cross_rnd_mut_0.005', style=ProgressStyle(descript…"
      ]
     },
     "metadata": {},
     "output_type": "display_data"
    },
    {
     "name": "stdout",
     "output_type": "stream",
     "text": [
      "\n"
     ]
    },
    {
     "data": {
      "application/vnd.jupyter.widget-view+json": {
       "model_id": "c7e0c4ecce9b4717807459ad7f7614e5",
       "version_major": 2,
       "version_minor": 0
      },
      "text/plain": [
       "HBox(children=(IntProgress(value=0, description='Testing GO_cross_rnd_mut_0.01', style=ProgressStyle(descripti…"
      ]
     },
     "metadata": {},
     "output_type": "display_data"
    },
    {
     "name": "stdout",
     "output_type": "stream",
     "text": [
      "\n"
     ]
    },
    {
     "data": {
      "application/vnd.jupyter.widget-view+json": {
       "model_id": "423b86c5ac904a319bf18d6f33319ceb",
       "version_major": 2,
       "version_minor": 0
      },
      "text/plain": [
       "HBox(children=(IntProgress(value=0, description='Testing GO_cross_rnd_mut_0.02', style=ProgressStyle(descripti…"
      ]
     },
     "metadata": {},
     "output_type": "display_data"
    },
    {
     "name": "stdout",
     "output_type": "stream",
     "text": [
      "\n"
     ]
    },
    {
     "data": {
      "application/vnd.jupyter.widget-view+json": {
       "model_id": "357decedafdf41c58a0356f2a2e819b6",
       "version_major": 2,
       "version_minor": 0
      },
      "text/plain": [
       "HBox(children=(IntProgress(value=0, description='Testing GO_cross_rnd_mut_0.05', style=ProgressStyle(descripti…"
      ]
     },
     "metadata": {},
     "output_type": "display_data"
    },
    {
     "name": "stdout",
     "output_type": "stream",
     "text": [
      "\n"
     ]
    },
    {
     "data": {
      "application/vnd.jupyter.widget-view+json": {
       "model_id": "c7893ec40b1141a49c52499419f0511c",
       "version_major": 2,
       "version_minor": 0
      },
      "text/plain": [
       "HBox(children=(IntProgress(value=0, description='Testing GO_cross_rnd_mut_0.1', style=ProgressStyle(descriptio…"
      ]
     },
     "metadata": {},
     "output_type": "display_data"
    },
    {
     "name": "stdout",
     "output_type": "stream",
     "text": [
      "\n"
     ]
    },
    {
     "data": {
      "application/vnd.jupyter.widget-view+json": {
       "model_id": "5b6789a7a29a4333931d577fb8a8cd47",
       "version_major": 2,
       "version_minor": 0
      },
      "text/plain": [
       "HBox(children=(IntProgress(value=0, description='Testing GO_cross_rnd_mut_0.2', style=ProgressStyle(descriptio…"
      ]
     },
     "metadata": {},
     "output_type": "display_data"
    },
    {
     "name": "stdout",
     "output_type": "stream",
     "text": [
      "\n"
     ]
    },
    {
     "data": {
      "application/vnd.jupyter.widget-view+json": {
       "model_id": "ddb57e3f6c054cbc9b9b1ced165018c3",
       "version_major": 2,
       "version_minor": 0
      },
      "text/plain": [
       "HBox(children=(IntProgress(value=0, description='Testing GO_cross_rnd_mut_0.5', style=ProgressStyle(descriptio…"
      ]
     },
     "metadata": {},
     "output_type": "display_data"
    },
    {
     "name": "stdout",
     "output_type": "stream",
     "text": [
      "\n"
     ]
    },
    {
     "data": {
      "application/vnd.jupyter.widget-view+json": {
       "model_id": "431edae91d124ed4b57bc0685c2ad0bf",
       "version_major": 2,
       "version_minor": 0
      },
      "text/plain": [
       "HBox(children=(IntProgress(value=0, description='Testing GO_cross_rnd_mut_1', style=ProgressStyle(description_…"
      ]
     },
     "metadata": {},
     "output_type": "display_data"
    },
    {
     "name": "stdout",
     "output_type": "stream",
     "text": [
      "\n"
     ]
    },
    {
     "data": {
      "application/vnd.jupyter.widget-view+json": {
       "model_id": "1f0b40d75a1643998bb0e8c0857b4848",
       "version_major": 2,
       "version_minor": 0
      },
      "text/plain": [
       "HBox(children=(IntProgress(value=0, description='Testing GO_cross_rnd_mut_2', style=ProgressStyle(description_…"
      ]
     },
     "metadata": {},
     "output_type": "display_data"
    },
    {
     "name": "stdout",
     "output_type": "stream",
     "text": [
      "\n"
     ]
    },
    {
     "data": {
      "application/vnd.jupyter.widget-view+json": {
       "model_id": "85cb427185c2420b8835f85dc801c082",
       "version_major": 2,
       "version_minor": 0
      },
      "text/plain": [
       "HBox(children=(IntProgress(value=0, description='Testing GO_cross_mch_mut_0.001', style=ProgressStyle(descript…"
      ]
     },
     "metadata": {},
     "output_type": "display_data"
    },
    {
     "name": "stdout",
     "output_type": "stream",
     "text": [
      "\n"
     ]
    },
    {
     "data": {
      "application/vnd.jupyter.widget-view+json": {
       "model_id": "f4577b0f9e614ce9b67469abb8273ff8",
       "version_major": 2,
       "version_minor": 0
      },
      "text/plain": [
       "HBox(children=(IntProgress(value=0, description='Testing GO_cross_mch_mut_0.002', style=ProgressStyle(descript…"
      ]
     },
     "metadata": {},
     "output_type": "display_data"
    },
    {
     "name": "stdout",
     "output_type": "stream",
     "text": [
      "\n"
     ]
    },
    {
     "data": {
      "application/vnd.jupyter.widget-view+json": {
       "model_id": "33f3c882a5114505865ab3b88e177116",
       "version_major": 2,
       "version_minor": 0
      },
      "text/plain": [
       "HBox(children=(IntProgress(value=0, description='Testing GO_cross_mch_mut_0.005', style=ProgressStyle(descript…"
      ]
     },
     "metadata": {},
     "output_type": "display_data"
    },
    {
     "name": "stdout",
     "output_type": "stream",
     "text": [
      "\n"
     ]
    },
    {
     "data": {
      "application/vnd.jupyter.widget-view+json": {
       "model_id": "5750289fc4da4fde916839e575ac2d16",
       "version_major": 2,
       "version_minor": 0
      },
      "text/plain": [
       "HBox(children=(IntProgress(value=0, description='Testing GO_cross_mch_mut_0.01', style=ProgressStyle(descripti…"
      ]
     },
     "metadata": {},
     "output_type": "display_data"
    },
    {
     "name": "stdout",
     "output_type": "stream",
     "text": [
      "\n"
     ]
    },
    {
     "data": {
      "application/vnd.jupyter.widget-view+json": {
       "model_id": "51cdca102bb5481e82c3ec3ed529889d",
       "version_major": 2,
       "version_minor": 0
      },
      "text/plain": [
       "HBox(children=(IntProgress(value=0, description='Testing GO_cross_mch_mut_0.02', style=ProgressStyle(descripti…"
      ]
     },
     "metadata": {},
     "output_type": "display_data"
    },
    {
     "name": "stdout",
     "output_type": "stream",
     "text": [
      "\n"
     ]
    },
    {
     "data": {
      "application/vnd.jupyter.widget-view+json": {
       "model_id": "4f0b2045105442abbc7d7bf3ca30dc2a",
       "version_major": 2,
       "version_minor": 0
      },
      "text/plain": [
       "HBox(children=(IntProgress(value=0, description='Testing GO_cross_mch_mut_0.05', style=ProgressStyle(descripti…"
      ]
     },
     "metadata": {},
     "output_type": "display_data"
    },
    {
     "name": "stdout",
     "output_type": "stream",
     "text": [
      "\n"
     ]
    },
    {
     "data": {
      "application/vnd.jupyter.widget-view+json": {
       "model_id": "83962fc12e6c48b7aa15226402d355eb",
       "version_major": 2,
       "version_minor": 0
      },
      "text/plain": [
       "HBox(children=(IntProgress(value=0, description='Testing GO_cross_mch_mut_0.1', style=ProgressStyle(descriptio…"
      ]
     },
     "metadata": {},
     "output_type": "display_data"
    },
    {
     "name": "stdout",
     "output_type": "stream",
     "text": [
      "\n"
     ]
    },
    {
     "data": {
      "application/vnd.jupyter.widget-view+json": {
       "model_id": "64b3f01674af444998933ebc871e0113",
       "version_major": 2,
       "version_minor": 0
      },
      "text/plain": [
       "HBox(children=(IntProgress(value=0, description='Testing GO_cross_mch_mut_0.2', style=ProgressStyle(descriptio…"
      ]
     },
     "metadata": {},
     "output_type": "display_data"
    },
    {
     "name": "stdout",
     "output_type": "stream",
     "text": [
      "\n"
     ]
    },
    {
     "data": {
      "application/vnd.jupyter.widget-view+json": {
       "model_id": "e6c7ecc725b84e04bb65f4db7e4cef92",
       "version_major": 2,
       "version_minor": 0
      },
      "text/plain": [
       "HBox(children=(IntProgress(value=0, description='Testing GO_cross_mch_mut_0.5', style=ProgressStyle(descriptio…"
      ]
     },
     "metadata": {},
     "output_type": "display_data"
    },
    {
     "name": "stdout",
     "output_type": "stream",
     "text": [
      "\n"
     ]
    },
    {
     "data": {
      "application/vnd.jupyter.widget-view+json": {
       "model_id": "09762b39e4cf4710bda2c7f4065922c7",
       "version_major": 2,
       "version_minor": 0
      },
      "text/plain": [
       "HBox(children=(IntProgress(value=0, description='Testing GO_cross_mch_mut_1', style=ProgressStyle(description_…"
      ]
     },
     "metadata": {},
     "output_type": "display_data"
    },
    {
     "name": "stdout",
     "output_type": "stream",
     "text": [
      "\n"
     ]
    },
    {
     "data": {
      "application/vnd.jupyter.widget-view+json": {
       "model_id": "50e69b74b2e449839f17eb6cc8aa6807",
       "version_major": 2,
       "version_minor": 0
      },
      "text/plain": [
       "HBox(children=(IntProgress(value=0, description='Testing GO_cross_mch_mut_2', style=ProgressStyle(description_…"
      ]
     },
     "metadata": {},
     "output_type": "display_data"
    },
    {
     "name": "stdout",
     "output_type": "stream",
     "text": [
      "\n",
      "7804.5536428000005\n"
     ]
    }
   ],
   "source": [
    "# spuštění experimentu\n",
    "results = pd.DataFrame()\n",
    "\n",
    "crossovers = [\n",
    "    {'crossover': Crossover(), 'name': 'mix'},\n",
    "    {'crossover': UniformMultipoint(1), 'name': 'uni'},\n",
    "    {'crossover': RandomCombination(), 'name': 'rnd'},\n",
    "    {'crossover': MeanChild(), 'name': 'mch'}\n",
    "]\n",
    "\n",
    "start = timer();\n",
    "for crossover in crossovers:\n",
    "    for rr in Cauchy_r:\n",
    "        mutation = CauchyMutation(r=rr, correction=MirrorCorrection(rast))\n",
    "        res = experiment_go(of=rast, maxeval=maxeval, num_runs=NUM_RUNS, N=N, M=N*M_coeff, Tsel1=0.1, Tsel2=1, \n",
    "                            mutation=mutation, crossover=crossover,r = rr)\n",
    "        results = pd.concat([results, res], axis=0)\n",
    "end = timer();\n",
    "print(end - start) # in seconds"
   ]
  },
  {
   "cell_type": "markdown",
   "metadata": {},
   "source": [
    "První test zabral 2h a 10min."
   ]
  },
  {
   "cell_type": "code",
   "execution_count": 48,
   "metadata": {},
   "outputs": [
    {
     "data": {
      "text/html": [
       "<div>\n",
       "<style scoped>\n",
       "    .dataframe tbody tr th:only-of-type {\n",
       "        vertical-align: middle;\n",
       "    }\n",
       "\n",
       "    .dataframe tbody tr th {\n",
       "        vertical-align: top;\n",
       "    }\n",
       "\n",
       "    .dataframe thead th {\n",
       "        text-align: right;\n",
       "    }\n",
       "</style>\n",
       "<table border=\"1\" class=\"dataframe\">\n",
       "  <thead>\n",
       "    <tr style=\"text-align: right;\">\n",
       "      <th></th>\n",
       "      <th>heur</th>\n",
       "      <th>run</th>\n",
       "      <th>cross</th>\n",
       "      <th>cauchy_par</th>\n",
       "      <th>best_x</th>\n",
       "      <th>best_y</th>\n",
       "      <th>neval</th>\n",
       "    </tr>\n",
       "  </thead>\n",
       "  <tbody>\n",
       "    <tr>\n",
       "      <th>0</th>\n",
       "      <td>GO_cross_mix_mut_0.001</td>\n",
       "      <td>0</td>\n",
       "      <td>mix</td>\n",
       "      <td>0.001</td>\n",
       "      <td>[9.324916002562134e-05, -0.0001082997287751297...</td>\n",
       "      <td>0.994966</td>\n",
       "      <td>inf</td>\n",
       "    </tr>\n",
       "    <tr>\n",
       "      <th>1</th>\n",
       "      <td>GO_cross_mix_mut_0.001</td>\n",
       "      <td>1</td>\n",
       "      <td>mix</td>\n",
       "      <td>0.001</td>\n",
       "      <td>[-6.932082647814752e-05, -0.9950291122744481, ...</td>\n",
       "      <td>0.994961</td>\n",
       "      <td>inf</td>\n",
       "    </tr>\n",
       "    <tr>\n",
       "      <th>2</th>\n",
       "      <td>GO_cross_mix_mut_0.001</td>\n",
       "      <td>2</td>\n",
       "      <td>mix</td>\n",
       "      <td>0.001</td>\n",
       "      <td>[-7.1577225417840395e-06, 0.9949580917343388, ...</td>\n",
       "      <td>0.994959</td>\n",
       "      <td>inf</td>\n",
       "    </tr>\n",
       "    <tr>\n",
       "      <th>3</th>\n",
       "      <td>GO_cross_mix_mut_0.001</td>\n",
       "      <td>3</td>\n",
       "      <td>mix</td>\n",
       "      <td>0.001</td>\n",
       "      <td>[5.717451086972858e-05, -3.702164055408019e-05...</td>\n",
       "      <td>0.994960</td>\n",
       "      <td>inf</td>\n",
       "    </tr>\n",
       "    <tr>\n",
       "      <th>4</th>\n",
       "      <td>GO_cross_mix_mut_0.001</td>\n",
       "      <td>4</td>\n",
       "      <td>mix</td>\n",
       "      <td>0.001</td>\n",
       "      <td>[-0.00013797731723386164, 0.0497223847337791, ...</td>\n",
       "      <td>0.486849</td>\n",
       "      <td>7221.000000</td>\n",
       "    </tr>\n",
       "  </tbody>\n",
       "</table>\n",
       "</div>"
      ],
      "text/plain": [
       "                     heur  run cross  cauchy_par  \\\n",
       "0  GO_cross_mix_mut_0.001    0   mix       0.001   \n",
       "1  GO_cross_mix_mut_0.001    1   mix       0.001   \n",
       "2  GO_cross_mix_mut_0.001    2   mix       0.001   \n",
       "3  GO_cross_mix_mut_0.001    3   mix       0.001   \n",
       "4  GO_cross_mix_mut_0.001    4   mix       0.001   \n",
       "\n",
       "                                              best_x    best_y        neval  \n",
       "0  [9.324916002562134e-05, -0.0001082997287751297...  0.994966          inf  \n",
       "1  [-6.932082647814752e-05, -0.9950291122744481, ...  0.994961          inf  \n",
       "2  [-7.1577225417840395e-06, 0.9949580917343388, ...  0.994959          inf  \n",
       "3  [5.717451086972858e-05, -3.702164055408019e-05...  0.994960          inf  \n",
       "4  [-0.00013797731723386164, 0.0497223847337791, ...  0.486849  7221.000000  "
      ]
     },
     "execution_count": 48,
     "metadata": {},
     "output_type": "execute_result"
    }
   ],
   "source": [
    "# uložení výsledků do pickle formátu\n",
    "results.to_pickle('results1.pkl')\n",
    "#results = pd.read_pickle('results1.pkl')\n",
    "results.head()"
   ]
  },
  {
   "cell_type": "code",
   "execution_count": 9,
   "metadata": {},
   "outputs": [],
   "source": [
    "# parametry k vyhodnocení\n",
    "def rel(x): # REL=m/q kde m počet úspěšných běhů a q je celkový počet běhů\n",
    "    return len([n for n in x if n < np.inf])/len(x)\n",
    "def mne(x): # průměrný počet vyhodnocení testovací funkce v rámci úspěšných běhů\n",
    "    return np.mean([n for n in x if n < np.inf])\n",
    "def feo(x): # Feoktisovo kritérium: FEO = MNE/REL\n",
    "    return mne(x)/rel(x)"
   ]
  },
  {
   "cell_type": "code",
   "execution_count": 49,
   "metadata": {},
   "outputs": [
    {
     "data": {
      "text/html": [
       "<div>\n",
       "<style scoped>\n",
       "    .dataframe tbody tr th:only-of-type {\n",
       "        vertical-align: middle;\n",
       "    }\n",
       "\n",
       "    .dataframe tbody tr th {\n",
       "        vertical-align: top;\n",
       "    }\n",
       "\n",
       "    .dataframe thead th {\n",
       "        text-align: right;\n",
       "    }\n",
       "</style>\n",
       "<table border=\"1\" class=\"dataframe\">\n",
       "  <thead>\n",
       "    <tr style=\"text-align: right;\">\n",
       "      <th></th>\n",
       "      <th>cross</th>\n",
       "      <th>cauchy_par</th>\n",
       "      <th>heur</th>\n",
       "      <th>feo</th>\n",
       "      <th>mne</th>\n",
       "      <th>rel</th>\n",
       "    </tr>\n",
       "  </thead>\n",
       "  <tbody>\n",
       "    <tr>\n",
       "      <th>28</th>\n",
       "      <td>rnd</td>\n",
       "      <td>0.10</td>\n",
       "      <td>GO_cross_rnd_mut_0.1</td>\n",
       "      <td>2043.78</td>\n",
       "      <td>2043.78</td>\n",
       "      <td>1.0</td>\n",
       "    </tr>\n",
       "    <tr>\n",
       "      <th>17</th>\n",
       "      <td>mix</td>\n",
       "      <td>0.10</td>\n",
       "      <td>GO_cross_mix_mut_0.1</td>\n",
       "      <td>2256.04</td>\n",
       "      <td>2256.04</td>\n",
       "      <td>1.0</td>\n",
       "    </tr>\n",
       "    <tr>\n",
       "      <th>5</th>\n",
       "      <td>mch</td>\n",
       "      <td>0.05</td>\n",
       "      <td>GO_cross_mch_mut_0.05</td>\n",
       "      <td>2268.25</td>\n",
       "      <td>2268.25</td>\n",
       "      <td>1.0</td>\n",
       "    </tr>\n",
       "    <tr>\n",
       "      <th>6</th>\n",
       "      <td>mch</td>\n",
       "      <td>0.10</td>\n",
       "      <td>GO_cross_mch_mut_0.1</td>\n",
       "      <td>2345.28</td>\n",
       "      <td>2345.28</td>\n",
       "      <td>1.0</td>\n",
       "    </tr>\n",
       "    <tr>\n",
       "      <th>39</th>\n",
       "      <td>uni</td>\n",
       "      <td>0.10</td>\n",
       "      <td>GO_cross_uni_mut_0.1</td>\n",
       "      <td>2449.65</td>\n",
       "      <td>2449.65</td>\n",
       "      <td>1.0</td>\n",
       "    </tr>\n",
       "  </tbody>\n",
       "</table>\n",
       "</div>"
      ],
      "text/plain": [
       "   cross  cauchy_par                   heur      feo      mne  rel\n",
       "28   rnd        0.10   GO_cross_rnd_mut_0.1  2043.78  2043.78  1.0\n",
       "17   mix        0.10   GO_cross_mix_mut_0.1  2256.04  2256.04  1.0\n",
       "5    mch        0.05  GO_cross_mch_mut_0.05  2268.25  2268.25  1.0\n",
       "6    mch        0.10   GO_cross_mch_mut_0.1  2345.28  2345.28  1.0\n",
       "39   uni        0.10   GO_cross_uni_mut_0.1  2449.65  2449.65  1.0"
      ]
     },
     "execution_count": 49,
     "metadata": {},
     "output_type": "execute_result"
    }
   ],
   "source": [
    "# Sestavení kontingenční tabulky s výsledky\n",
    "results_pivot = results.pivot_table(\n",
    "    index=['cross', 'cauchy_par', 'heur'],\n",
    "    values=['neval'],\n",
    "    aggfunc=(rel, mne, feo)\n",
    ")['neval']\n",
    "results_pivot = results_pivot.reset_index()\n",
    "results_pivot.sort_values(by='feo').head()\n",
    "# vykresleni nejlepsich kombinací podle Feoktisova kritéria"
   ]
  },
  {
   "cell_type": "code",
   "execution_count": 60,
   "metadata": {},
   "outputs": [
    {
     "data": {
      "application/javascript": [
       "/* Put everything inside the global mpl namespace */\n",
       "window.mpl = {};\n",
       "\n",
       "\n",
       "mpl.get_websocket_type = function() {\n",
       "    if (typeof(WebSocket) !== 'undefined') {\n",
       "        return WebSocket;\n",
       "    } else if (typeof(MozWebSocket) !== 'undefined') {\n",
       "        return MozWebSocket;\n",
       "    } else {\n",
       "        alert('Your browser does not have WebSocket support.' +\n",
       "              'Please try Chrome, Safari or Firefox ≥ 6. ' +\n",
       "              'Firefox 4 and 5 are also supported but you ' +\n",
       "              'have to enable WebSockets in about:config.');\n",
       "    };\n",
       "}\n",
       "\n",
       "mpl.figure = function(figure_id, websocket, ondownload, parent_element) {\n",
       "    this.id = figure_id;\n",
       "\n",
       "    this.ws = websocket;\n",
       "\n",
       "    this.supports_binary = (this.ws.binaryType != undefined);\n",
       "\n",
       "    if (!this.supports_binary) {\n",
       "        var warnings = document.getElementById(\"mpl-warnings\");\n",
       "        if (warnings) {\n",
       "            warnings.style.display = 'block';\n",
       "            warnings.textContent = (\n",
       "                \"This browser does not support binary websocket messages. \" +\n",
       "                    \"Performance may be slow.\");\n",
       "        }\n",
       "    }\n",
       "\n",
       "    this.imageObj = new Image();\n",
       "\n",
       "    this.context = undefined;\n",
       "    this.message = undefined;\n",
       "    this.canvas = undefined;\n",
       "    this.rubberband_canvas = undefined;\n",
       "    this.rubberband_context = undefined;\n",
       "    this.format_dropdown = undefined;\n",
       "\n",
       "    this.image_mode = 'full';\n",
       "\n",
       "    this.root = $('<div/>');\n",
       "    this._root_extra_style(this.root)\n",
       "    this.root.attr('style', 'display: inline-block');\n",
       "\n",
       "    $(parent_element).append(this.root);\n",
       "\n",
       "    this._init_header(this);\n",
       "    this._init_canvas(this);\n",
       "    this._init_toolbar(this);\n",
       "\n",
       "    var fig = this;\n",
       "\n",
       "    this.waiting = false;\n",
       "\n",
       "    this.ws.onopen =  function () {\n",
       "            fig.send_message(\"supports_binary\", {value: fig.supports_binary});\n",
       "            fig.send_message(\"send_image_mode\", {});\n",
       "            if (mpl.ratio != 1) {\n",
       "                fig.send_message(\"set_dpi_ratio\", {'dpi_ratio': mpl.ratio});\n",
       "            }\n",
       "            fig.send_message(\"refresh\", {});\n",
       "        }\n",
       "\n",
       "    this.imageObj.onload = function() {\n",
       "            if (fig.image_mode == 'full') {\n",
       "                // Full images could contain transparency (where diff images\n",
       "                // almost always do), so we need to clear the canvas so that\n",
       "                // there is no ghosting.\n",
       "                fig.context.clearRect(0, 0, fig.canvas.width, fig.canvas.height);\n",
       "            }\n",
       "            fig.context.drawImage(fig.imageObj, 0, 0);\n",
       "        };\n",
       "\n",
       "    this.imageObj.onunload = function() {\n",
       "        fig.ws.close();\n",
       "    }\n",
       "\n",
       "    this.ws.onmessage = this._make_on_message_function(this);\n",
       "\n",
       "    this.ondownload = ondownload;\n",
       "}\n",
       "\n",
       "mpl.figure.prototype._init_header = function() {\n",
       "    var titlebar = $(\n",
       "        '<div class=\"ui-dialog-titlebar ui-widget-header ui-corner-all ' +\n",
       "        'ui-helper-clearfix\"/>');\n",
       "    var titletext = $(\n",
       "        '<div class=\"ui-dialog-title\" style=\"width: 100%; ' +\n",
       "        'text-align: center; padding: 3px;\"/>');\n",
       "    titlebar.append(titletext)\n",
       "    this.root.append(titlebar);\n",
       "    this.header = titletext[0];\n",
       "}\n",
       "\n",
       "\n",
       "\n",
       "mpl.figure.prototype._canvas_extra_style = function(canvas_div) {\n",
       "\n",
       "}\n",
       "\n",
       "\n",
       "mpl.figure.prototype._root_extra_style = function(canvas_div) {\n",
       "\n",
       "}\n",
       "\n",
       "mpl.figure.prototype._init_canvas = function() {\n",
       "    var fig = this;\n",
       "\n",
       "    var canvas_div = $('<div/>');\n",
       "\n",
       "    canvas_div.attr('style', 'position: relative; clear: both; outline: 0');\n",
       "\n",
       "    function canvas_keyboard_event(event) {\n",
       "        return fig.key_event(event, event['data']);\n",
       "    }\n",
       "\n",
       "    canvas_div.keydown('key_press', canvas_keyboard_event);\n",
       "    canvas_div.keyup('key_release', canvas_keyboard_event);\n",
       "    this.canvas_div = canvas_div\n",
       "    this._canvas_extra_style(canvas_div)\n",
       "    this.root.append(canvas_div);\n",
       "\n",
       "    var canvas = $('<canvas/>');\n",
       "    canvas.addClass('mpl-canvas');\n",
       "    canvas.attr('style', \"left: 0; top: 0; z-index: 0; outline: 0\")\n",
       "\n",
       "    this.canvas = canvas[0];\n",
       "    this.context = canvas[0].getContext(\"2d\");\n",
       "\n",
       "    var backingStore = this.context.backingStorePixelRatio ||\n",
       "\tthis.context.webkitBackingStorePixelRatio ||\n",
       "\tthis.context.mozBackingStorePixelRatio ||\n",
       "\tthis.context.msBackingStorePixelRatio ||\n",
       "\tthis.context.oBackingStorePixelRatio ||\n",
       "\tthis.context.backingStorePixelRatio || 1;\n",
       "\n",
       "    mpl.ratio = (window.devicePixelRatio || 1) / backingStore;\n",
       "\n",
       "    var rubberband = $('<canvas/>');\n",
       "    rubberband.attr('style', \"position: absolute; left: 0; top: 0; z-index: 1;\")\n",
       "\n",
       "    var pass_mouse_events = true;\n",
       "\n",
       "    canvas_div.resizable({\n",
       "        start: function(event, ui) {\n",
       "            pass_mouse_events = false;\n",
       "        },\n",
       "        resize: function(event, ui) {\n",
       "            fig.request_resize(ui.size.width, ui.size.height);\n",
       "        },\n",
       "        stop: function(event, ui) {\n",
       "            pass_mouse_events = true;\n",
       "            fig.request_resize(ui.size.width, ui.size.height);\n",
       "        },\n",
       "    });\n",
       "\n",
       "    function mouse_event_fn(event) {\n",
       "        if (pass_mouse_events)\n",
       "            return fig.mouse_event(event, event['data']);\n",
       "    }\n",
       "\n",
       "    rubberband.mousedown('button_press', mouse_event_fn);\n",
       "    rubberband.mouseup('button_release', mouse_event_fn);\n",
       "    // Throttle sequential mouse events to 1 every 20ms.\n",
       "    rubberband.mousemove('motion_notify', mouse_event_fn);\n",
       "\n",
       "    rubberband.mouseenter('figure_enter', mouse_event_fn);\n",
       "    rubberband.mouseleave('figure_leave', mouse_event_fn);\n",
       "\n",
       "    canvas_div.on(\"wheel\", function (event) {\n",
       "        event = event.originalEvent;\n",
       "        event['data'] = 'scroll'\n",
       "        if (event.deltaY < 0) {\n",
       "            event.step = 1;\n",
       "        } else {\n",
       "            event.step = -1;\n",
       "        }\n",
       "        mouse_event_fn(event);\n",
       "    });\n",
       "\n",
       "    canvas_div.append(canvas);\n",
       "    canvas_div.append(rubberband);\n",
       "\n",
       "    this.rubberband = rubberband;\n",
       "    this.rubberband_canvas = rubberband[0];\n",
       "    this.rubberband_context = rubberband[0].getContext(\"2d\");\n",
       "    this.rubberband_context.strokeStyle = \"#000000\";\n",
       "\n",
       "    this._resize_canvas = function(width, height) {\n",
       "        // Keep the size of the canvas, canvas container, and rubber band\n",
       "        // canvas in synch.\n",
       "        canvas_div.css('width', width)\n",
       "        canvas_div.css('height', height)\n",
       "\n",
       "        canvas.attr('width', width * mpl.ratio);\n",
       "        canvas.attr('height', height * mpl.ratio);\n",
       "        canvas.attr('style', 'width: ' + width + 'px; height: ' + height + 'px;');\n",
       "\n",
       "        rubberband.attr('width', width);\n",
       "        rubberband.attr('height', height);\n",
       "    }\n",
       "\n",
       "    // Set the figure to an initial 600x600px, this will subsequently be updated\n",
       "    // upon first draw.\n",
       "    this._resize_canvas(600, 600);\n",
       "\n",
       "    // Disable right mouse context menu.\n",
       "    $(this.rubberband_canvas).bind(\"contextmenu\",function(e){\n",
       "        return false;\n",
       "    });\n",
       "\n",
       "    function set_focus () {\n",
       "        canvas.focus();\n",
       "        canvas_div.focus();\n",
       "    }\n",
       "\n",
       "    window.setTimeout(set_focus, 100);\n",
       "}\n",
       "\n",
       "mpl.figure.prototype._init_toolbar = function() {\n",
       "    var fig = this;\n",
       "\n",
       "    var nav_element = $('<div/>')\n",
       "    nav_element.attr('style', 'width: 100%');\n",
       "    this.root.append(nav_element);\n",
       "\n",
       "    // Define a callback function for later on.\n",
       "    function toolbar_event(event) {\n",
       "        return fig.toolbar_button_onclick(event['data']);\n",
       "    }\n",
       "    function toolbar_mouse_event(event) {\n",
       "        return fig.toolbar_button_onmouseover(event['data']);\n",
       "    }\n",
       "\n",
       "    for(var toolbar_ind in mpl.toolbar_items) {\n",
       "        var name = mpl.toolbar_items[toolbar_ind][0];\n",
       "        var tooltip = mpl.toolbar_items[toolbar_ind][1];\n",
       "        var image = mpl.toolbar_items[toolbar_ind][2];\n",
       "        var method_name = mpl.toolbar_items[toolbar_ind][3];\n",
       "\n",
       "        if (!name) {\n",
       "            // put a spacer in here.\n",
       "            continue;\n",
       "        }\n",
       "        var button = $('<button/>');\n",
       "        button.addClass('ui-button ui-widget ui-state-default ui-corner-all ' +\n",
       "                        'ui-button-icon-only');\n",
       "        button.attr('role', 'button');\n",
       "        button.attr('aria-disabled', 'false');\n",
       "        button.click(method_name, toolbar_event);\n",
       "        button.mouseover(tooltip, toolbar_mouse_event);\n",
       "\n",
       "        var icon_img = $('<span/>');\n",
       "        icon_img.addClass('ui-button-icon-primary ui-icon');\n",
       "        icon_img.addClass(image);\n",
       "        icon_img.addClass('ui-corner-all');\n",
       "\n",
       "        var tooltip_span = $('<span/>');\n",
       "        tooltip_span.addClass('ui-button-text');\n",
       "        tooltip_span.html(tooltip);\n",
       "\n",
       "        button.append(icon_img);\n",
       "        button.append(tooltip_span);\n",
       "\n",
       "        nav_element.append(button);\n",
       "    }\n",
       "\n",
       "    var fmt_picker_span = $('<span/>');\n",
       "\n",
       "    var fmt_picker = $('<select/>');\n",
       "    fmt_picker.addClass('mpl-toolbar-option ui-widget ui-widget-content');\n",
       "    fmt_picker_span.append(fmt_picker);\n",
       "    nav_element.append(fmt_picker_span);\n",
       "    this.format_dropdown = fmt_picker[0];\n",
       "\n",
       "    for (var ind in mpl.extensions) {\n",
       "        var fmt = mpl.extensions[ind];\n",
       "        var option = $(\n",
       "            '<option/>', {selected: fmt === mpl.default_extension}).html(fmt);\n",
       "        fmt_picker.append(option)\n",
       "    }\n",
       "\n",
       "    // Add hover states to the ui-buttons\n",
       "    $( \".ui-button\" ).hover(\n",
       "        function() { $(this).addClass(\"ui-state-hover\");},\n",
       "        function() { $(this).removeClass(\"ui-state-hover\");}\n",
       "    );\n",
       "\n",
       "    var status_bar = $('<span class=\"mpl-message\"/>');\n",
       "    nav_element.append(status_bar);\n",
       "    this.message = status_bar[0];\n",
       "}\n",
       "\n",
       "mpl.figure.prototype.request_resize = function(x_pixels, y_pixels) {\n",
       "    // Request matplotlib to resize the figure. Matplotlib will then trigger a resize in the client,\n",
       "    // which will in turn request a refresh of the image.\n",
       "    this.send_message('resize', {'width': x_pixels, 'height': y_pixels});\n",
       "}\n",
       "\n",
       "mpl.figure.prototype.send_message = function(type, properties) {\n",
       "    properties['type'] = type;\n",
       "    properties['figure_id'] = this.id;\n",
       "    this.ws.send(JSON.stringify(properties));\n",
       "}\n",
       "\n",
       "mpl.figure.prototype.send_draw_message = function() {\n",
       "    if (!this.waiting) {\n",
       "        this.waiting = true;\n",
       "        this.ws.send(JSON.stringify({type: \"draw\", figure_id: this.id}));\n",
       "    }\n",
       "}\n",
       "\n",
       "\n",
       "mpl.figure.prototype.handle_save = function(fig, msg) {\n",
       "    var format_dropdown = fig.format_dropdown;\n",
       "    var format = format_dropdown.options[format_dropdown.selectedIndex].value;\n",
       "    fig.ondownload(fig, format);\n",
       "}\n",
       "\n",
       "\n",
       "mpl.figure.prototype.handle_resize = function(fig, msg) {\n",
       "    var size = msg['size'];\n",
       "    if (size[0] != fig.canvas.width || size[1] != fig.canvas.height) {\n",
       "        fig._resize_canvas(size[0], size[1]);\n",
       "        fig.send_message(\"refresh\", {});\n",
       "    };\n",
       "}\n",
       "\n",
       "mpl.figure.prototype.handle_rubberband = function(fig, msg) {\n",
       "    var x0 = msg['x0'] / mpl.ratio;\n",
       "    var y0 = (fig.canvas.height - msg['y0']) / mpl.ratio;\n",
       "    var x1 = msg['x1'] / mpl.ratio;\n",
       "    var y1 = (fig.canvas.height - msg['y1']) / mpl.ratio;\n",
       "    x0 = Math.floor(x0) + 0.5;\n",
       "    y0 = Math.floor(y0) + 0.5;\n",
       "    x1 = Math.floor(x1) + 0.5;\n",
       "    y1 = Math.floor(y1) + 0.5;\n",
       "    var min_x = Math.min(x0, x1);\n",
       "    var min_y = Math.min(y0, y1);\n",
       "    var width = Math.abs(x1 - x0);\n",
       "    var height = Math.abs(y1 - y0);\n",
       "\n",
       "    fig.rubberband_context.clearRect(\n",
       "        0, 0, fig.canvas.width, fig.canvas.height);\n",
       "\n",
       "    fig.rubberband_context.strokeRect(min_x, min_y, width, height);\n",
       "}\n",
       "\n",
       "mpl.figure.prototype.handle_figure_label = function(fig, msg) {\n",
       "    // Updates the figure title.\n",
       "    fig.header.textContent = msg['label'];\n",
       "}\n",
       "\n",
       "mpl.figure.prototype.handle_cursor = function(fig, msg) {\n",
       "    var cursor = msg['cursor'];\n",
       "    switch(cursor)\n",
       "    {\n",
       "    case 0:\n",
       "        cursor = 'pointer';\n",
       "        break;\n",
       "    case 1:\n",
       "        cursor = 'default';\n",
       "        break;\n",
       "    case 2:\n",
       "        cursor = 'crosshair';\n",
       "        break;\n",
       "    case 3:\n",
       "        cursor = 'move';\n",
       "        break;\n",
       "    }\n",
       "    fig.rubberband_canvas.style.cursor = cursor;\n",
       "}\n",
       "\n",
       "mpl.figure.prototype.handle_message = function(fig, msg) {\n",
       "    fig.message.textContent = msg['message'];\n",
       "}\n",
       "\n",
       "mpl.figure.prototype.handle_draw = function(fig, msg) {\n",
       "    // Request the server to send over a new figure.\n",
       "    fig.send_draw_message();\n",
       "}\n",
       "\n",
       "mpl.figure.prototype.handle_image_mode = function(fig, msg) {\n",
       "    fig.image_mode = msg['mode'];\n",
       "}\n",
       "\n",
       "mpl.figure.prototype.updated_canvas_event = function() {\n",
       "    // Called whenever the canvas gets updated.\n",
       "    this.send_message(\"ack\", {});\n",
       "}\n",
       "\n",
       "// A function to construct a web socket function for onmessage handling.\n",
       "// Called in the figure constructor.\n",
       "mpl.figure.prototype._make_on_message_function = function(fig) {\n",
       "    return function socket_on_message(evt) {\n",
       "        if (evt.data instanceof Blob) {\n",
       "            /* FIXME: We get \"Resource interpreted as Image but\n",
       "             * transferred with MIME type text/plain:\" errors on\n",
       "             * Chrome.  But how to set the MIME type?  It doesn't seem\n",
       "             * to be part of the websocket stream */\n",
       "            evt.data.type = \"image/png\";\n",
       "\n",
       "            /* Free the memory for the previous frames */\n",
       "            if (fig.imageObj.src) {\n",
       "                (window.URL || window.webkitURL).revokeObjectURL(\n",
       "                    fig.imageObj.src);\n",
       "            }\n",
       "\n",
       "            fig.imageObj.src = (window.URL || window.webkitURL).createObjectURL(\n",
       "                evt.data);\n",
       "            fig.updated_canvas_event();\n",
       "            fig.waiting = false;\n",
       "            return;\n",
       "        }\n",
       "        else if (typeof evt.data === 'string' && evt.data.slice(0, 21) == \"data:image/png;base64\") {\n",
       "            fig.imageObj.src = evt.data;\n",
       "            fig.updated_canvas_event();\n",
       "            fig.waiting = false;\n",
       "            return;\n",
       "        }\n",
       "\n",
       "        var msg = JSON.parse(evt.data);\n",
       "        var msg_type = msg['type'];\n",
       "\n",
       "        // Call the  \"handle_{type}\" callback, which takes\n",
       "        // the figure and JSON message as its only arguments.\n",
       "        try {\n",
       "            var callback = fig[\"handle_\" + msg_type];\n",
       "        } catch (e) {\n",
       "            console.log(\"No handler for the '\" + msg_type + \"' message type: \", msg);\n",
       "            return;\n",
       "        }\n",
       "\n",
       "        if (callback) {\n",
       "            try {\n",
       "                // console.log(\"Handling '\" + msg_type + \"' message: \", msg);\n",
       "                callback(fig, msg);\n",
       "            } catch (e) {\n",
       "                console.log(\"Exception inside the 'handler_\" + msg_type + \"' callback:\", e, e.stack, msg);\n",
       "            }\n",
       "        }\n",
       "    };\n",
       "}\n",
       "\n",
       "// from http://stackoverflow.com/questions/1114465/getting-mouse-location-in-canvas\n",
       "mpl.findpos = function(e) {\n",
       "    //this section is from http://www.quirksmode.org/js/events_properties.html\n",
       "    var targ;\n",
       "    if (!e)\n",
       "        e = window.event;\n",
       "    if (e.target)\n",
       "        targ = e.target;\n",
       "    else if (e.srcElement)\n",
       "        targ = e.srcElement;\n",
       "    if (targ.nodeType == 3) // defeat Safari bug\n",
       "        targ = targ.parentNode;\n",
       "\n",
       "    // jQuery normalizes the pageX and pageY\n",
       "    // pageX,Y are the mouse positions relative to the document\n",
       "    // offset() returns the position of the element relative to the document\n",
       "    var x = e.pageX - $(targ).offset().left;\n",
       "    var y = e.pageY - $(targ).offset().top;\n",
       "\n",
       "    return {\"x\": x, \"y\": y};\n",
       "};\n",
       "\n",
       "/*\n",
       " * return a copy of an object with only non-object keys\n",
       " * we need this to avoid circular references\n",
       " * http://stackoverflow.com/a/24161582/3208463\n",
       " */\n",
       "function simpleKeys (original) {\n",
       "  return Object.keys(original).reduce(function (obj, key) {\n",
       "    if (typeof original[key] !== 'object')\n",
       "        obj[key] = original[key]\n",
       "    return obj;\n",
       "  }, {});\n",
       "}\n",
       "\n",
       "mpl.figure.prototype.mouse_event = function(event, name) {\n",
       "    var canvas_pos = mpl.findpos(event)\n",
       "\n",
       "    if (name === 'button_press')\n",
       "    {\n",
       "        this.canvas.focus();\n",
       "        this.canvas_div.focus();\n",
       "    }\n",
       "\n",
       "    var x = canvas_pos.x * mpl.ratio;\n",
       "    var y = canvas_pos.y * mpl.ratio;\n",
       "\n",
       "    this.send_message(name, {x: x, y: y, button: event.button,\n",
       "                             step: event.step,\n",
       "                             guiEvent: simpleKeys(event)});\n",
       "\n",
       "    /* This prevents the web browser from automatically changing to\n",
       "     * the text insertion cursor when the button is pressed.  We want\n",
       "     * to control all of the cursor setting manually through the\n",
       "     * 'cursor' event from matplotlib */\n",
       "    event.preventDefault();\n",
       "    return false;\n",
       "}\n",
       "\n",
       "mpl.figure.prototype._key_event_extra = function(event, name) {\n",
       "    // Handle any extra behaviour associated with a key event\n",
       "}\n",
       "\n",
       "mpl.figure.prototype.key_event = function(event, name) {\n",
       "\n",
       "    // Prevent repeat events\n",
       "    if (name == 'key_press')\n",
       "    {\n",
       "        if (event.which === this._key)\n",
       "            return;\n",
       "        else\n",
       "            this._key = event.which;\n",
       "    }\n",
       "    if (name == 'key_release')\n",
       "        this._key = null;\n",
       "\n",
       "    var value = '';\n",
       "    if (event.ctrlKey && event.which != 17)\n",
       "        value += \"ctrl+\";\n",
       "    if (event.altKey && event.which != 18)\n",
       "        value += \"alt+\";\n",
       "    if (event.shiftKey && event.which != 16)\n",
       "        value += \"shift+\";\n",
       "\n",
       "    value += 'k';\n",
       "    value += event.which.toString();\n",
       "\n",
       "    this._key_event_extra(event, name);\n",
       "\n",
       "    this.send_message(name, {key: value,\n",
       "                             guiEvent: simpleKeys(event)});\n",
       "    return false;\n",
       "}\n",
       "\n",
       "mpl.figure.prototype.toolbar_button_onclick = function(name) {\n",
       "    if (name == 'download') {\n",
       "        this.handle_save(this, null);\n",
       "    } else {\n",
       "        this.send_message(\"toolbar_button\", {name: name});\n",
       "    }\n",
       "};\n",
       "\n",
       "mpl.figure.prototype.toolbar_button_onmouseover = function(tooltip) {\n",
       "    this.message.textContent = tooltip;\n",
       "};\n",
       "mpl.toolbar_items = [[\"Home\", \"Reset original view\", \"fa fa-home icon-home\", \"home\"], [\"Back\", \"Back to previous view\", \"fa fa-arrow-left icon-arrow-left\", \"back\"], [\"Forward\", \"Forward to next view\", \"fa fa-arrow-right icon-arrow-right\", \"forward\"], [\"\", \"\", \"\", \"\"], [\"Pan\", \"Pan axes with left mouse, zoom with right\", \"fa fa-arrows icon-move\", \"pan\"], [\"Zoom\", \"Zoom to rectangle\", \"fa fa-square-o icon-check-empty\", \"zoom\"], [\"\", \"\", \"\", \"\"], [\"Download\", \"Download plot\", \"fa fa-floppy-o icon-save\", \"download\"]];\n",
       "\n",
       "mpl.extensions = [\"eps\", \"jpeg\", \"pdf\", \"png\", \"ps\", \"raw\", \"svg\", \"tif\"];\n",
       "\n",
       "mpl.default_extension = \"png\";var comm_websocket_adapter = function(comm) {\n",
       "    // Create a \"websocket\"-like object which calls the given IPython comm\n",
       "    // object with the appropriate methods. Currently this is a non binary\n",
       "    // socket, so there is still some room for performance tuning.\n",
       "    var ws = {};\n",
       "\n",
       "    ws.close = function() {\n",
       "        comm.close()\n",
       "    };\n",
       "    ws.send = function(m) {\n",
       "        //console.log('sending', m);\n",
       "        comm.send(m);\n",
       "    };\n",
       "    // Register the callback with on_msg.\n",
       "    comm.on_msg(function(msg) {\n",
       "        //console.log('receiving', msg['content']['data'], msg);\n",
       "        // Pass the mpl event to the overridden (by mpl) onmessage function.\n",
       "        ws.onmessage(msg['content']['data'])\n",
       "    });\n",
       "    return ws;\n",
       "}\n",
       "\n",
       "mpl.mpl_figure_comm = function(comm, msg) {\n",
       "    // This is the function which gets called when the mpl process\n",
       "    // starts-up an IPython Comm through the \"matplotlib\" channel.\n",
       "\n",
       "    var id = msg.content.data.id;\n",
       "    // Get hold of the div created by the display call when the Comm\n",
       "    // socket was opened in Python.\n",
       "    var element = $(\"#\" + id);\n",
       "    var ws_proxy = comm_websocket_adapter(comm)\n",
       "\n",
       "    function ondownload(figure, format) {\n",
       "        window.open(figure.imageObj.src);\n",
       "    }\n",
       "\n",
       "    var fig = new mpl.figure(id, ws_proxy,\n",
       "                           ondownload,\n",
       "                           element.get(0));\n",
       "\n",
       "    // Call onopen now - mpl needs it, as it is assuming we've passed it a real\n",
       "    // web socket which is closed, not our websocket->open comm proxy.\n",
       "    ws_proxy.onopen();\n",
       "\n",
       "    fig.parent_element = element.get(0);\n",
       "    fig.cell_info = mpl.find_output_cell(\"<div id='\" + id + \"'></div>\");\n",
       "    if (!fig.cell_info) {\n",
       "        console.error(\"Failed to find cell for figure\", id, fig);\n",
       "        return;\n",
       "    }\n",
       "\n",
       "    var output_index = fig.cell_info[2]\n",
       "    var cell = fig.cell_info[0];\n",
       "\n",
       "};\n",
       "\n",
       "mpl.figure.prototype.handle_close = function(fig, msg) {\n",
       "    var width = fig.canvas.width/mpl.ratio\n",
       "    fig.root.unbind('remove')\n",
       "\n",
       "    // Update the output cell to use the data from the current canvas.\n",
       "    fig.push_to_output();\n",
       "    var dataURL = fig.canvas.toDataURL();\n",
       "    // Re-enable the keyboard manager in IPython - without this line, in FF,\n",
       "    // the notebook keyboard shortcuts fail.\n",
       "    IPython.keyboard_manager.enable()\n",
       "    $(fig.parent_element).html('<img src=\"' + dataURL + '\" width=\"' + width + '\">');\n",
       "    fig.close_ws(fig, msg);\n",
       "}\n",
       "\n",
       "mpl.figure.prototype.close_ws = function(fig, msg){\n",
       "    fig.send_message('closing', msg);\n",
       "    // fig.ws.close()\n",
       "}\n",
       "\n",
       "mpl.figure.prototype.push_to_output = function(remove_interactive) {\n",
       "    // Turn the data on the canvas into data in the output cell.\n",
       "    var width = this.canvas.width/mpl.ratio\n",
       "    var dataURL = this.canvas.toDataURL();\n",
       "    this.cell_info[1]['text/html'] = '<img src=\"' + dataURL + '\" width=\"' + width + '\">';\n",
       "}\n",
       "\n",
       "mpl.figure.prototype.updated_canvas_event = function() {\n",
       "    // Tell IPython that the notebook contents must change.\n",
       "    IPython.notebook.set_dirty(true);\n",
       "    this.send_message(\"ack\", {});\n",
       "    var fig = this;\n",
       "    // Wait a second, then push the new image to the DOM so\n",
       "    // that it is saved nicely (might be nice to debounce this).\n",
       "    setTimeout(function () { fig.push_to_output() }, 1000);\n",
       "}\n",
       "\n",
       "mpl.figure.prototype._init_toolbar = function() {\n",
       "    var fig = this;\n",
       "\n",
       "    var nav_element = $('<div/>')\n",
       "    nav_element.attr('style', 'width: 100%');\n",
       "    this.root.append(nav_element);\n",
       "\n",
       "    // Define a callback function for later on.\n",
       "    function toolbar_event(event) {\n",
       "        return fig.toolbar_button_onclick(event['data']);\n",
       "    }\n",
       "    function toolbar_mouse_event(event) {\n",
       "        return fig.toolbar_button_onmouseover(event['data']);\n",
       "    }\n",
       "\n",
       "    for(var toolbar_ind in mpl.toolbar_items){\n",
       "        var name = mpl.toolbar_items[toolbar_ind][0];\n",
       "        var tooltip = mpl.toolbar_items[toolbar_ind][1];\n",
       "        var image = mpl.toolbar_items[toolbar_ind][2];\n",
       "        var method_name = mpl.toolbar_items[toolbar_ind][3];\n",
       "\n",
       "        if (!name) { continue; };\n",
       "\n",
       "        var button = $('<button class=\"btn btn-default\" href=\"#\" title=\"' + name + '\"><i class=\"fa ' + image + ' fa-lg\"></i></button>');\n",
       "        button.click(method_name, toolbar_event);\n",
       "        button.mouseover(tooltip, toolbar_mouse_event);\n",
       "        nav_element.append(button);\n",
       "    }\n",
       "\n",
       "    // Add the status bar.\n",
       "    var status_bar = $('<span class=\"mpl-message\" style=\"text-align:right; float: right;\"/>');\n",
       "    nav_element.append(status_bar);\n",
       "    this.message = status_bar[0];\n",
       "\n",
       "    // Add the close button to the window.\n",
       "    var buttongrp = $('<div class=\"btn-group inline pull-right\"></div>');\n",
       "    var button = $('<button class=\"btn btn-mini btn-primary\" href=\"#\" title=\"Stop Interaction\"><i class=\"fa fa-power-off icon-remove icon-large\"></i></button>');\n",
       "    button.click(function (evt) { fig.handle_close(fig, {}); } );\n",
       "    button.mouseover('Stop Interaction', toolbar_mouse_event);\n",
       "    buttongrp.append(button);\n",
       "    var titlebar = this.root.find($('.ui-dialog-titlebar'));\n",
       "    titlebar.prepend(buttongrp);\n",
       "}\n",
       "\n",
       "mpl.figure.prototype._root_extra_style = function(el){\n",
       "    var fig = this\n",
       "    el.on(\"remove\", function(){\n",
       "\tfig.close_ws(fig, {});\n",
       "    });\n",
       "}\n",
       "\n",
       "mpl.figure.prototype._canvas_extra_style = function(el){\n",
       "    // this is important to make the div 'focusable\n",
       "    el.attr('tabindex', 0)\n",
       "    // reach out to IPython and tell the keyboard manager to turn it's self\n",
       "    // off when our div gets focus\n",
       "\n",
       "    // location in version 3\n",
       "    if (IPython.notebook.keyboard_manager) {\n",
       "        IPython.notebook.keyboard_manager.register_events(el);\n",
       "    }\n",
       "    else {\n",
       "        // location in version 2\n",
       "        IPython.keyboard_manager.register_events(el);\n",
       "    }\n",
       "\n",
       "}\n",
       "\n",
       "mpl.figure.prototype._key_event_extra = function(event, name) {\n",
       "    var manager = IPython.notebook.keyboard_manager;\n",
       "    if (!manager)\n",
       "        manager = IPython.keyboard_manager;\n",
       "\n",
       "    // Check for shift+enter\n",
       "    if (event.shiftKey && event.which == 13) {\n",
       "        this.canvas_div.blur();\n",
       "        event.shiftKey = false;\n",
       "        // Send a \"J\" for go to next cell\n",
       "        event.which = 74;\n",
       "        event.keyCode = 74;\n",
       "        manager.command_mode();\n",
       "        manager.handle_keydown(event);\n",
       "    }\n",
       "}\n",
       "\n",
       "mpl.figure.prototype.handle_save = function(fig, msg) {\n",
       "    fig.ondownload(fig, null);\n",
       "}\n",
       "\n",
       "\n",
       "mpl.find_output_cell = function(html_output) {\n",
       "    // Return the cell and output element which can be found *uniquely* in the notebook.\n",
       "    // Note - this is a bit hacky, but it is done because the \"notebook_saving.Notebook\"\n",
       "    // IPython event is triggered only after the cells have been serialised, which for\n",
       "    // our purposes (turning an active figure into a static one), is too late.\n",
       "    var cells = IPython.notebook.get_cells();\n",
       "    var ncells = cells.length;\n",
       "    for (var i=0; i<ncells; i++) {\n",
       "        var cell = cells[i];\n",
       "        if (cell.cell_type === 'code'){\n",
       "            for (var j=0; j<cell.output_area.outputs.length; j++) {\n",
       "                var data = cell.output_area.outputs[j];\n",
       "                if (data.data) {\n",
       "                    // IPython >= 3 moved mimebundle to data attribute of output\n",
       "                    data = data.data;\n",
       "                }\n",
       "                if (data['text/html'] == html_output) {\n",
       "                    return [cell, data, j];\n",
       "                }\n",
       "            }\n",
       "        }\n",
       "    }\n",
       "}\n",
       "\n",
       "// Register the function which deals with the matplotlib target/channel.\n",
       "// The kernel may be null if the page has been refreshed.\n",
       "if (IPython.notebook.kernel != null) {\n",
       "    IPython.notebook.kernel.comm_manager.register_target('matplotlib', mpl.mpl_figure_comm);\n",
       "}\n"
      ],
      "text/plain": [
       "<IPython.core.display.Javascript object>"
      ]
     },
     "metadata": {},
     "output_type": "display_data"
    },
    {
     "data": {
      "text/html": [
       "<img src=\"data:image/png;base64,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\" width=\"640\">"
      ],
      "text/plain": [
       "<IPython.core.display.HTML object>"
      ]
     },
     "metadata": {},
     "output_type": "display_data"
    },
    {
     "data": {
      "application/javascript": [
       "/* Put everything inside the global mpl namespace */\n",
       "window.mpl = {};\n",
       "\n",
       "\n",
       "mpl.get_websocket_type = function() {\n",
       "    if (typeof(WebSocket) !== 'undefined') {\n",
       "        return WebSocket;\n",
       "    } else if (typeof(MozWebSocket) !== 'undefined') {\n",
       "        return MozWebSocket;\n",
       "    } else {\n",
       "        alert('Your browser does not have WebSocket support.' +\n",
       "              'Please try Chrome, Safari or Firefox ≥ 6. ' +\n",
       "              'Firefox 4 and 5 are also supported but you ' +\n",
       "              'have to enable WebSockets in about:config.');\n",
       "    };\n",
       "}\n",
       "\n",
       "mpl.figure = function(figure_id, websocket, ondownload, parent_element) {\n",
       "    this.id = figure_id;\n",
       "\n",
       "    this.ws = websocket;\n",
       "\n",
       "    this.supports_binary = (this.ws.binaryType != undefined);\n",
       "\n",
       "    if (!this.supports_binary) {\n",
       "        var warnings = document.getElementById(\"mpl-warnings\");\n",
       "        if (warnings) {\n",
       "            warnings.style.display = 'block';\n",
       "            warnings.textContent = (\n",
       "                \"This browser does not support binary websocket messages. \" +\n",
       "                    \"Performance may be slow.\");\n",
       "        }\n",
       "    }\n",
       "\n",
       "    this.imageObj = new Image();\n",
       "\n",
       "    this.context = undefined;\n",
       "    this.message = undefined;\n",
       "    this.canvas = undefined;\n",
       "    this.rubberband_canvas = undefined;\n",
       "    this.rubberband_context = undefined;\n",
       "    this.format_dropdown = undefined;\n",
       "\n",
       "    this.image_mode = 'full';\n",
       "\n",
       "    this.root = $('<div/>');\n",
       "    this._root_extra_style(this.root)\n",
       "    this.root.attr('style', 'display: inline-block');\n",
       "\n",
       "    $(parent_element).append(this.root);\n",
       "\n",
       "    this._init_header(this);\n",
       "    this._init_canvas(this);\n",
       "    this._init_toolbar(this);\n",
       "\n",
       "    var fig = this;\n",
       "\n",
       "    this.waiting = false;\n",
       "\n",
       "    this.ws.onopen =  function () {\n",
       "            fig.send_message(\"supports_binary\", {value: fig.supports_binary});\n",
       "            fig.send_message(\"send_image_mode\", {});\n",
       "            if (mpl.ratio != 1) {\n",
       "                fig.send_message(\"set_dpi_ratio\", {'dpi_ratio': mpl.ratio});\n",
       "            }\n",
       "            fig.send_message(\"refresh\", {});\n",
       "        }\n",
       "\n",
       "    this.imageObj.onload = function() {\n",
       "            if (fig.image_mode == 'full') {\n",
       "                // Full images could contain transparency (where diff images\n",
       "                // almost always do), so we need to clear the canvas so that\n",
       "                // there is no ghosting.\n",
       "                fig.context.clearRect(0, 0, fig.canvas.width, fig.canvas.height);\n",
       "            }\n",
       "            fig.context.drawImage(fig.imageObj, 0, 0);\n",
       "        };\n",
       "\n",
       "    this.imageObj.onunload = function() {\n",
       "        fig.ws.close();\n",
       "    }\n",
       "\n",
       "    this.ws.onmessage = this._make_on_message_function(this);\n",
       "\n",
       "    this.ondownload = ondownload;\n",
       "}\n",
       "\n",
       "mpl.figure.prototype._init_header = function() {\n",
       "    var titlebar = $(\n",
       "        '<div class=\"ui-dialog-titlebar ui-widget-header ui-corner-all ' +\n",
       "        'ui-helper-clearfix\"/>');\n",
       "    var titletext = $(\n",
       "        '<div class=\"ui-dialog-title\" style=\"width: 100%; ' +\n",
       "        'text-align: center; padding: 3px;\"/>');\n",
       "    titlebar.append(titletext)\n",
       "    this.root.append(titlebar);\n",
       "    this.header = titletext[0];\n",
       "}\n",
       "\n",
       "\n",
       "\n",
       "mpl.figure.prototype._canvas_extra_style = function(canvas_div) {\n",
       "\n",
       "}\n",
       "\n",
       "\n",
       "mpl.figure.prototype._root_extra_style = function(canvas_div) {\n",
       "\n",
       "}\n",
       "\n",
       "mpl.figure.prototype._init_canvas = function() {\n",
       "    var fig = this;\n",
       "\n",
       "    var canvas_div = $('<div/>');\n",
       "\n",
       "    canvas_div.attr('style', 'position: relative; clear: both; outline: 0');\n",
       "\n",
       "    function canvas_keyboard_event(event) {\n",
       "        return fig.key_event(event, event['data']);\n",
       "    }\n",
       "\n",
       "    canvas_div.keydown('key_press', canvas_keyboard_event);\n",
       "    canvas_div.keyup('key_release', canvas_keyboard_event);\n",
       "    this.canvas_div = canvas_div\n",
       "    this._canvas_extra_style(canvas_div)\n",
       "    this.root.append(canvas_div);\n",
       "\n",
       "    var canvas = $('<canvas/>');\n",
       "    canvas.addClass('mpl-canvas');\n",
       "    canvas.attr('style', \"left: 0; top: 0; z-index: 0; outline: 0\")\n",
       "\n",
       "    this.canvas = canvas[0];\n",
       "    this.context = canvas[0].getContext(\"2d\");\n",
       "\n",
       "    var backingStore = this.context.backingStorePixelRatio ||\n",
       "\tthis.context.webkitBackingStorePixelRatio ||\n",
       "\tthis.context.mozBackingStorePixelRatio ||\n",
       "\tthis.context.msBackingStorePixelRatio ||\n",
       "\tthis.context.oBackingStorePixelRatio ||\n",
       "\tthis.context.backingStorePixelRatio || 1;\n",
       "\n",
       "    mpl.ratio = (window.devicePixelRatio || 1) / backingStore;\n",
       "\n",
       "    var rubberband = $('<canvas/>');\n",
       "    rubberband.attr('style', \"position: absolute; left: 0; top: 0; z-index: 1;\")\n",
       "\n",
       "    var pass_mouse_events = true;\n",
       "\n",
       "    canvas_div.resizable({\n",
       "        start: function(event, ui) {\n",
       "            pass_mouse_events = false;\n",
       "        },\n",
       "        resize: function(event, ui) {\n",
       "            fig.request_resize(ui.size.width, ui.size.height);\n",
       "        },\n",
       "        stop: function(event, ui) {\n",
       "            pass_mouse_events = true;\n",
       "            fig.request_resize(ui.size.width, ui.size.height);\n",
       "        },\n",
       "    });\n",
       "\n",
       "    function mouse_event_fn(event) {\n",
       "        if (pass_mouse_events)\n",
       "            return fig.mouse_event(event, event['data']);\n",
       "    }\n",
       "\n",
       "    rubberband.mousedown('button_press', mouse_event_fn);\n",
       "    rubberband.mouseup('button_release', mouse_event_fn);\n",
       "    // Throttle sequential mouse events to 1 every 20ms.\n",
       "    rubberband.mousemove('motion_notify', mouse_event_fn);\n",
       "\n",
       "    rubberband.mouseenter('figure_enter', mouse_event_fn);\n",
       "    rubberband.mouseleave('figure_leave', mouse_event_fn);\n",
       "\n",
       "    canvas_div.on(\"wheel\", function (event) {\n",
       "        event = event.originalEvent;\n",
       "        event['data'] = 'scroll'\n",
       "        if (event.deltaY < 0) {\n",
       "            event.step = 1;\n",
       "        } else {\n",
       "            event.step = -1;\n",
       "        }\n",
       "        mouse_event_fn(event);\n",
       "    });\n",
       "\n",
       "    canvas_div.append(canvas);\n",
       "    canvas_div.append(rubberband);\n",
       "\n",
       "    this.rubberband = rubberband;\n",
       "    this.rubberband_canvas = rubberband[0];\n",
       "    this.rubberband_context = rubberband[0].getContext(\"2d\");\n",
       "    this.rubberband_context.strokeStyle = \"#000000\";\n",
       "\n",
       "    this._resize_canvas = function(width, height) {\n",
       "        // Keep the size of the canvas, canvas container, and rubber band\n",
       "        // canvas in synch.\n",
       "        canvas_div.css('width', width)\n",
       "        canvas_div.css('height', height)\n",
       "\n",
       "        canvas.attr('width', width * mpl.ratio);\n",
       "        canvas.attr('height', height * mpl.ratio);\n",
       "        canvas.attr('style', 'width: ' + width + 'px; height: ' + height + 'px;');\n",
       "\n",
       "        rubberband.attr('width', width);\n",
       "        rubberband.attr('height', height);\n",
       "    }\n",
       "\n",
       "    // Set the figure to an initial 600x600px, this will subsequently be updated\n",
       "    // upon first draw.\n",
       "    this._resize_canvas(600, 600);\n",
       "\n",
       "    // Disable right mouse context menu.\n",
       "    $(this.rubberband_canvas).bind(\"contextmenu\",function(e){\n",
       "        return false;\n",
       "    });\n",
       "\n",
       "    function set_focus () {\n",
       "        canvas.focus();\n",
       "        canvas_div.focus();\n",
       "    }\n",
       "\n",
       "    window.setTimeout(set_focus, 100);\n",
       "}\n",
       "\n",
       "mpl.figure.prototype._init_toolbar = function() {\n",
       "    var fig = this;\n",
       "\n",
       "    var nav_element = $('<div/>')\n",
       "    nav_element.attr('style', 'width: 100%');\n",
       "    this.root.append(nav_element);\n",
       "\n",
       "    // Define a callback function for later on.\n",
       "    function toolbar_event(event) {\n",
       "        return fig.toolbar_button_onclick(event['data']);\n",
       "    }\n",
       "    function toolbar_mouse_event(event) {\n",
       "        return fig.toolbar_button_onmouseover(event['data']);\n",
       "    }\n",
       "\n",
       "    for(var toolbar_ind in mpl.toolbar_items) {\n",
       "        var name = mpl.toolbar_items[toolbar_ind][0];\n",
       "        var tooltip = mpl.toolbar_items[toolbar_ind][1];\n",
       "        var image = mpl.toolbar_items[toolbar_ind][2];\n",
       "        var method_name = mpl.toolbar_items[toolbar_ind][3];\n",
       "\n",
       "        if (!name) {\n",
       "            // put a spacer in here.\n",
       "            continue;\n",
       "        }\n",
       "        var button = $('<button/>');\n",
       "        button.addClass('ui-button ui-widget ui-state-default ui-corner-all ' +\n",
       "                        'ui-button-icon-only');\n",
       "        button.attr('role', 'button');\n",
       "        button.attr('aria-disabled', 'false');\n",
       "        button.click(method_name, toolbar_event);\n",
       "        button.mouseover(tooltip, toolbar_mouse_event);\n",
       "\n",
       "        var icon_img = $('<span/>');\n",
       "        icon_img.addClass('ui-button-icon-primary ui-icon');\n",
       "        icon_img.addClass(image);\n",
       "        icon_img.addClass('ui-corner-all');\n",
       "\n",
       "        var tooltip_span = $('<span/>');\n",
       "        tooltip_span.addClass('ui-button-text');\n",
       "        tooltip_span.html(tooltip);\n",
       "\n",
       "        button.append(icon_img);\n",
       "        button.append(tooltip_span);\n",
       "\n",
       "        nav_element.append(button);\n",
       "    }\n",
       "\n",
       "    var fmt_picker_span = $('<span/>');\n",
       "\n",
       "    var fmt_picker = $('<select/>');\n",
       "    fmt_picker.addClass('mpl-toolbar-option ui-widget ui-widget-content');\n",
       "    fmt_picker_span.append(fmt_picker);\n",
       "    nav_element.append(fmt_picker_span);\n",
       "    this.format_dropdown = fmt_picker[0];\n",
       "\n",
       "    for (var ind in mpl.extensions) {\n",
       "        var fmt = mpl.extensions[ind];\n",
       "        var option = $(\n",
       "            '<option/>', {selected: fmt === mpl.default_extension}).html(fmt);\n",
       "        fmt_picker.append(option)\n",
       "    }\n",
       "\n",
       "    // Add hover states to the ui-buttons\n",
       "    $( \".ui-button\" ).hover(\n",
       "        function() { $(this).addClass(\"ui-state-hover\");},\n",
       "        function() { $(this).removeClass(\"ui-state-hover\");}\n",
       "    );\n",
       "\n",
       "    var status_bar = $('<span class=\"mpl-message\"/>');\n",
       "    nav_element.append(status_bar);\n",
       "    this.message = status_bar[0];\n",
       "}\n",
       "\n",
       "mpl.figure.prototype.request_resize = function(x_pixels, y_pixels) {\n",
       "    // Request matplotlib to resize the figure. Matplotlib will then trigger a resize in the client,\n",
       "    // which will in turn request a refresh of the image.\n",
       "    this.send_message('resize', {'width': x_pixels, 'height': y_pixels});\n",
       "}\n",
       "\n",
       "mpl.figure.prototype.send_message = function(type, properties) {\n",
       "    properties['type'] = type;\n",
       "    properties['figure_id'] = this.id;\n",
       "    this.ws.send(JSON.stringify(properties));\n",
       "}\n",
       "\n",
       "mpl.figure.prototype.send_draw_message = function() {\n",
       "    if (!this.waiting) {\n",
       "        this.waiting = true;\n",
       "        this.ws.send(JSON.stringify({type: \"draw\", figure_id: this.id}));\n",
       "    }\n",
       "}\n",
       "\n",
       "\n",
       "mpl.figure.prototype.handle_save = function(fig, msg) {\n",
       "    var format_dropdown = fig.format_dropdown;\n",
       "    var format = format_dropdown.options[format_dropdown.selectedIndex].value;\n",
       "    fig.ondownload(fig, format);\n",
       "}\n",
       "\n",
       "\n",
       "mpl.figure.prototype.handle_resize = function(fig, msg) {\n",
       "    var size = msg['size'];\n",
       "    if (size[0] != fig.canvas.width || size[1] != fig.canvas.height) {\n",
       "        fig._resize_canvas(size[0], size[1]);\n",
       "        fig.send_message(\"refresh\", {});\n",
       "    };\n",
       "}\n",
       "\n",
       "mpl.figure.prototype.handle_rubberband = function(fig, msg) {\n",
       "    var x0 = msg['x0'] / mpl.ratio;\n",
       "    var y0 = (fig.canvas.height - msg['y0']) / mpl.ratio;\n",
       "    var x1 = msg['x1'] / mpl.ratio;\n",
       "    var y1 = (fig.canvas.height - msg['y1']) / mpl.ratio;\n",
       "    x0 = Math.floor(x0) + 0.5;\n",
       "    y0 = Math.floor(y0) + 0.5;\n",
       "    x1 = Math.floor(x1) + 0.5;\n",
       "    y1 = Math.floor(y1) + 0.5;\n",
       "    var min_x = Math.min(x0, x1);\n",
       "    var min_y = Math.min(y0, y1);\n",
       "    var width = Math.abs(x1 - x0);\n",
       "    var height = Math.abs(y1 - y0);\n",
       "\n",
       "    fig.rubberband_context.clearRect(\n",
       "        0, 0, fig.canvas.width, fig.canvas.height);\n",
       "\n",
       "    fig.rubberband_context.strokeRect(min_x, min_y, width, height);\n",
       "}\n",
       "\n",
       "mpl.figure.prototype.handle_figure_label = function(fig, msg) {\n",
       "    // Updates the figure title.\n",
       "    fig.header.textContent = msg['label'];\n",
       "}\n",
       "\n",
       "mpl.figure.prototype.handle_cursor = function(fig, msg) {\n",
       "    var cursor = msg['cursor'];\n",
       "    switch(cursor)\n",
       "    {\n",
       "    case 0:\n",
       "        cursor = 'pointer';\n",
       "        break;\n",
       "    case 1:\n",
       "        cursor = 'default';\n",
       "        break;\n",
       "    case 2:\n",
       "        cursor = 'crosshair';\n",
       "        break;\n",
       "    case 3:\n",
       "        cursor = 'move';\n",
       "        break;\n",
       "    }\n",
       "    fig.rubberband_canvas.style.cursor = cursor;\n",
       "}\n",
       "\n",
       "mpl.figure.prototype.handle_message = function(fig, msg) {\n",
       "    fig.message.textContent = msg['message'];\n",
       "}\n",
       "\n",
       "mpl.figure.prototype.handle_draw = function(fig, msg) {\n",
       "    // Request the server to send over a new figure.\n",
       "    fig.send_draw_message();\n",
       "}\n",
       "\n",
       "mpl.figure.prototype.handle_image_mode = function(fig, msg) {\n",
       "    fig.image_mode = msg['mode'];\n",
       "}\n",
       "\n",
       "mpl.figure.prototype.updated_canvas_event = function() {\n",
       "    // Called whenever the canvas gets updated.\n",
       "    this.send_message(\"ack\", {});\n",
       "}\n",
       "\n",
       "// A function to construct a web socket function for onmessage handling.\n",
       "// Called in the figure constructor.\n",
       "mpl.figure.prototype._make_on_message_function = function(fig) {\n",
       "    return function socket_on_message(evt) {\n",
       "        if (evt.data instanceof Blob) {\n",
       "            /* FIXME: We get \"Resource interpreted as Image but\n",
       "             * transferred with MIME type text/plain:\" errors on\n",
       "             * Chrome.  But how to set the MIME type?  It doesn't seem\n",
       "             * to be part of the websocket stream */\n",
       "            evt.data.type = \"image/png\";\n",
       "\n",
       "            /* Free the memory for the previous frames */\n",
       "            if (fig.imageObj.src) {\n",
       "                (window.URL || window.webkitURL).revokeObjectURL(\n",
       "                    fig.imageObj.src);\n",
       "            }\n",
       "\n",
       "            fig.imageObj.src = (window.URL || window.webkitURL).createObjectURL(\n",
       "                evt.data);\n",
       "            fig.updated_canvas_event();\n",
       "            fig.waiting = false;\n",
       "            return;\n",
       "        }\n",
       "        else if (typeof evt.data === 'string' && evt.data.slice(0, 21) == \"data:image/png;base64\") {\n",
       "            fig.imageObj.src = evt.data;\n",
       "            fig.updated_canvas_event();\n",
       "            fig.waiting = false;\n",
       "            return;\n",
       "        }\n",
       "\n",
       "        var msg = JSON.parse(evt.data);\n",
       "        var msg_type = msg['type'];\n",
       "\n",
       "        // Call the  \"handle_{type}\" callback, which takes\n",
       "        // the figure and JSON message as its only arguments.\n",
       "        try {\n",
       "            var callback = fig[\"handle_\" + msg_type];\n",
       "        } catch (e) {\n",
       "            console.log(\"No handler for the '\" + msg_type + \"' message type: \", msg);\n",
       "            return;\n",
       "        }\n",
       "\n",
       "        if (callback) {\n",
       "            try {\n",
       "                // console.log(\"Handling '\" + msg_type + \"' message: \", msg);\n",
       "                callback(fig, msg);\n",
       "            } catch (e) {\n",
       "                console.log(\"Exception inside the 'handler_\" + msg_type + \"' callback:\", e, e.stack, msg);\n",
       "            }\n",
       "        }\n",
       "    };\n",
       "}\n",
       "\n",
       "// from http://stackoverflow.com/questions/1114465/getting-mouse-location-in-canvas\n",
       "mpl.findpos = function(e) {\n",
       "    //this section is from http://www.quirksmode.org/js/events_properties.html\n",
       "    var targ;\n",
       "    if (!e)\n",
       "        e = window.event;\n",
       "    if (e.target)\n",
       "        targ = e.target;\n",
       "    else if (e.srcElement)\n",
       "        targ = e.srcElement;\n",
       "    if (targ.nodeType == 3) // defeat Safari bug\n",
       "        targ = targ.parentNode;\n",
       "\n",
       "    // jQuery normalizes the pageX and pageY\n",
       "    // pageX,Y are the mouse positions relative to the document\n",
       "    // offset() returns the position of the element relative to the document\n",
       "    var x = e.pageX - $(targ).offset().left;\n",
       "    var y = e.pageY - $(targ).offset().top;\n",
       "\n",
       "    return {\"x\": x, \"y\": y};\n",
       "};\n",
       "\n",
       "/*\n",
       " * return a copy of an object with only non-object keys\n",
       " * we need this to avoid circular references\n",
       " * http://stackoverflow.com/a/24161582/3208463\n",
       " */\n",
       "function simpleKeys (original) {\n",
       "  return Object.keys(original).reduce(function (obj, key) {\n",
       "    if (typeof original[key] !== 'object')\n",
       "        obj[key] = original[key]\n",
       "    return obj;\n",
       "  }, {});\n",
       "}\n",
       "\n",
       "mpl.figure.prototype.mouse_event = function(event, name) {\n",
       "    var canvas_pos = mpl.findpos(event)\n",
       "\n",
       "    if (name === 'button_press')\n",
       "    {\n",
       "        this.canvas.focus();\n",
       "        this.canvas_div.focus();\n",
       "    }\n",
       "\n",
       "    var x = canvas_pos.x * mpl.ratio;\n",
       "    var y = canvas_pos.y * mpl.ratio;\n",
       "\n",
       "    this.send_message(name, {x: x, y: y, button: event.button,\n",
       "                             step: event.step,\n",
       "                             guiEvent: simpleKeys(event)});\n",
       "\n",
       "    /* This prevents the web browser from automatically changing to\n",
       "     * the text insertion cursor when the button is pressed.  We want\n",
       "     * to control all of the cursor setting manually through the\n",
       "     * 'cursor' event from matplotlib */\n",
       "    event.preventDefault();\n",
       "    return false;\n",
       "}\n",
       "\n",
       "mpl.figure.prototype._key_event_extra = function(event, name) {\n",
       "    // Handle any extra behaviour associated with a key event\n",
       "}\n",
       "\n",
       "mpl.figure.prototype.key_event = function(event, name) {\n",
       "\n",
       "    // Prevent repeat events\n",
       "    if (name == 'key_press')\n",
       "    {\n",
       "        if (event.which === this._key)\n",
       "            return;\n",
       "        else\n",
       "            this._key = event.which;\n",
       "    }\n",
       "    if (name == 'key_release')\n",
       "        this._key = null;\n",
       "\n",
       "    var value = '';\n",
       "    if (event.ctrlKey && event.which != 17)\n",
       "        value += \"ctrl+\";\n",
       "    if (event.altKey && event.which != 18)\n",
       "        value += \"alt+\";\n",
       "    if (event.shiftKey && event.which != 16)\n",
       "        value += \"shift+\";\n",
       "\n",
       "    value += 'k';\n",
       "    value += event.which.toString();\n",
       "\n",
       "    this._key_event_extra(event, name);\n",
       "\n",
       "    this.send_message(name, {key: value,\n",
       "                             guiEvent: simpleKeys(event)});\n",
       "    return false;\n",
       "}\n",
       "\n",
       "mpl.figure.prototype.toolbar_button_onclick = function(name) {\n",
       "    if (name == 'download') {\n",
       "        this.handle_save(this, null);\n",
       "    } else {\n",
       "        this.send_message(\"toolbar_button\", {name: name});\n",
       "    }\n",
       "};\n",
       "\n",
       "mpl.figure.prototype.toolbar_button_onmouseover = function(tooltip) {\n",
       "    this.message.textContent = tooltip;\n",
       "};\n",
       "mpl.toolbar_items = [[\"Home\", \"Reset original view\", \"fa fa-home icon-home\", \"home\"], [\"Back\", \"Back to previous view\", \"fa fa-arrow-left icon-arrow-left\", \"back\"], [\"Forward\", \"Forward to next view\", \"fa fa-arrow-right icon-arrow-right\", \"forward\"], [\"\", \"\", \"\", \"\"], [\"Pan\", \"Pan axes with left mouse, zoom with right\", \"fa fa-arrows icon-move\", \"pan\"], [\"Zoom\", \"Zoom to rectangle\", \"fa fa-square-o icon-check-empty\", \"zoom\"], [\"\", \"\", \"\", \"\"], [\"Download\", \"Download plot\", \"fa fa-floppy-o icon-save\", \"download\"]];\n",
       "\n",
       "mpl.extensions = [\"eps\", \"jpeg\", \"pdf\", \"png\", \"ps\", \"raw\", \"svg\", \"tif\"];\n",
       "\n",
       "mpl.default_extension = \"png\";var comm_websocket_adapter = function(comm) {\n",
       "    // Create a \"websocket\"-like object which calls the given IPython comm\n",
       "    // object with the appropriate methods. Currently this is a non binary\n",
       "    // socket, so there is still some room for performance tuning.\n",
       "    var ws = {};\n",
       "\n",
       "    ws.close = function() {\n",
       "        comm.close()\n",
       "    };\n",
       "    ws.send = function(m) {\n",
       "        //console.log('sending', m);\n",
       "        comm.send(m);\n",
       "    };\n",
       "    // Register the callback with on_msg.\n",
       "    comm.on_msg(function(msg) {\n",
       "        //console.log('receiving', msg['content']['data'], msg);\n",
       "        // Pass the mpl event to the overridden (by mpl) onmessage function.\n",
       "        ws.onmessage(msg['content']['data'])\n",
       "    });\n",
       "    return ws;\n",
       "}\n",
       "\n",
       "mpl.mpl_figure_comm = function(comm, msg) {\n",
       "    // This is the function which gets called when the mpl process\n",
       "    // starts-up an IPython Comm through the \"matplotlib\" channel.\n",
       "\n",
       "    var id = msg.content.data.id;\n",
       "    // Get hold of the div created by the display call when the Comm\n",
       "    // socket was opened in Python.\n",
       "    var element = $(\"#\" + id);\n",
       "    var ws_proxy = comm_websocket_adapter(comm)\n",
       "\n",
       "    function ondownload(figure, format) {\n",
       "        window.open(figure.imageObj.src);\n",
       "    }\n",
       "\n",
       "    var fig = new mpl.figure(id, ws_proxy,\n",
       "                           ondownload,\n",
       "                           element.get(0));\n",
       "\n",
       "    // Call onopen now - mpl needs it, as it is assuming we've passed it a real\n",
       "    // web socket which is closed, not our websocket->open comm proxy.\n",
       "    ws_proxy.onopen();\n",
       "\n",
       "    fig.parent_element = element.get(0);\n",
       "    fig.cell_info = mpl.find_output_cell(\"<div id='\" + id + \"'></div>\");\n",
       "    if (!fig.cell_info) {\n",
       "        console.error(\"Failed to find cell for figure\", id, fig);\n",
       "        return;\n",
       "    }\n",
       "\n",
       "    var output_index = fig.cell_info[2]\n",
       "    var cell = fig.cell_info[0];\n",
       "\n",
       "};\n",
       "\n",
       "mpl.figure.prototype.handle_close = function(fig, msg) {\n",
       "    var width = fig.canvas.width/mpl.ratio\n",
       "    fig.root.unbind('remove')\n",
       "\n",
       "    // Update the output cell to use the data from the current canvas.\n",
       "    fig.push_to_output();\n",
       "    var dataURL = fig.canvas.toDataURL();\n",
       "    // Re-enable the keyboard manager in IPython - without this line, in FF,\n",
       "    // the notebook keyboard shortcuts fail.\n",
       "    IPython.keyboard_manager.enable()\n",
       "    $(fig.parent_element).html('<img src=\"' + dataURL + '\" width=\"' + width + '\">');\n",
       "    fig.close_ws(fig, msg);\n",
       "}\n",
       "\n",
       "mpl.figure.prototype.close_ws = function(fig, msg){\n",
       "    fig.send_message('closing', msg);\n",
       "    // fig.ws.close()\n",
       "}\n",
       "\n",
       "mpl.figure.prototype.push_to_output = function(remove_interactive) {\n",
       "    // Turn the data on the canvas into data in the output cell.\n",
       "    var width = this.canvas.width/mpl.ratio\n",
       "    var dataURL = this.canvas.toDataURL();\n",
       "    this.cell_info[1]['text/html'] = '<img src=\"' + dataURL + '\" width=\"' + width + '\">';\n",
       "}\n",
       "\n",
       "mpl.figure.prototype.updated_canvas_event = function() {\n",
       "    // Tell IPython that the notebook contents must change.\n",
       "    IPython.notebook.set_dirty(true);\n",
       "    this.send_message(\"ack\", {});\n",
       "    var fig = this;\n",
       "    // Wait a second, then push the new image to the DOM so\n",
       "    // that it is saved nicely (might be nice to debounce this).\n",
       "    setTimeout(function () { fig.push_to_output() }, 1000);\n",
       "}\n",
       "\n",
       "mpl.figure.prototype._init_toolbar = function() {\n",
       "    var fig = this;\n",
       "\n",
       "    var nav_element = $('<div/>')\n",
       "    nav_element.attr('style', 'width: 100%');\n",
       "    this.root.append(nav_element);\n",
       "\n",
       "    // Define a callback function for later on.\n",
       "    function toolbar_event(event) {\n",
       "        return fig.toolbar_button_onclick(event['data']);\n",
       "    }\n",
       "    function toolbar_mouse_event(event) {\n",
       "        return fig.toolbar_button_onmouseover(event['data']);\n",
       "    }\n",
       "\n",
       "    for(var toolbar_ind in mpl.toolbar_items){\n",
       "        var name = mpl.toolbar_items[toolbar_ind][0];\n",
       "        var tooltip = mpl.toolbar_items[toolbar_ind][1];\n",
       "        var image = mpl.toolbar_items[toolbar_ind][2];\n",
       "        var method_name = mpl.toolbar_items[toolbar_ind][3];\n",
       "\n",
       "        if (!name) { continue; };\n",
       "\n",
       "        var button = $('<button class=\"btn btn-default\" href=\"#\" title=\"' + name + '\"><i class=\"fa ' + image + ' fa-lg\"></i></button>');\n",
       "        button.click(method_name, toolbar_event);\n",
       "        button.mouseover(tooltip, toolbar_mouse_event);\n",
       "        nav_element.append(button);\n",
       "    }\n",
       "\n",
       "    // Add the status bar.\n",
       "    var status_bar = $('<span class=\"mpl-message\" style=\"text-align:right; float: right;\"/>');\n",
       "    nav_element.append(status_bar);\n",
       "    this.message = status_bar[0];\n",
       "\n",
       "    // Add the close button to the window.\n",
       "    var buttongrp = $('<div class=\"btn-group inline pull-right\"></div>');\n",
       "    var button = $('<button class=\"btn btn-mini btn-primary\" href=\"#\" title=\"Stop Interaction\"><i class=\"fa fa-power-off icon-remove icon-large\"></i></button>');\n",
       "    button.click(function (evt) { fig.handle_close(fig, {}); } );\n",
       "    button.mouseover('Stop Interaction', toolbar_mouse_event);\n",
       "    buttongrp.append(button);\n",
       "    var titlebar = this.root.find($('.ui-dialog-titlebar'));\n",
       "    titlebar.prepend(buttongrp);\n",
       "}\n",
       "\n",
       "mpl.figure.prototype._root_extra_style = function(el){\n",
       "    var fig = this\n",
       "    el.on(\"remove\", function(){\n",
       "\tfig.close_ws(fig, {});\n",
       "    });\n",
       "}\n",
       "\n",
       "mpl.figure.prototype._canvas_extra_style = function(el){\n",
       "    // this is important to make the div 'focusable\n",
       "    el.attr('tabindex', 0)\n",
       "    // reach out to IPython and tell the keyboard manager to turn it's self\n",
       "    // off when our div gets focus\n",
       "\n",
       "    // location in version 3\n",
       "    if (IPython.notebook.keyboard_manager) {\n",
       "        IPython.notebook.keyboard_manager.register_events(el);\n",
       "    }\n",
       "    else {\n",
       "        // location in version 2\n",
       "        IPython.keyboard_manager.register_events(el);\n",
       "    }\n",
       "\n",
       "}\n",
       "\n",
       "mpl.figure.prototype._key_event_extra = function(event, name) {\n",
       "    var manager = IPython.notebook.keyboard_manager;\n",
       "    if (!manager)\n",
       "        manager = IPython.keyboard_manager;\n",
       "\n",
       "    // Check for shift+enter\n",
       "    if (event.shiftKey && event.which == 13) {\n",
       "        this.canvas_div.blur();\n",
       "        event.shiftKey = false;\n",
       "        // Send a \"J\" for go to next cell\n",
       "        event.which = 74;\n",
       "        event.keyCode = 74;\n",
       "        manager.command_mode();\n",
       "        manager.handle_keydown(event);\n",
       "    }\n",
       "}\n",
       "\n",
       "mpl.figure.prototype.handle_save = function(fig, msg) {\n",
       "    fig.ondownload(fig, null);\n",
       "}\n",
       "\n",
       "\n",
       "mpl.find_output_cell = function(html_output) {\n",
       "    // Return the cell and output element which can be found *uniquely* in the notebook.\n",
       "    // Note - this is a bit hacky, but it is done because the \"notebook_saving.Notebook\"\n",
       "    // IPython event is triggered only after the cells have been serialised, which for\n",
       "    // our purposes (turning an active figure into a static one), is too late.\n",
       "    var cells = IPython.notebook.get_cells();\n",
       "    var ncells = cells.length;\n",
       "    for (var i=0; i<ncells; i++) {\n",
       "        var cell = cells[i];\n",
       "        if (cell.cell_type === 'code'){\n",
       "            for (var j=0; j<cell.output_area.outputs.length; j++) {\n",
       "                var data = cell.output_area.outputs[j];\n",
       "                if (data.data) {\n",
       "                    // IPython >= 3 moved mimebundle to data attribute of output\n",
       "                    data = data.data;\n",
       "                }\n",
       "                if (data['text/html'] == html_output) {\n",
       "                    return [cell, data, j];\n",
       "                }\n",
       "            }\n",
       "        }\n",
       "    }\n",
       "}\n",
       "\n",
       "// Register the function which deals with the matplotlib target/channel.\n",
       "// The kernel may be null if the page has been refreshed.\n",
       "if (IPython.notebook.kernel != null) {\n",
       "    IPython.notebook.kernel.comm_manager.register_target('matplotlib', mpl.mpl_figure_comm);\n",
       "}\n"
      ],
      "text/plain": [
       "<IPython.core.display.Javascript object>"
      ]
     },
     "metadata": {},
     "output_type": "display_data"
    },
    {
     "data": {
      "text/html": [
       "<img src=\"data:image/png;base64,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\" width=\"640\">"
      ],
      "text/plain": [
       "<IPython.core.display.HTML object>"
      ]
     },
     "metadata": {},
     "output_type": "display_data"
    },
    {
     "data": {
      "application/javascript": [
       "/* Put everything inside the global mpl namespace */\n",
       "window.mpl = {};\n",
       "\n",
       "\n",
       "mpl.get_websocket_type = function() {\n",
       "    if (typeof(WebSocket) !== 'undefined') {\n",
       "        return WebSocket;\n",
       "    } else if (typeof(MozWebSocket) !== 'undefined') {\n",
       "        return MozWebSocket;\n",
       "    } else {\n",
       "        alert('Your browser does not have WebSocket support.' +\n",
       "              'Please try Chrome, Safari or Firefox ≥ 6. ' +\n",
       "              'Firefox 4 and 5 are also supported but you ' +\n",
       "              'have to enable WebSockets in about:config.');\n",
       "    };\n",
       "}\n",
       "\n",
       "mpl.figure = function(figure_id, websocket, ondownload, parent_element) {\n",
       "    this.id = figure_id;\n",
       "\n",
       "    this.ws = websocket;\n",
       "\n",
       "    this.supports_binary = (this.ws.binaryType != undefined);\n",
       "\n",
       "    if (!this.supports_binary) {\n",
       "        var warnings = document.getElementById(\"mpl-warnings\");\n",
       "        if (warnings) {\n",
       "            warnings.style.display = 'block';\n",
       "            warnings.textContent = (\n",
       "                \"This browser does not support binary websocket messages. \" +\n",
       "                    \"Performance may be slow.\");\n",
       "        }\n",
       "    }\n",
       "\n",
       "    this.imageObj = new Image();\n",
       "\n",
       "    this.context = undefined;\n",
       "    this.message = undefined;\n",
       "    this.canvas = undefined;\n",
       "    this.rubberband_canvas = undefined;\n",
       "    this.rubberband_context = undefined;\n",
       "    this.format_dropdown = undefined;\n",
       "\n",
       "    this.image_mode = 'full';\n",
       "\n",
       "    this.root = $('<div/>');\n",
       "    this._root_extra_style(this.root)\n",
       "    this.root.attr('style', 'display: inline-block');\n",
       "\n",
       "    $(parent_element).append(this.root);\n",
       "\n",
       "    this._init_header(this);\n",
       "    this._init_canvas(this);\n",
       "    this._init_toolbar(this);\n",
       "\n",
       "    var fig = this;\n",
       "\n",
       "    this.waiting = false;\n",
       "\n",
       "    this.ws.onopen =  function () {\n",
       "            fig.send_message(\"supports_binary\", {value: fig.supports_binary});\n",
       "            fig.send_message(\"send_image_mode\", {});\n",
       "            if (mpl.ratio != 1) {\n",
       "                fig.send_message(\"set_dpi_ratio\", {'dpi_ratio': mpl.ratio});\n",
       "            }\n",
       "            fig.send_message(\"refresh\", {});\n",
       "        }\n",
       "\n",
       "    this.imageObj.onload = function() {\n",
       "            if (fig.image_mode == 'full') {\n",
       "                // Full images could contain transparency (where diff images\n",
       "                // almost always do), so we need to clear the canvas so that\n",
       "                // there is no ghosting.\n",
       "                fig.context.clearRect(0, 0, fig.canvas.width, fig.canvas.height);\n",
       "            }\n",
       "            fig.context.drawImage(fig.imageObj, 0, 0);\n",
       "        };\n",
       "\n",
       "    this.imageObj.onunload = function() {\n",
       "        fig.ws.close();\n",
       "    }\n",
       "\n",
       "    this.ws.onmessage = this._make_on_message_function(this);\n",
       "\n",
       "    this.ondownload = ondownload;\n",
       "}\n",
       "\n",
       "mpl.figure.prototype._init_header = function() {\n",
       "    var titlebar = $(\n",
       "        '<div class=\"ui-dialog-titlebar ui-widget-header ui-corner-all ' +\n",
       "        'ui-helper-clearfix\"/>');\n",
       "    var titletext = $(\n",
       "        '<div class=\"ui-dialog-title\" style=\"width: 100%; ' +\n",
       "        'text-align: center; padding: 3px;\"/>');\n",
       "    titlebar.append(titletext)\n",
       "    this.root.append(titlebar);\n",
       "    this.header = titletext[0];\n",
       "}\n",
       "\n",
       "\n",
       "\n",
       "mpl.figure.prototype._canvas_extra_style = function(canvas_div) {\n",
       "\n",
       "}\n",
       "\n",
       "\n",
       "mpl.figure.prototype._root_extra_style = function(canvas_div) {\n",
       "\n",
       "}\n",
       "\n",
       "mpl.figure.prototype._init_canvas = function() {\n",
       "    var fig = this;\n",
       "\n",
       "    var canvas_div = $('<div/>');\n",
       "\n",
       "    canvas_div.attr('style', 'position: relative; clear: both; outline: 0');\n",
       "\n",
       "    function canvas_keyboard_event(event) {\n",
       "        return fig.key_event(event, event['data']);\n",
       "    }\n",
       "\n",
       "    canvas_div.keydown('key_press', canvas_keyboard_event);\n",
       "    canvas_div.keyup('key_release', canvas_keyboard_event);\n",
       "    this.canvas_div = canvas_div\n",
       "    this._canvas_extra_style(canvas_div)\n",
       "    this.root.append(canvas_div);\n",
       "\n",
       "    var canvas = $('<canvas/>');\n",
       "    canvas.addClass('mpl-canvas');\n",
       "    canvas.attr('style', \"left: 0; top: 0; z-index: 0; outline: 0\")\n",
       "\n",
       "    this.canvas = canvas[0];\n",
       "    this.context = canvas[0].getContext(\"2d\");\n",
       "\n",
       "    var backingStore = this.context.backingStorePixelRatio ||\n",
       "\tthis.context.webkitBackingStorePixelRatio ||\n",
       "\tthis.context.mozBackingStorePixelRatio ||\n",
       "\tthis.context.msBackingStorePixelRatio ||\n",
       "\tthis.context.oBackingStorePixelRatio ||\n",
       "\tthis.context.backingStorePixelRatio || 1;\n",
       "\n",
       "    mpl.ratio = (window.devicePixelRatio || 1) / backingStore;\n",
       "\n",
       "    var rubberband = $('<canvas/>');\n",
       "    rubberband.attr('style', \"position: absolute; left: 0; top: 0; z-index: 1;\")\n",
       "\n",
       "    var pass_mouse_events = true;\n",
       "\n",
       "    canvas_div.resizable({\n",
       "        start: function(event, ui) {\n",
       "            pass_mouse_events = false;\n",
       "        },\n",
       "        resize: function(event, ui) {\n",
       "            fig.request_resize(ui.size.width, ui.size.height);\n",
       "        },\n",
       "        stop: function(event, ui) {\n",
       "            pass_mouse_events = true;\n",
       "            fig.request_resize(ui.size.width, ui.size.height);\n",
       "        },\n",
       "    });\n",
       "\n",
       "    function mouse_event_fn(event) {\n",
       "        if (pass_mouse_events)\n",
       "            return fig.mouse_event(event, event['data']);\n",
       "    }\n",
       "\n",
       "    rubberband.mousedown('button_press', mouse_event_fn);\n",
       "    rubberband.mouseup('button_release', mouse_event_fn);\n",
       "    // Throttle sequential mouse events to 1 every 20ms.\n",
       "    rubberband.mousemove('motion_notify', mouse_event_fn);\n",
       "\n",
       "    rubberband.mouseenter('figure_enter', mouse_event_fn);\n",
       "    rubberband.mouseleave('figure_leave', mouse_event_fn);\n",
       "\n",
       "    canvas_div.on(\"wheel\", function (event) {\n",
       "        event = event.originalEvent;\n",
       "        event['data'] = 'scroll'\n",
       "        if (event.deltaY < 0) {\n",
       "            event.step = 1;\n",
       "        } else {\n",
       "            event.step = -1;\n",
       "        }\n",
       "        mouse_event_fn(event);\n",
       "    });\n",
       "\n",
       "    canvas_div.append(canvas);\n",
       "    canvas_div.append(rubberband);\n",
       "\n",
       "    this.rubberband = rubberband;\n",
       "    this.rubberband_canvas = rubberband[0];\n",
       "    this.rubberband_context = rubberband[0].getContext(\"2d\");\n",
       "    this.rubberband_context.strokeStyle = \"#000000\";\n",
       "\n",
       "    this._resize_canvas = function(width, height) {\n",
       "        // Keep the size of the canvas, canvas container, and rubber band\n",
       "        // canvas in synch.\n",
       "        canvas_div.css('width', width)\n",
       "        canvas_div.css('height', height)\n",
       "\n",
       "        canvas.attr('width', width * mpl.ratio);\n",
       "        canvas.attr('height', height * mpl.ratio);\n",
       "        canvas.attr('style', 'width: ' + width + 'px; height: ' + height + 'px;');\n",
       "\n",
       "        rubberband.attr('width', width);\n",
       "        rubberband.attr('height', height);\n",
       "    }\n",
       "\n",
       "    // Set the figure to an initial 600x600px, this will subsequently be updated\n",
       "    // upon first draw.\n",
       "    this._resize_canvas(600, 600);\n",
       "\n",
       "    // Disable right mouse context menu.\n",
       "    $(this.rubberband_canvas).bind(\"contextmenu\",function(e){\n",
       "        return false;\n",
       "    });\n",
       "\n",
       "    function set_focus () {\n",
       "        canvas.focus();\n",
       "        canvas_div.focus();\n",
       "    }\n",
       "\n",
       "    window.setTimeout(set_focus, 100);\n",
       "}\n",
       "\n",
       "mpl.figure.prototype._init_toolbar = function() {\n",
       "    var fig = this;\n",
       "\n",
       "    var nav_element = $('<div/>')\n",
       "    nav_element.attr('style', 'width: 100%');\n",
       "    this.root.append(nav_element);\n",
       "\n",
       "    // Define a callback function for later on.\n",
       "    function toolbar_event(event) {\n",
       "        return fig.toolbar_button_onclick(event['data']);\n",
       "    }\n",
       "    function toolbar_mouse_event(event) {\n",
       "        return fig.toolbar_button_onmouseover(event['data']);\n",
       "    }\n",
       "\n",
       "    for(var toolbar_ind in mpl.toolbar_items) {\n",
       "        var name = mpl.toolbar_items[toolbar_ind][0];\n",
       "        var tooltip = mpl.toolbar_items[toolbar_ind][1];\n",
       "        var image = mpl.toolbar_items[toolbar_ind][2];\n",
       "        var method_name = mpl.toolbar_items[toolbar_ind][3];\n",
       "\n",
       "        if (!name) {\n",
       "            // put a spacer in here.\n",
       "            continue;\n",
       "        }\n",
       "        var button = $('<button/>');\n",
       "        button.addClass('ui-button ui-widget ui-state-default ui-corner-all ' +\n",
       "                        'ui-button-icon-only');\n",
       "        button.attr('role', 'button');\n",
       "        button.attr('aria-disabled', 'false');\n",
       "        button.click(method_name, toolbar_event);\n",
       "        button.mouseover(tooltip, toolbar_mouse_event);\n",
       "\n",
       "        var icon_img = $('<span/>');\n",
       "        icon_img.addClass('ui-button-icon-primary ui-icon');\n",
       "        icon_img.addClass(image);\n",
       "        icon_img.addClass('ui-corner-all');\n",
       "\n",
       "        var tooltip_span = $('<span/>');\n",
       "        tooltip_span.addClass('ui-button-text');\n",
       "        tooltip_span.html(tooltip);\n",
       "\n",
       "        button.append(icon_img);\n",
       "        button.append(tooltip_span);\n",
       "\n",
       "        nav_element.append(button);\n",
       "    }\n",
       "\n",
       "    var fmt_picker_span = $('<span/>');\n",
       "\n",
       "    var fmt_picker = $('<select/>');\n",
       "    fmt_picker.addClass('mpl-toolbar-option ui-widget ui-widget-content');\n",
       "    fmt_picker_span.append(fmt_picker);\n",
       "    nav_element.append(fmt_picker_span);\n",
       "    this.format_dropdown = fmt_picker[0];\n",
       "\n",
       "    for (var ind in mpl.extensions) {\n",
       "        var fmt = mpl.extensions[ind];\n",
       "        var option = $(\n",
       "            '<option/>', {selected: fmt === mpl.default_extension}).html(fmt);\n",
       "        fmt_picker.append(option)\n",
       "    }\n",
       "\n",
       "    // Add hover states to the ui-buttons\n",
       "    $( \".ui-button\" ).hover(\n",
       "        function() { $(this).addClass(\"ui-state-hover\");},\n",
       "        function() { $(this).removeClass(\"ui-state-hover\");}\n",
       "    );\n",
       "\n",
       "    var status_bar = $('<span class=\"mpl-message\"/>');\n",
       "    nav_element.append(status_bar);\n",
       "    this.message = status_bar[0];\n",
       "}\n",
       "\n",
       "mpl.figure.prototype.request_resize = function(x_pixels, y_pixels) {\n",
       "    // Request matplotlib to resize the figure. Matplotlib will then trigger a resize in the client,\n",
       "    // which will in turn request a refresh of the image.\n",
       "    this.send_message('resize', {'width': x_pixels, 'height': y_pixels});\n",
       "}\n",
       "\n",
       "mpl.figure.prototype.send_message = function(type, properties) {\n",
       "    properties['type'] = type;\n",
       "    properties['figure_id'] = this.id;\n",
       "    this.ws.send(JSON.stringify(properties));\n",
       "}\n",
       "\n",
       "mpl.figure.prototype.send_draw_message = function() {\n",
       "    if (!this.waiting) {\n",
       "        this.waiting = true;\n",
       "        this.ws.send(JSON.stringify({type: \"draw\", figure_id: this.id}));\n",
       "    }\n",
       "}\n",
       "\n",
       "\n",
       "mpl.figure.prototype.handle_save = function(fig, msg) {\n",
       "    var format_dropdown = fig.format_dropdown;\n",
       "    var format = format_dropdown.options[format_dropdown.selectedIndex].value;\n",
       "    fig.ondownload(fig, format);\n",
       "}\n",
       "\n",
       "\n",
       "mpl.figure.prototype.handle_resize = function(fig, msg) {\n",
       "    var size = msg['size'];\n",
       "    if (size[0] != fig.canvas.width || size[1] != fig.canvas.height) {\n",
       "        fig._resize_canvas(size[0], size[1]);\n",
       "        fig.send_message(\"refresh\", {});\n",
       "    };\n",
       "}\n",
       "\n",
       "mpl.figure.prototype.handle_rubberband = function(fig, msg) {\n",
       "    var x0 = msg['x0'] / mpl.ratio;\n",
       "    var y0 = (fig.canvas.height - msg['y0']) / mpl.ratio;\n",
       "    var x1 = msg['x1'] / mpl.ratio;\n",
       "    var y1 = (fig.canvas.height - msg['y1']) / mpl.ratio;\n",
       "    x0 = Math.floor(x0) + 0.5;\n",
       "    y0 = Math.floor(y0) + 0.5;\n",
       "    x1 = Math.floor(x1) + 0.5;\n",
       "    y1 = Math.floor(y1) + 0.5;\n",
       "    var min_x = Math.min(x0, x1);\n",
       "    var min_y = Math.min(y0, y1);\n",
       "    var width = Math.abs(x1 - x0);\n",
       "    var height = Math.abs(y1 - y0);\n",
       "\n",
       "    fig.rubberband_context.clearRect(\n",
       "        0, 0, fig.canvas.width, fig.canvas.height);\n",
       "\n",
       "    fig.rubberband_context.strokeRect(min_x, min_y, width, height);\n",
       "}\n",
       "\n",
       "mpl.figure.prototype.handle_figure_label = function(fig, msg) {\n",
       "    // Updates the figure title.\n",
       "    fig.header.textContent = msg['label'];\n",
       "}\n",
       "\n",
       "mpl.figure.prototype.handle_cursor = function(fig, msg) {\n",
       "    var cursor = msg['cursor'];\n",
       "    switch(cursor)\n",
       "    {\n",
       "    case 0:\n",
       "        cursor = 'pointer';\n",
       "        break;\n",
       "    case 1:\n",
       "        cursor = 'default';\n",
       "        break;\n",
       "    case 2:\n",
       "        cursor = 'crosshair';\n",
       "        break;\n",
       "    case 3:\n",
       "        cursor = 'move';\n",
       "        break;\n",
       "    }\n",
       "    fig.rubberband_canvas.style.cursor = cursor;\n",
       "}\n",
       "\n",
       "mpl.figure.prototype.handle_message = function(fig, msg) {\n",
       "    fig.message.textContent = msg['message'];\n",
       "}\n",
       "\n",
       "mpl.figure.prototype.handle_draw = function(fig, msg) {\n",
       "    // Request the server to send over a new figure.\n",
       "    fig.send_draw_message();\n",
       "}\n",
       "\n",
       "mpl.figure.prototype.handle_image_mode = function(fig, msg) {\n",
       "    fig.image_mode = msg['mode'];\n",
       "}\n",
       "\n",
       "mpl.figure.prototype.updated_canvas_event = function() {\n",
       "    // Called whenever the canvas gets updated.\n",
       "    this.send_message(\"ack\", {});\n",
       "}\n",
       "\n",
       "// A function to construct a web socket function for onmessage handling.\n",
       "// Called in the figure constructor.\n",
       "mpl.figure.prototype._make_on_message_function = function(fig) {\n",
       "    return function socket_on_message(evt) {\n",
       "        if (evt.data instanceof Blob) {\n",
       "            /* FIXME: We get \"Resource interpreted as Image but\n",
       "             * transferred with MIME type text/plain:\" errors on\n",
       "             * Chrome.  But how to set the MIME type?  It doesn't seem\n",
       "             * to be part of the websocket stream */\n",
       "            evt.data.type = \"image/png\";\n",
       "\n",
       "            /* Free the memory for the previous frames */\n",
       "            if (fig.imageObj.src) {\n",
       "                (window.URL || window.webkitURL).revokeObjectURL(\n",
       "                    fig.imageObj.src);\n",
       "            }\n",
       "\n",
       "            fig.imageObj.src = (window.URL || window.webkitURL).createObjectURL(\n",
       "                evt.data);\n",
       "            fig.updated_canvas_event();\n",
       "            fig.waiting = false;\n",
       "            return;\n",
       "        }\n",
       "        else if (typeof evt.data === 'string' && evt.data.slice(0, 21) == \"data:image/png;base64\") {\n",
       "            fig.imageObj.src = evt.data;\n",
       "            fig.updated_canvas_event();\n",
       "            fig.waiting = false;\n",
       "            return;\n",
       "        }\n",
       "\n",
       "        var msg = JSON.parse(evt.data);\n",
       "        var msg_type = msg['type'];\n",
       "\n",
       "        // Call the  \"handle_{type}\" callback, which takes\n",
       "        // the figure and JSON message as its only arguments.\n",
       "        try {\n",
       "            var callback = fig[\"handle_\" + msg_type];\n",
       "        } catch (e) {\n",
       "            console.log(\"No handler for the '\" + msg_type + \"' message type: \", msg);\n",
       "            return;\n",
       "        }\n",
       "\n",
       "        if (callback) {\n",
       "            try {\n",
       "                // console.log(\"Handling '\" + msg_type + \"' message: \", msg);\n",
       "                callback(fig, msg);\n",
       "            } catch (e) {\n",
       "                console.log(\"Exception inside the 'handler_\" + msg_type + \"' callback:\", e, e.stack, msg);\n",
       "            }\n",
       "        }\n",
       "    };\n",
       "}\n",
       "\n",
       "// from http://stackoverflow.com/questions/1114465/getting-mouse-location-in-canvas\n",
       "mpl.findpos = function(e) {\n",
       "    //this section is from http://www.quirksmode.org/js/events_properties.html\n",
       "    var targ;\n",
       "    if (!e)\n",
       "        e = window.event;\n",
       "    if (e.target)\n",
       "        targ = e.target;\n",
       "    else if (e.srcElement)\n",
       "        targ = e.srcElement;\n",
       "    if (targ.nodeType == 3) // defeat Safari bug\n",
       "        targ = targ.parentNode;\n",
       "\n",
       "    // jQuery normalizes the pageX and pageY\n",
       "    // pageX,Y are the mouse positions relative to the document\n",
       "    // offset() returns the position of the element relative to the document\n",
       "    var x = e.pageX - $(targ).offset().left;\n",
       "    var y = e.pageY - $(targ).offset().top;\n",
       "\n",
       "    return {\"x\": x, \"y\": y};\n",
       "};\n",
       "\n",
       "/*\n",
       " * return a copy of an object with only non-object keys\n",
       " * we need this to avoid circular references\n",
       " * http://stackoverflow.com/a/24161582/3208463\n",
       " */\n",
       "function simpleKeys (original) {\n",
       "  return Object.keys(original).reduce(function (obj, key) {\n",
       "    if (typeof original[key] !== 'object')\n",
       "        obj[key] = original[key]\n",
       "    return obj;\n",
       "  }, {});\n",
       "}\n",
       "\n",
       "mpl.figure.prototype.mouse_event = function(event, name) {\n",
       "    var canvas_pos = mpl.findpos(event)\n",
       "\n",
       "    if (name === 'button_press')\n",
       "    {\n",
       "        this.canvas.focus();\n",
       "        this.canvas_div.focus();\n",
       "    }\n",
       "\n",
       "    var x = canvas_pos.x * mpl.ratio;\n",
       "    var y = canvas_pos.y * mpl.ratio;\n",
       "\n",
       "    this.send_message(name, {x: x, y: y, button: event.button,\n",
       "                             step: event.step,\n",
       "                             guiEvent: simpleKeys(event)});\n",
       "\n",
       "    /* This prevents the web browser from automatically changing to\n",
       "     * the text insertion cursor when the button is pressed.  We want\n",
       "     * to control all of the cursor setting manually through the\n",
       "     * 'cursor' event from matplotlib */\n",
       "    event.preventDefault();\n",
       "    return false;\n",
       "}\n",
       "\n",
       "mpl.figure.prototype._key_event_extra = function(event, name) {\n",
       "    // Handle any extra behaviour associated with a key event\n",
       "}\n",
       "\n",
       "mpl.figure.prototype.key_event = function(event, name) {\n",
       "\n",
       "    // Prevent repeat events\n",
       "    if (name == 'key_press')\n",
       "    {\n",
       "        if (event.which === this._key)\n",
       "            return;\n",
       "        else\n",
       "            this._key = event.which;\n",
       "    }\n",
       "    if (name == 'key_release')\n",
       "        this._key = null;\n",
       "\n",
       "    var value = '';\n",
       "    if (event.ctrlKey && event.which != 17)\n",
       "        value += \"ctrl+\";\n",
       "    if (event.altKey && event.which != 18)\n",
       "        value += \"alt+\";\n",
       "    if (event.shiftKey && event.which != 16)\n",
       "        value += \"shift+\";\n",
       "\n",
       "    value += 'k';\n",
       "    value += event.which.toString();\n",
       "\n",
       "    this._key_event_extra(event, name);\n",
       "\n",
       "    this.send_message(name, {key: value,\n",
       "                             guiEvent: simpleKeys(event)});\n",
       "    return false;\n",
       "}\n",
       "\n",
       "mpl.figure.prototype.toolbar_button_onclick = function(name) {\n",
       "    if (name == 'download') {\n",
       "        this.handle_save(this, null);\n",
       "    } else {\n",
       "        this.send_message(\"toolbar_button\", {name: name});\n",
       "    }\n",
       "};\n",
       "\n",
       "mpl.figure.prototype.toolbar_button_onmouseover = function(tooltip) {\n",
       "    this.message.textContent = tooltip;\n",
       "};\n",
       "mpl.toolbar_items = [[\"Home\", \"Reset original view\", \"fa fa-home icon-home\", \"home\"], [\"Back\", \"Back to previous view\", \"fa fa-arrow-left icon-arrow-left\", \"back\"], [\"Forward\", \"Forward to next view\", \"fa fa-arrow-right icon-arrow-right\", \"forward\"], [\"\", \"\", \"\", \"\"], [\"Pan\", \"Pan axes with left mouse, zoom with right\", \"fa fa-arrows icon-move\", \"pan\"], [\"Zoom\", \"Zoom to rectangle\", \"fa fa-square-o icon-check-empty\", \"zoom\"], [\"\", \"\", \"\", \"\"], [\"Download\", \"Download plot\", \"fa fa-floppy-o icon-save\", \"download\"]];\n",
       "\n",
       "mpl.extensions = [\"eps\", \"jpeg\", \"pdf\", \"png\", \"ps\", \"raw\", \"svg\", \"tif\"];\n",
       "\n",
       "mpl.default_extension = \"png\";var comm_websocket_adapter = function(comm) {\n",
       "    // Create a \"websocket\"-like object which calls the given IPython comm\n",
       "    // object with the appropriate methods. Currently this is a non binary\n",
       "    // socket, so there is still some room for performance tuning.\n",
       "    var ws = {};\n",
       "\n",
       "    ws.close = function() {\n",
       "        comm.close()\n",
       "    };\n",
       "    ws.send = function(m) {\n",
       "        //console.log('sending', m);\n",
       "        comm.send(m);\n",
       "    };\n",
       "    // Register the callback with on_msg.\n",
       "    comm.on_msg(function(msg) {\n",
       "        //console.log('receiving', msg['content']['data'], msg);\n",
       "        // Pass the mpl event to the overridden (by mpl) onmessage function.\n",
       "        ws.onmessage(msg['content']['data'])\n",
       "    });\n",
       "    return ws;\n",
       "}\n",
       "\n",
       "mpl.mpl_figure_comm = function(comm, msg) {\n",
       "    // This is the function which gets called when the mpl process\n",
       "    // starts-up an IPython Comm through the \"matplotlib\" channel.\n",
       "\n",
       "    var id = msg.content.data.id;\n",
       "    // Get hold of the div created by the display call when the Comm\n",
       "    // socket was opened in Python.\n",
       "    var element = $(\"#\" + id);\n",
       "    var ws_proxy = comm_websocket_adapter(comm)\n",
       "\n",
       "    function ondownload(figure, format) {\n",
       "        window.open(figure.imageObj.src);\n",
       "    }\n",
       "\n",
       "    var fig = new mpl.figure(id, ws_proxy,\n",
       "                           ondownload,\n",
       "                           element.get(0));\n",
       "\n",
       "    // Call onopen now - mpl needs it, as it is assuming we've passed it a real\n",
       "    // web socket which is closed, not our websocket->open comm proxy.\n",
       "    ws_proxy.onopen();\n",
       "\n",
       "    fig.parent_element = element.get(0);\n",
       "    fig.cell_info = mpl.find_output_cell(\"<div id='\" + id + \"'></div>\");\n",
       "    if (!fig.cell_info) {\n",
       "        console.error(\"Failed to find cell for figure\", id, fig);\n",
       "        return;\n",
       "    }\n",
       "\n",
       "    var output_index = fig.cell_info[2]\n",
       "    var cell = fig.cell_info[0];\n",
       "\n",
       "};\n",
       "\n",
       "mpl.figure.prototype.handle_close = function(fig, msg) {\n",
       "    var width = fig.canvas.width/mpl.ratio\n",
       "    fig.root.unbind('remove')\n",
       "\n",
       "    // Update the output cell to use the data from the current canvas.\n",
       "    fig.push_to_output();\n",
       "    var dataURL = fig.canvas.toDataURL();\n",
       "    // Re-enable the keyboard manager in IPython - without this line, in FF,\n",
       "    // the notebook keyboard shortcuts fail.\n",
       "    IPython.keyboard_manager.enable()\n",
       "    $(fig.parent_element).html('<img src=\"' + dataURL + '\" width=\"' + width + '\">');\n",
       "    fig.close_ws(fig, msg);\n",
       "}\n",
       "\n",
       "mpl.figure.prototype.close_ws = function(fig, msg){\n",
       "    fig.send_message('closing', msg);\n",
       "    // fig.ws.close()\n",
       "}\n",
       "\n",
       "mpl.figure.prototype.push_to_output = function(remove_interactive) {\n",
       "    // Turn the data on the canvas into data in the output cell.\n",
       "    var width = this.canvas.width/mpl.ratio\n",
       "    var dataURL = this.canvas.toDataURL();\n",
       "    this.cell_info[1]['text/html'] = '<img src=\"' + dataURL + '\" width=\"' + width + '\">';\n",
       "}\n",
       "\n",
       "mpl.figure.prototype.updated_canvas_event = function() {\n",
       "    // Tell IPython that the notebook contents must change.\n",
       "    IPython.notebook.set_dirty(true);\n",
       "    this.send_message(\"ack\", {});\n",
       "    var fig = this;\n",
       "    // Wait a second, then push the new image to the DOM so\n",
       "    // that it is saved nicely (might be nice to debounce this).\n",
       "    setTimeout(function () { fig.push_to_output() }, 1000);\n",
       "}\n",
       "\n",
       "mpl.figure.prototype._init_toolbar = function() {\n",
       "    var fig = this;\n",
       "\n",
       "    var nav_element = $('<div/>')\n",
       "    nav_element.attr('style', 'width: 100%');\n",
       "    this.root.append(nav_element);\n",
       "\n",
       "    // Define a callback function for later on.\n",
       "    function toolbar_event(event) {\n",
       "        return fig.toolbar_button_onclick(event['data']);\n",
       "    }\n",
       "    function toolbar_mouse_event(event) {\n",
       "        return fig.toolbar_button_onmouseover(event['data']);\n",
       "    }\n",
       "\n",
       "    for(var toolbar_ind in mpl.toolbar_items){\n",
       "        var name = mpl.toolbar_items[toolbar_ind][0];\n",
       "        var tooltip = mpl.toolbar_items[toolbar_ind][1];\n",
       "        var image = mpl.toolbar_items[toolbar_ind][2];\n",
       "        var method_name = mpl.toolbar_items[toolbar_ind][3];\n",
       "\n",
       "        if (!name) { continue; };\n",
       "\n",
       "        var button = $('<button class=\"btn btn-default\" href=\"#\" title=\"' + name + '\"><i class=\"fa ' + image + ' fa-lg\"></i></button>');\n",
       "        button.click(method_name, toolbar_event);\n",
       "        button.mouseover(tooltip, toolbar_mouse_event);\n",
       "        nav_element.append(button);\n",
       "    }\n",
       "\n",
       "    // Add the status bar.\n",
       "    var status_bar = $('<span class=\"mpl-message\" style=\"text-align:right; float: right;\"/>');\n",
       "    nav_element.append(status_bar);\n",
       "    this.message = status_bar[0];\n",
       "\n",
       "    // Add the close button to the window.\n",
       "    var buttongrp = $('<div class=\"btn-group inline pull-right\"></div>');\n",
       "    var button = $('<button class=\"btn btn-mini btn-primary\" href=\"#\" title=\"Stop Interaction\"><i class=\"fa fa-power-off icon-remove icon-large\"></i></button>');\n",
       "    button.click(function (evt) { fig.handle_close(fig, {}); } );\n",
       "    button.mouseover('Stop Interaction', toolbar_mouse_event);\n",
       "    buttongrp.append(button);\n",
       "    var titlebar = this.root.find($('.ui-dialog-titlebar'));\n",
       "    titlebar.prepend(buttongrp);\n",
       "}\n",
       "\n",
       "mpl.figure.prototype._root_extra_style = function(el){\n",
       "    var fig = this\n",
       "    el.on(\"remove\", function(){\n",
       "\tfig.close_ws(fig, {});\n",
       "    });\n",
       "}\n",
       "\n",
       "mpl.figure.prototype._canvas_extra_style = function(el){\n",
       "    // this is important to make the div 'focusable\n",
       "    el.attr('tabindex', 0)\n",
       "    // reach out to IPython and tell the keyboard manager to turn it's self\n",
       "    // off when our div gets focus\n",
       "\n",
       "    // location in version 3\n",
       "    if (IPython.notebook.keyboard_manager) {\n",
       "        IPython.notebook.keyboard_manager.register_events(el);\n",
       "    }\n",
       "    else {\n",
       "        // location in version 2\n",
       "        IPython.keyboard_manager.register_events(el);\n",
       "    }\n",
       "\n",
       "}\n",
       "\n",
       "mpl.figure.prototype._key_event_extra = function(event, name) {\n",
       "    var manager = IPython.notebook.keyboard_manager;\n",
       "    if (!manager)\n",
       "        manager = IPython.keyboard_manager;\n",
       "\n",
       "    // Check for shift+enter\n",
       "    if (event.shiftKey && event.which == 13) {\n",
       "        this.canvas_div.blur();\n",
       "        event.shiftKey = false;\n",
       "        // Send a \"J\" for go to next cell\n",
       "        event.which = 74;\n",
       "        event.keyCode = 74;\n",
       "        manager.command_mode();\n",
       "        manager.handle_keydown(event);\n",
       "    }\n",
       "}\n",
       "\n",
       "mpl.figure.prototype.handle_save = function(fig, msg) {\n",
       "    fig.ondownload(fig, null);\n",
       "}\n",
       "\n",
       "\n",
       "mpl.find_output_cell = function(html_output) {\n",
       "    // Return the cell and output element which can be found *uniquely* in the notebook.\n",
       "    // Note - this is a bit hacky, but it is done because the \"notebook_saving.Notebook\"\n",
       "    // IPython event is triggered only after the cells have been serialised, which for\n",
       "    // our purposes (turning an active figure into a static one), is too late.\n",
       "    var cells = IPython.notebook.get_cells();\n",
       "    var ncells = cells.length;\n",
       "    for (var i=0; i<ncells; i++) {\n",
       "        var cell = cells[i];\n",
       "        if (cell.cell_type === 'code'){\n",
       "            for (var j=0; j<cell.output_area.outputs.length; j++) {\n",
       "                var data = cell.output_area.outputs[j];\n",
       "                if (data.data) {\n",
       "                    // IPython >= 3 moved mimebundle to data attribute of output\n",
       "                    data = data.data;\n",
       "                }\n",
       "                if (data['text/html'] == html_output) {\n",
       "                    return [cell, data, j];\n",
       "                }\n",
       "            }\n",
       "        }\n",
       "    }\n",
       "}\n",
       "\n",
       "// Register the function which deals with the matplotlib target/channel.\n",
       "// The kernel may be null if the page has been refreshed.\n",
       "if (IPython.notebook.kernel != null) {\n",
       "    IPython.notebook.kernel.comm_manager.register_target('matplotlib', mpl.mpl_figure_comm);\n",
       "}\n"
      ],
      "text/plain": [
       "<IPython.core.display.Javascript object>"
      ]
     },
     "metadata": {},
     "output_type": "display_data"
    },
    {
     "data": {
      "text/html": [
       "<img src=\"data:image/png;base64,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\" width=\"640\">"
      ],
      "text/plain": [
       "<IPython.core.display.HTML object>"
      ]
     },
     "metadata": {},
     "output_type": "display_data"
    },
    {
     "data": {
      "application/javascript": [
       "/* Put everything inside the global mpl namespace */\n",
       "window.mpl = {};\n",
       "\n",
       "\n",
       "mpl.get_websocket_type = function() {\n",
       "    if (typeof(WebSocket) !== 'undefined') {\n",
       "        return WebSocket;\n",
       "    } else if (typeof(MozWebSocket) !== 'undefined') {\n",
       "        return MozWebSocket;\n",
       "    } else {\n",
       "        alert('Your browser does not have WebSocket support.' +\n",
       "              'Please try Chrome, Safari or Firefox ≥ 6. ' +\n",
       "              'Firefox 4 and 5 are also supported but you ' +\n",
       "              'have to enable WebSockets in about:config.');\n",
       "    };\n",
       "}\n",
       "\n",
       "mpl.figure = function(figure_id, websocket, ondownload, parent_element) {\n",
       "    this.id = figure_id;\n",
       "\n",
       "    this.ws = websocket;\n",
       "\n",
       "    this.supports_binary = (this.ws.binaryType != undefined);\n",
       "\n",
       "    if (!this.supports_binary) {\n",
       "        var warnings = document.getElementById(\"mpl-warnings\");\n",
       "        if (warnings) {\n",
       "            warnings.style.display = 'block';\n",
       "            warnings.textContent = (\n",
       "                \"This browser does not support binary websocket messages. \" +\n",
       "                    \"Performance may be slow.\");\n",
       "        }\n",
       "    }\n",
       "\n",
       "    this.imageObj = new Image();\n",
       "\n",
       "    this.context = undefined;\n",
       "    this.message = undefined;\n",
       "    this.canvas = undefined;\n",
       "    this.rubberband_canvas = undefined;\n",
       "    this.rubberband_context = undefined;\n",
       "    this.format_dropdown = undefined;\n",
       "\n",
       "    this.image_mode = 'full';\n",
       "\n",
       "    this.root = $('<div/>');\n",
       "    this._root_extra_style(this.root)\n",
       "    this.root.attr('style', 'display: inline-block');\n",
       "\n",
       "    $(parent_element).append(this.root);\n",
       "\n",
       "    this._init_header(this);\n",
       "    this._init_canvas(this);\n",
       "    this._init_toolbar(this);\n",
       "\n",
       "    var fig = this;\n",
       "\n",
       "    this.waiting = false;\n",
       "\n",
       "    this.ws.onopen =  function () {\n",
       "            fig.send_message(\"supports_binary\", {value: fig.supports_binary});\n",
       "            fig.send_message(\"send_image_mode\", {});\n",
       "            if (mpl.ratio != 1) {\n",
       "                fig.send_message(\"set_dpi_ratio\", {'dpi_ratio': mpl.ratio});\n",
       "            }\n",
       "            fig.send_message(\"refresh\", {});\n",
       "        }\n",
       "\n",
       "    this.imageObj.onload = function() {\n",
       "            if (fig.image_mode == 'full') {\n",
       "                // Full images could contain transparency (where diff images\n",
       "                // almost always do), so we need to clear the canvas so that\n",
       "                // there is no ghosting.\n",
       "                fig.context.clearRect(0, 0, fig.canvas.width, fig.canvas.height);\n",
       "            }\n",
       "            fig.context.drawImage(fig.imageObj, 0, 0);\n",
       "        };\n",
       "\n",
       "    this.imageObj.onunload = function() {\n",
       "        fig.ws.close();\n",
       "    }\n",
       "\n",
       "    this.ws.onmessage = this._make_on_message_function(this);\n",
       "\n",
       "    this.ondownload = ondownload;\n",
       "}\n",
       "\n",
       "mpl.figure.prototype._init_header = function() {\n",
       "    var titlebar = $(\n",
       "        '<div class=\"ui-dialog-titlebar ui-widget-header ui-corner-all ' +\n",
       "        'ui-helper-clearfix\"/>');\n",
       "    var titletext = $(\n",
       "        '<div class=\"ui-dialog-title\" style=\"width: 100%; ' +\n",
       "        'text-align: center; padding: 3px;\"/>');\n",
       "    titlebar.append(titletext)\n",
       "    this.root.append(titlebar);\n",
       "    this.header = titletext[0];\n",
       "}\n",
       "\n",
       "\n",
       "\n",
       "mpl.figure.prototype._canvas_extra_style = function(canvas_div) {\n",
       "\n",
       "}\n",
       "\n",
       "\n",
       "mpl.figure.prototype._root_extra_style = function(canvas_div) {\n",
       "\n",
       "}\n",
       "\n",
       "mpl.figure.prototype._init_canvas = function() {\n",
       "    var fig = this;\n",
       "\n",
       "    var canvas_div = $('<div/>');\n",
       "\n",
       "    canvas_div.attr('style', 'position: relative; clear: both; outline: 0');\n",
       "\n",
       "    function canvas_keyboard_event(event) {\n",
       "        return fig.key_event(event, event['data']);\n",
       "    }\n",
       "\n",
       "    canvas_div.keydown('key_press', canvas_keyboard_event);\n",
       "    canvas_div.keyup('key_release', canvas_keyboard_event);\n",
       "    this.canvas_div = canvas_div\n",
       "    this._canvas_extra_style(canvas_div)\n",
       "    this.root.append(canvas_div);\n",
       "\n",
       "    var canvas = $('<canvas/>');\n",
       "    canvas.addClass('mpl-canvas');\n",
       "    canvas.attr('style', \"left: 0; top: 0; z-index: 0; outline: 0\")\n",
       "\n",
       "    this.canvas = canvas[0];\n",
       "    this.context = canvas[0].getContext(\"2d\");\n",
       "\n",
       "    var backingStore = this.context.backingStorePixelRatio ||\n",
       "\tthis.context.webkitBackingStorePixelRatio ||\n",
       "\tthis.context.mozBackingStorePixelRatio ||\n",
       "\tthis.context.msBackingStorePixelRatio ||\n",
       "\tthis.context.oBackingStorePixelRatio ||\n",
       "\tthis.context.backingStorePixelRatio || 1;\n",
       "\n",
       "    mpl.ratio = (window.devicePixelRatio || 1) / backingStore;\n",
       "\n",
       "    var rubberband = $('<canvas/>');\n",
       "    rubberband.attr('style', \"position: absolute; left: 0; top: 0; z-index: 1;\")\n",
       "\n",
       "    var pass_mouse_events = true;\n",
       "\n",
       "    canvas_div.resizable({\n",
       "        start: function(event, ui) {\n",
       "            pass_mouse_events = false;\n",
       "        },\n",
       "        resize: function(event, ui) {\n",
       "            fig.request_resize(ui.size.width, ui.size.height);\n",
       "        },\n",
       "        stop: function(event, ui) {\n",
       "            pass_mouse_events = true;\n",
       "            fig.request_resize(ui.size.width, ui.size.height);\n",
       "        },\n",
       "    });\n",
       "\n",
       "    function mouse_event_fn(event) {\n",
       "        if (pass_mouse_events)\n",
       "            return fig.mouse_event(event, event['data']);\n",
       "    }\n",
       "\n",
       "    rubberband.mousedown('button_press', mouse_event_fn);\n",
       "    rubberband.mouseup('button_release', mouse_event_fn);\n",
       "    // Throttle sequential mouse events to 1 every 20ms.\n",
       "    rubberband.mousemove('motion_notify', mouse_event_fn);\n",
       "\n",
       "    rubberband.mouseenter('figure_enter', mouse_event_fn);\n",
       "    rubberband.mouseleave('figure_leave', mouse_event_fn);\n",
       "\n",
       "    canvas_div.on(\"wheel\", function (event) {\n",
       "        event = event.originalEvent;\n",
       "        event['data'] = 'scroll'\n",
       "        if (event.deltaY < 0) {\n",
       "            event.step = 1;\n",
       "        } else {\n",
       "            event.step = -1;\n",
       "        }\n",
       "        mouse_event_fn(event);\n",
       "    });\n",
       "\n",
       "    canvas_div.append(canvas);\n",
       "    canvas_div.append(rubberband);\n",
       "\n",
       "    this.rubberband = rubberband;\n",
       "    this.rubberband_canvas = rubberband[0];\n",
       "    this.rubberband_context = rubberband[0].getContext(\"2d\");\n",
       "    this.rubberband_context.strokeStyle = \"#000000\";\n",
       "\n",
       "    this._resize_canvas = function(width, height) {\n",
       "        // Keep the size of the canvas, canvas container, and rubber band\n",
       "        // canvas in synch.\n",
       "        canvas_div.css('width', width)\n",
       "        canvas_div.css('height', height)\n",
       "\n",
       "        canvas.attr('width', width * mpl.ratio);\n",
       "        canvas.attr('height', height * mpl.ratio);\n",
       "        canvas.attr('style', 'width: ' + width + 'px; height: ' + height + 'px;');\n",
       "\n",
       "        rubberband.attr('width', width);\n",
       "        rubberband.attr('height', height);\n",
       "    }\n",
       "\n",
       "    // Set the figure to an initial 600x600px, this will subsequently be updated\n",
       "    // upon first draw.\n",
       "    this._resize_canvas(600, 600);\n",
       "\n",
       "    // Disable right mouse context menu.\n",
       "    $(this.rubberband_canvas).bind(\"contextmenu\",function(e){\n",
       "        return false;\n",
       "    });\n",
       "\n",
       "    function set_focus () {\n",
       "        canvas.focus();\n",
       "        canvas_div.focus();\n",
       "    }\n",
       "\n",
       "    window.setTimeout(set_focus, 100);\n",
       "}\n",
       "\n",
       "mpl.figure.prototype._init_toolbar = function() {\n",
       "    var fig = this;\n",
       "\n",
       "    var nav_element = $('<div/>')\n",
       "    nav_element.attr('style', 'width: 100%');\n",
       "    this.root.append(nav_element);\n",
       "\n",
       "    // Define a callback function for later on.\n",
       "    function toolbar_event(event) {\n",
       "        return fig.toolbar_button_onclick(event['data']);\n",
       "    }\n",
       "    function toolbar_mouse_event(event) {\n",
       "        return fig.toolbar_button_onmouseover(event['data']);\n",
       "    }\n",
       "\n",
       "    for(var toolbar_ind in mpl.toolbar_items) {\n",
       "        var name = mpl.toolbar_items[toolbar_ind][0];\n",
       "        var tooltip = mpl.toolbar_items[toolbar_ind][1];\n",
       "        var image = mpl.toolbar_items[toolbar_ind][2];\n",
       "        var method_name = mpl.toolbar_items[toolbar_ind][3];\n",
       "\n",
       "        if (!name) {\n",
       "            // put a spacer in here.\n",
       "            continue;\n",
       "        }\n",
       "        var button = $('<button/>');\n",
       "        button.addClass('ui-button ui-widget ui-state-default ui-corner-all ' +\n",
       "                        'ui-button-icon-only');\n",
       "        button.attr('role', 'button');\n",
       "        button.attr('aria-disabled', 'false');\n",
       "        button.click(method_name, toolbar_event);\n",
       "        button.mouseover(tooltip, toolbar_mouse_event);\n",
       "\n",
       "        var icon_img = $('<span/>');\n",
       "        icon_img.addClass('ui-button-icon-primary ui-icon');\n",
       "        icon_img.addClass(image);\n",
       "        icon_img.addClass('ui-corner-all');\n",
       "\n",
       "        var tooltip_span = $('<span/>');\n",
       "        tooltip_span.addClass('ui-button-text');\n",
       "        tooltip_span.html(tooltip);\n",
       "\n",
       "        button.append(icon_img);\n",
       "        button.append(tooltip_span);\n",
       "\n",
       "        nav_element.append(button);\n",
       "    }\n",
       "\n",
       "    var fmt_picker_span = $('<span/>');\n",
       "\n",
       "    var fmt_picker = $('<select/>');\n",
       "    fmt_picker.addClass('mpl-toolbar-option ui-widget ui-widget-content');\n",
       "    fmt_picker_span.append(fmt_picker);\n",
       "    nav_element.append(fmt_picker_span);\n",
       "    this.format_dropdown = fmt_picker[0];\n",
       "\n",
       "    for (var ind in mpl.extensions) {\n",
       "        var fmt = mpl.extensions[ind];\n",
       "        var option = $(\n",
       "            '<option/>', {selected: fmt === mpl.default_extension}).html(fmt);\n",
       "        fmt_picker.append(option)\n",
       "    }\n",
       "\n",
       "    // Add hover states to the ui-buttons\n",
       "    $( \".ui-button\" ).hover(\n",
       "        function() { $(this).addClass(\"ui-state-hover\");},\n",
       "        function() { $(this).removeClass(\"ui-state-hover\");}\n",
       "    );\n",
       "\n",
       "    var status_bar = $('<span class=\"mpl-message\"/>');\n",
       "    nav_element.append(status_bar);\n",
       "    this.message = status_bar[0];\n",
       "}\n",
       "\n",
       "mpl.figure.prototype.request_resize = function(x_pixels, y_pixels) {\n",
       "    // Request matplotlib to resize the figure. Matplotlib will then trigger a resize in the client,\n",
       "    // which will in turn request a refresh of the image.\n",
       "    this.send_message('resize', {'width': x_pixels, 'height': y_pixels});\n",
       "}\n",
       "\n",
       "mpl.figure.prototype.send_message = function(type, properties) {\n",
       "    properties['type'] = type;\n",
       "    properties['figure_id'] = this.id;\n",
       "    this.ws.send(JSON.stringify(properties));\n",
       "}\n",
       "\n",
       "mpl.figure.prototype.send_draw_message = function() {\n",
       "    if (!this.waiting) {\n",
       "        this.waiting = true;\n",
       "        this.ws.send(JSON.stringify({type: \"draw\", figure_id: this.id}));\n",
       "    }\n",
       "}\n",
       "\n",
       "\n",
       "mpl.figure.prototype.handle_save = function(fig, msg) {\n",
       "    var format_dropdown = fig.format_dropdown;\n",
       "    var format = format_dropdown.options[format_dropdown.selectedIndex].value;\n",
       "    fig.ondownload(fig, format);\n",
       "}\n",
       "\n",
       "\n",
       "mpl.figure.prototype.handle_resize = function(fig, msg) {\n",
       "    var size = msg['size'];\n",
       "    if (size[0] != fig.canvas.width || size[1] != fig.canvas.height) {\n",
       "        fig._resize_canvas(size[0], size[1]);\n",
       "        fig.send_message(\"refresh\", {});\n",
       "    };\n",
       "}\n",
       "\n",
       "mpl.figure.prototype.handle_rubberband = function(fig, msg) {\n",
       "    var x0 = msg['x0'] / mpl.ratio;\n",
       "    var y0 = (fig.canvas.height - msg['y0']) / mpl.ratio;\n",
       "    var x1 = msg['x1'] / mpl.ratio;\n",
       "    var y1 = (fig.canvas.height - msg['y1']) / mpl.ratio;\n",
       "    x0 = Math.floor(x0) + 0.5;\n",
       "    y0 = Math.floor(y0) + 0.5;\n",
       "    x1 = Math.floor(x1) + 0.5;\n",
       "    y1 = Math.floor(y1) + 0.5;\n",
       "    var min_x = Math.min(x0, x1);\n",
       "    var min_y = Math.min(y0, y1);\n",
       "    var width = Math.abs(x1 - x0);\n",
       "    var height = Math.abs(y1 - y0);\n",
       "\n",
       "    fig.rubberband_context.clearRect(\n",
       "        0, 0, fig.canvas.width, fig.canvas.height);\n",
       "\n",
       "    fig.rubberband_context.strokeRect(min_x, min_y, width, height);\n",
       "}\n",
       "\n",
       "mpl.figure.prototype.handle_figure_label = function(fig, msg) {\n",
       "    // Updates the figure title.\n",
       "    fig.header.textContent = msg['label'];\n",
       "}\n",
       "\n",
       "mpl.figure.prototype.handle_cursor = function(fig, msg) {\n",
       "    var cursor = msg['cursor'];\n",
       "    switch(cursor)\n",
       "    {\n",
       "    case 0:\n",
       "        cursor = 'pointer';\n",
       "        break;\n",
       "    case 1:\n",
       "        cursor = 'default';\n",
       "        break;\n",
       "    case 2:\n",
       "        cursor = 'crosshair';\n",
       "        break;\n",
       "    case 3:\n",
       "        cursor = 'move';\n",
       "        break;\n",
       "    }\n",
       "    fig.rubberband_canvas.style.cursor = cursor;\n",
       "}\n",
       "\n",
       "mpl.figure.prototype.handle_message = function(fig, msg) {\n",
       "    fig.message.textContent = msg['message'];\n",
       "}\n",
       "\n",
       "mpl.figure.prototype.handle_draw = function(fig, msg) {\n",
       "    // Request the server to send over a new figure.\n",
       "    fig.send_draw_message();\n",
       "}\n",
       "\n",
       "mpl.figure.prototype.handle_image_mode = function(fig, msg) {\n",
       "    fig.image_mode = msg['mode'];\n",
       "}\n",
       "\n",
       "mpl.figure.prototype.updated_canvas_event = function() {\n",
       "    // Called whenever the canvas gets updated.\n",
       "    this.send_message(\"ack\", {});\n",
       "}\n",
       "\n",
       "// A function to construct a web socket function for onmessage handling.\n",
       "// Called in the figure constructor.\n",
       "mpl.figure.prototype._make_on_message_function = function(fig) {\n",
       "    return function socket_on_message(evt) {\n",
       "        if (evt.data instanceof Blob) {\n",
       "            /* FIXME: We get \"Resource interpreted as Image but\n",
       "             * transferred with MIME type text/plain:\" errors on\n",
       "             * Chrome.  But how to set the MIME type?  It doesn't seem\n",
       "             * to be part of the websocket stream */\n",
       "            evt.data.type = \"image/png\";\n",
       "\n",
       "            /* Free the memory for the previous frames */\n",
       "            if (fig.imageObj.src) {\n",
       "                (window.URL || window.webkitURL).revokeObjectURL(\n",
       "                    fig.imageObj.src);\n",
       "            }\n",
       "\n",
       "            fig.imageObj.src = (window.URL || window.webkitURL).createObjectURL(\n",
       "                evt.data);\n",
       "            fig.updated_canvas_event();\n",
       "            fig.waiting = false;\n",
       "            return;\n",
       "        }\n",
       "        else if (typeof evt.data === 'string' && evt.data.slice(0, 21) == \"data:image/png;base64\") {\n",
       "            fig.imageObj.src = evt.data;\n",
       "            fig.updated_canvas_event();\n",
       "            fig.waiting = false;\n",
       "            return;\n",
       "        }\n",
       "\n",
       "        var msg = JSON.parse(evt.data);\n",
       "        var msg_type = msg['type'];\n",
       "\n",
       "        // Call the  \"handle_{type}\" callback, which takes\n",
       "        // the figure and JSON message as its only arguments.\n",
       "        try {\n",
       "            var callback = fig[\"handle_\" + msg_type];\n",
       "        } catch (e) {\n",
       "            console.log(\"No handler for the '\" + msg_type + \"' message type: \", msg);\n",
       "            return;\n",
       "        }\n",
       "\n",
       "        if (callback) {\n",
       "            try {\n",
       "                // console.log(\"Handling '\" + msg_type + \"' message: \", msg);\n",
       "                callback(fig, msg);\n",
       "            } catch (e) {\n",
       "                console.log(\"Exception inside the 'handler_\" + msg_type + \"' callback:\", e, e.stack, msg);\n",
       "            }\n",
       "        }\n",
       "    };\n",
       "}\n",
       "\n",
       "// from http://stackoverflow.com/questions/1114465/getting-mouse-location-in-canvas\n",
       "mpl.findpos = function(e) {\n",
       "    //this section is from http://www.quirksmode.org/js/events_properties.html\n",
       "    var targ;\n",
       "    if (!e)\n",
       "        e = window.event;\n",
       "    if (e.target)\n",
       "        targ = e.target;\n",
       "    else if (e.srcElement)\n",
       "        targ = e.srcElement;\n",
       "    if (targ.nodeType == 3) // defeat Safari bug\n",
       "        targ = targ.parentNode;\n",
       "\n",
       "    // jQuery normalizes the pageX and pageY\n",
       "    // pageX,Y are the mouse positions relative to the document\n",
       "    // offset() returns the position of the element relative to the document\n",
       "    var x = e.pageX - $(targ).offset().left;\n",
       "    var y = e.pageY - $(targ).offset().top;\n",
       "\n",
       "    return {\"x\": x, \"y\": y};\n",
       "};\n",
       "\n",
       "/*\n",
       " * return a copy of an object with only non-object keys\n",
       " * we need this to avoid circular references\n",
       " * http://stackoverflow.com/a/24161582/3208463\n",
       " */\n",
       "function simpleKeys (original) {\n",
       "  return Object.keys(original).reduce(function (obj, key) {\n",
       "    if (typeof original[key] !== 'object')\n",
       "        obj[key] = original[key]\n",
       "    return obj;\n",
       "  }, {});\n",
       "}\n",
       "\n",
       "mpl.figure.prototype.mouse_event = function(event, name) {\n",
       "    var canvas_pos = mpl.findpos(event)\n",
       "\n",
       "    if (name === 'button_press')\n",
       "    {\n",
       "        this.canvas.focus();\n",
       "        this.canvas_div.focus();\n",
       "    }\n",
       "\n",
       "    var x = canvas_pos.x * mpl.ratio;\n",
       "    var y = canvas_pos.y * mpl.ratio;\n",
       "\n",
       "    this.send_message(name, {x: x, y: y, button: event.button,\n",
       "                             step: event.step,\n",
       "                             guiEvent: simpleKeys(event)});\n",
       "\n",
       "    /* This prevents the web browser from automatically changing to\n",
       "     * the text insertion cursor when the button is pressed.  We want\n",
       "     * to control all of the cursor setting manually through the\n",
       "     * 'cursor' event from matplotlib */\n",
       "    event.preventDefault();\n",
       "    return false;\n",
       "}\n",
       "\n",
       "mpl.figure.prototype._key_event_extra = function(event, name) {\n",
       "    // Handle any extra behaviour associated with a key event\n",
       "}\n",
       "\n",
       "mpl.figure.prototype.key_event = function(event, name) {\n",
       "\n",
       "    // Prevent repeat events\n",
       "    if (name == 'key_press')\n",
       "    {\n",
       "        if (event.which === this._key)\n",
       "            return;\n",
       "        else\n",
       "            this._key = event.which;\n",
       "    }\n",
       "    if (name == 'key_release')\n",
       "        this._key = null;\n",
       "\n",
       "    var value = '';\n",
       "    if (event.ctrlKey && event.which != 17)\n",
       "        value += \"ctrl+\";\n",
       "    if (event.altKey && event.which != 18)\n",
       "        value += \"alt+\";\n",
       "    if (event.shiftKey && event.which != 16)\n",
       "        value += \"shift+\";\n",
       "\n",
       "    value += 'k';\n",
       "    value += event.which.toString();\n",
       "\n",
       "    this._key_event_extra(event, name);\n",
       "\n",
       "    this.send_message(name, {key: value,\n",
       "                             guiEvent: simpleKeys(event)});\n",
       "    return false;\n",
       "}\n",
       "\n",
       "mpl.figure.prototype.toolbar_button_onclick = function(name) {\n",
       "    if (name == 'download') {\n",
       "        this.handle_save(this, null);\n",
       "    } else {\n",
       "        this.send_message(\"toolbar_button\", {name: name});\n",
       "    }\n",
       "};\n",
       "\n",
       "mpl.figure.prototype.toolbar_button_onmouseover = function(tooltip) {\n",
       "    this.message.textContent = tooltip;\n",
       "};\n",
       "mpl.toolbar_items = [[\"Home\", \"Reset original view\", \"fa fa-home icon-home\", \"home\"], [\"Back\", \"Back to previous view\", \"fa fa-arrow-left icon-arrow-left\", \"back\"], [\"Forward\", \"Forward to next view\", \"fa fa-arrow-right icon-arrow-right\", \"forward\"], [\"\", \"\", \"\", \"\"], [\"Pan\", \"Pan axes with left mouse, zoom with right\", \"fa fa-arrows icon-move\", \"pan\"], [\"Zoom\", \"Zoom to rectangle\", \"fa fa-square-o icon-check-empty\", \"zoom\"], [\"\", \"\", \"\", \"\"], [\"Download\", \"Download plot\", \"fa fa-floppy-o icon-save\", \"download\"]];\n",
       "\n",
       "mpl.extensions = [\"eps\", \"jpeg\", \"pdf\", \"png\", \"ps\", \"raw\", \"svg\", \"tif\"];\n",
       "\n",
       "mpl.default_extension = \"png\";var comm_websocket_adapter = function(comm) {\n",
       "    // Create a \"websocket\"-like object which calls the given IPython comm\n",
       "    // object with the appropriate methods. Currently this is a non binary\n",
       "    // socket, so there is still some room for performance tuning.\n",
       "    var ws = {};\n",
       "\n",
       "    ws.close = function() {\n",
       "        comm.close()\n",
       "    };\n",
       "    ws.send = function(m) {\n",
       "        //console.log('sending', m);\n",
       "        comm.send(m);\n",
       "    };\n",
       "    // Register the callback with on_msg.\n",
       "    comm.on_msg(function(msg) {\n",
       "        //console.log('receiving', msg['content']['data'], msg);\n",
       "        // Pass the mpl event to the overridden (by mpl) onmessage function.\n",
       "        ws.onmessage(msg['content']['data'])\n",
       "    });\n",
       "    return ws;\n",
       "}\n",
       "\n",
       "mpl.mpl_figure_comm = function(comm, msg) {\n",
       "    // This is the function which gets called when the mpl process\n",
       "    // starts-up an IPython Comm through the \"matplotlib\" channel.\n",
       "\n",
       "    var id = msg.content.data.id;\n",
       "    // Get hold of the div created by the display call when the Comm\n",
       "    // socket was opened in Python.\n",
       "    var element = $(\"#\" + id);\n",
       "    var ws_proxy = comm_websocket_adapter(comm)\n",
       "\n",
       "    function ondownload(figure, format) {\n",
       "        window.open(figure.imageObj.src);\n",
       "    }\n",
       "\n",
       "    var fig = new mpl.figure(id, ws_proxy,\n",
       "                           ondownload,\n",
       "                           element.get(0));\n",
       "\n",
       "    // Call onopen now - mpl needs it, as it is assuming we've passed it a real\n",
       "    // web socket which is closed, not our websocket->open comm proxy.\n",
       "    ws_proxy.onopen();\n",
       "\n",
       "    fig.parent_element = element.get(0);\n",
       "    fig.cell_info = mpl.find_output_cell(\"<div id='\" + id + \"'></div>\");\n",
       "    if (!fig.cell_info) {\n",
       "        console.error(\"Failed to find cell for figure\", id, fig);\n",
       "        return;\n",
       "    }\n",
       "\n",
       "    var output_index = fig.cell_info[2]\n",
       "    var cell = fig.cell_info[0];\n",
       "\n",
       "};\n",
       "\n",
       "mpl.figure.prototype.handle_close = function(fig, msg) {\n",
       "    var width = fig.canvas.width/mpl.ratio\n",
       "    fig.root.unbind('remove')\n",
       "\n",
       "    // Update the output cell to use the data from the current canvas.\n",
       "    fig.push_to_output();\n",
       "    var dataURL = fig.canvas.toDataURL();\n",
       "    // Re-enable the keyboard manager in IPython - without this line, in FF,\n",
       "    // the notebook keyboard shortcuts fail.\n",
       "    IPython.keyboard_manager.enable()\n",
       "    $(fig.parent_element).html('<img src=\"' + dataURL + '\" width=\"' + width + '\">');\n",
       "    fig.close_ws(fig, msg);\n",
       "}\n",
       "\n",
       "mpl.figure.prototype.close_ws = function(fig, msg){\n",
       "    fig.send_message('closing', msg);\n",
       "    // fig.ws.close()\n",
       "}\n",
       "\n",
       "mpl.figure.prototype.push_to_output = function(remove_interactive) {\n",
       "    // Turn the data on the canvas into data in the output cell.\n",
       "    var width = this.canvas.width/mpl.ratio\n",
       "    var dataURL = this.canvas.toDataURL();\n",
       "    this.cell_info[1]['text/html'] = '<img src=\"' + dataURL + '\" width=\"' + width + '\">';\n",
       "}\n",
       "\n",
       "mpl.figure.prototype.updated_canvas_event = function() {\n",
       "    // Tell IPython that the notebook contents must change.\n",
       "    IPython.notebook.set_dirty(true);\n",
       "    this.send_message(\"ack\", {});\n",
       "    var fig = this;\n",
       "    // Wait a second, then push the new image to the DOM so\n",
       "    // that it is saved nicely (might be nice to debounce this).\n",
       "    setTimeout(function () { fig.push_to_output() }, 1000);\n",
       "}\n",
       "\n",
       "mpl.figure.prototype._init_toolbar = function() {\n",
       "    var fig = this;\n",
       "\n",
       "    var nav_element = $('<div/>')\n",
       "    nav_element.attr('style', 'width: 100%');\n",
       "    this.root.append(nav_element);\n",
       "\n",
       "    // Define a callback function for later on.\n",
       "    function toolbar_event(event) {\n",
       "        return fig.toolbar_button_onclick(event['data']);\n",
       "    }\n",
       "    function toolbar_mouse_event(event) {\n",
       "        return fig.toolbar_button_onmouseover(event['data']);\n",
       "    }\n",
       "\n",
       "    for(var toolbar_ind in mpl.toolbar_items){\n",
       "        var name = mpl.toolbar_items[toolbar_ind][0];\n",
       "        var tooltip = mpl.toolbar_items[toolbar_ind][1];\n",
       "        var image = mpl.toolbar_items[toolbar_ind][2];\n",
       "        var method_name = mpl.toolbar_items[toolbar_ind][3];\n",
       "\n",
       "        if (!name) { continue; };\n",
       "\n",
       "        var button = $('<button class=\"btn btn-default\" href=\"#\" title=\"' + name + '\"><i class=\"fa ' + image + ' fa-lg\"></i></button>');\n",
       "        button.click(method_name, toolbar_event);\n",
       "        button.mouseover(tooltip, toolbar_mouse_event);\n",
       "        nav_element.append(button);\n",
       "    }\n",
       "\n",
       "    // Add the status bar.\n",
       "    var status_bar = $('<span class=\"mpl-message\" style=\"text-align:right; float: right;\"/>');\n",
       "    nav_element.append(status_bar);\n",
       "    this.message = status_bar[0];\n",
       "\n",
       "    // Add the close button to the window.\n",
       "    var buttongrp = $('<div class=\"btn-group inline pull-right\"></div>');\n",
       "    var button = $('<button class=\"btn btn-mini btn-primary\" href=\"#\" title=\"Stop Interaction\"><i class=\"fa fa-power-off icon-remove icon-large\"></i></button>');\n",
       "    button.click(function (evt) { fig.handle_close(fig, {}); } );\n",
       "    button.mouseover('Stop Interaction', toolbar_mouse_event);\n",
       "    buttongrp.append(button);\n",
       "    var titlebar = this.root.find($('.ui-dialog-titlebar'));\n",
       "    titlebar.prepend(buttongrp);\n",
       "}\n",
       "\n",
       "mpl.figure.prototype._root_extra_style = function(el){\n",
       "    var fig = this\n",
       "    el.on(\"remove\", function(){\n",
       "\tfig.close_ws(fig, {});\n",
       "    });\n",
       "}\n",
       "\n",
       "mpl.figure.prototype._canvas_extra_style = function(el){\n",
       "    // this is important to make the div 'focusable\n",
       "    el.attr('tabindex', 0)\n",
       "    // reach out to IPython and tell the keyboard manager to turn it's self\n",
       "    // off when our div gets focus\n",
       "\n",
       "    // location in version 3\n",
       "    if (IPython.notebook.keyboard_manager) {\n",
       "        IPython.notebook.keyboard_manager.register_events(el);\n",
       "    }\n",
       "    else {\n",
       "        // location in version 2\n",
       "        IPython.keyboard_manager.register_events(el);\n",
       "    }\n",
       "\n",
       "}\n",
       "\n",
       "mpl.figure.prototype._key_event_extra = function(event, name) {\n",
       "    var manager = IPython.notebook.keyboard_manager;\n",
       "    if (!manager)\n",
       "        manager = IPython.keyboard_manager;\n",
       "\n",
       "    // Check for shift+enter\n",
       "    if (event.shiftKey && event.which == 13) {\n",
       "        this.canvas_div.blur();\n",
       "        event.shiftKey = false;\n",
       "        // Send a \"J\" for go to next cell\n",
       "        event.which = 74;\n",
       "        event.keyCode = 74;\n",
       "        manager.command_mode();\n",
       "        manager.handle_keydown(event);\n",
       "    }\n",
       "}\n",
       "\n",
       "mpl.figure.prototype.handle_save = function(fig, msg) {\n",
       "    fig.ondownload(fig, null);\n",
       "}\n",
       "\n",
       "\n",
       "mpl.find_output_cell = function(html_output) {\n",
       "    // Return the cell and output element which can be found *uniquely* in the notebook.\n",
       "    // Note - this is a bit hacky, but it is done because the \"notebook_saving.Notebook\"\n",
       "    // IPython event is triggered only after the cells have been serialised, which for\n",
       "    // our purposes (turning an active figure into a static one), is too late.\n",
       "    var cells = IPython.notebook.get_cells();\n",
       "    var ncells = cells.length;\n",
       "    for (var i=0; i<ncells; i++) {\n",
       "        var cell = cells[i];\n",
       "        if (cell.cell_type === 'code'){\n",
       "            for (var j=0; j<cell.output_area.outputs.length; j++) {\n",
       "                var data = cell.output_area.outputs[j];\n",
       "                if (data.data) {\n",
       "                    // IPython >= 3 moved mimebundle to data attribute of output\n",
       "                    data = data.data;\n",
       "                }\n",
       "                if (data['text/html'] == html_output) {\n",
       "                    return [cell, data, j];\n",
       "                }\n",
       "            }\n",
       "        }\n",
       "    }\n",
       "}\n",
       "\n",
       "// Register the function which deals with the matplotlib target/channel.\n",
       "// The kernel may be null if the page has been refreshed.\n",
       "if (IPython.notebook.kernel != null) {\n",
       "    IPython.notebook.kernel.comm_manager.register_target('matplotlib', mpl.mpl_figure_comm);\n",
       "}\n"
      ],
      "text/plain": [
       "<IPython.core.display.Javascript object>"
      ]
     },
     "metadata": {},
     "output_type": "display_data"
    },
    {
     "data": {
      "text/html": [
       "<img src=\"data:image/png;base64,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\" width=\"640\">"
      ],
      "text/plain": [
       "<IPython.core.display.HTML object>"
      ]
     },
     "metadata": {},
     "output_type": "display_data"
    },
    {
     "data": {
      "application/javascript": [
       "/* Put everything inside the global mpl namespace */\n",
       "window.mpl = {};\n",
       "\n",
       "\n",
       "mpl.get_websocket_type = function() {\n",
       "    if (typeof(WebSocket) !== 'undefined') {\n",
       "        return WebSocket;\n",
       "    } else if (typeof(MozWebSocket) !== 'undefined') {\n",
       "        return MozWebSocket;\n",
       "    } else {\n",
       "        alert('Your browser does not have WebSocket support.' +\n",
       "              'Please try Chrome, Safari or Firefox ≥ 6. ' +\n",
       "              'Firefox 4 and 5 are also supported but you ' +\n",
       "              'have to enable WebSockets in about:config.');\n",
       "    };\n",
       "}\n",
       "\n",
       "mpl.figure = function(figure_id, websocket, ondownload, parent_element) {\n",
       "    this.id = figure_id;\n",
       "\n",
       "    this.ws = websocket;\n",
       "\n",
       "    this.supports_binary = (this.ws.binaryType != undefined);\n",
       "\n",
       "    if (!this.supports_binary) {\n",
       "        var warnings = document.getElementById(\"mpl-warnings\");\n",
       "        if (warnings) {\n",
       "            warnings.style.display = 'block';\n",
       "            warnings.textContent = (\n",
       "                \"This browser does not support binary websocket messages. \" +\n",
       "                    \"Performance may be slow.\");\n",
       "        }\n",
       "    }\n",
       "\n",
       "    this.imageObj = new Image();\n",
       "\n",
       "    this.context = undefined;\n",
       "    this.message = undefined;\n",
       "    this.canvas = undefined;\n",
       "    this.rubberband_canvas = undefined;\n",
       "    this.rubberband_context = undefined;\n",
       "    this.format_dropdown = undefined;\n",
       "\n",
       "    this.image_mode = 'full';\n",
       "\n",
       "    this.root = $('<div/>');\n",
       "    this._root_extra_style(this.root)\n",
       "    this.root.attr('style', 'display: inline-block');\n",
       "\n",
       "    $(parent_element).append(this.root);\n",
       "\n",
       "    this._init_header(this);\n",
       "    this._init_canvas(this);\n",
       "    this._init_toolbar(this);\n",
       "\n",
       "    var fig = this;\n",
       "\n",
       "    this.waiting = false;\n",
       "\n",
       "    this.ws.onopen =  function () {\n",
       "            fig.send_message(\"supports_binary\", {value: fig.supports_binary});\n",
       "            fig.send_message(\"send_image_mode\", {});\n",
       "            if (mpl.ratio != 1) {\n",
       "                fig.send_message(\"set_dpi_ratio\", {'dpi_ratio': mpl.ratio});\n",
       "            }\n",
       "            fig.send_message(\"refresh\", {});\n",
       "        }\n",
       "\n",
       "    this.imageObj.onload = function() {\n",
       "            if (fig.image_mode == 'full') {\n",
       "                // Full images could contain transparency (where diff images\n",
       "                // almost always do), so we need to clear the canvas so that\n",
       "                // there is no ghosting.\n",
       "                fig.context.clearRect(0, 0, fig.canvas.width, fig.canvas.height);\n",
       "            }\n",
       "            fig.context.drawImage(fig.imageObj, 0, 0);\n",
       "        };\n",
       "\n",
       "    this.imageObj.onunload = function() {\n",
       "        fig.ws.close();\n",
       "    }\n",
       "\n",
       "    this.ws.onmessage = this._make_on_message_function(this);\n",
       "\n",
       "    this.ondownload = ondownload;\n",
       "}\n",
       "\n",
       "mpl.figure.prototype._init_header = function() {\n",
       "    var titlebar = $(\n",
       "        '<div class=\"ui-dialog-titlebar ui-widget-header ui-corner-all ' +\n",
       "        'ui-helper-clearfix\"/>');\n",
       "    var titletext = $(\n",
       "        '<div class=\"ui-dialog-title\" style=\"width: 100%; ' +\n",
       "        'text-align: center; padding: 3px;\"/>');\n",
       "    titlebar.append(titletext)\n",
       "    this.root.append(titlebar);\n",
       "    this.header = titletext[0];\n",
       "}\n",
       "\n",
       "\n",
       "\n",
       "mpl.figure.prototype._canvas_extra_style = function(canvas_div) {\n",
       "\n",
       "}\n",
       "\n",
       "\n",
       "mpl.figure.prototype._root_extra_style = function(canvas_div) {\n",
       "\n",
       "}\n",
       "\n",
       "mpl.figure.prototype._init_canvas = function() {\n",
       "    var fig = this;\n",
       "\n",
       "    var canvas_div = $('<div/>');\n",
       "\n",
       "    canvas_div.attr('style', 'position: relative; clear: both; outline: 0');\n",
       "\n",
       "    function canvas_keyboard_event(event) {\n",
       "        return fig.key_event(event, event['data']);\n",
       "    }\n",
       "\n",
       "    canvas_div.keydown('key_press', canvas_keyboard_event);\n",
       "    canvas_div.keyup('key_release', canvas_keyboard_event);\n",
       "    this.canvas_div = canvas_div\n",
       "    this._canvas_extra_style(canvas_div)\n",
       "    this.root.append(canvas_div);\n",
       "\n",
       "    var canvas = $('<canvas/>');\n",
       "    canvas.addClass('mpl-canvas');\n",
       "    canvas.attr('style', \"left: 0; top: 0; z-index: 0; outline: 0\")\n",
       "\n",
       "    this.canvas = canvas[0];\n",
       "    this.context = canvas[0].getContext(\"2d\");\n",
       "\n",
       "    var backingStore = this.context.backingStorePixelRatio ||\n",
       "\tthis.context.webkitBackingStorePixelRatio ||\n",
       "\tthis.context.mozBackingStorePixelRatio ||\n",
       "\tthis.context.msBackingStorePixelRatio ||\n",
       "\tthis.context.oBackingStorePixelRatio ||\n",
       "\tthis.context.backingStorePixelRatio || 1;\n",
       "\n",
       "    mpl.ratio = (window.devicePixelRatio || 1) / backingStore;\n",
       "\n",
       "    var rubberband = $('<canvas/>');\n",
       "    rubberband.attr('style', \"position: absolute; left: 0; top: 0; z-index: 1;\")\n",
       "\n",
       "    var pass_mouse_events = true;\n",
       "\n",
       "    canvas_div.resizable({\n",
       "        start: function(event, ui) {\n",
       "            pass_mouse_events = false;\n",
       "        },\n",
       "        resize: function(event, ui) {\n",
       "            fig.request_resize(ui.size.width, ui.size.height);\n",
       "        },\n",
       "        stop: function(event, ui) {\n",
       "            pass_mouse_events = true;\n",
       "            fig.request_resize(ui.size.width, ui.size.height);\n",
       "        },\n",
       "    });\n",
       "\n",
       "    function mouse_event_fn(event) {\n",
       "        if (pass_mouse_events)\n",
       "            return fig.mouse_event(event, event['data']);\n",
       "    }\n",
       "\n",
       "    rubberband.mousedown('button_press', mouse_event_fn);\n",
       "    rubberband.mouseup('button_release', mouse_event_fn);\n",
       "    // Throttle sequential mouse events to 1 every 20ms.\n",
       "    rubberband.mousemove('motion_notify', mouse_event_fn);\n",
       "\n",
       "    rubberband.mouseenter('figure_enter', mouse_event_fn);\n",
       "    rubberband.mouseleave('figure_leave', mouse_event_fn);\n",
       "\n",
       "    canvas_div.on(\"wheel\", function (event) {\n",
       "        event = event.originalEvent;\n",
       "        event['data'] = 'scroll'\n",
       "        if (event.deltaY < 0) {\n",
       "            event.step = 1;\n",
       "        } else {\n",
       "            event.step = -1;\n",
       "        }\n",
       "        mouse_event_fn(event);\n",
       "    });\n",
       "\n",
       "    canvas_div.append(canvas);\n",
       "    canvas_div.append(rubberband);\n",
       "\n",
       "    this.rubberband = rubberband;\n",
       "    this.rubberband_canvas = rubberband[0];\n",
       "    this.rubberband_context = rubberband[0].getContext(\"2d\");\n",
       "    this.rubberband_context.strokeStyle = \"#000000\";\n",
       "\n",
       "    this._resize_canvas = function(width, height) {\n",
       "        // Keep the size of the canvas, canvas container, and rubber band\n",
       "        // canvas in synch.\n",
       "        canvas_div.css('width', width)\n",
       "        canvas_div.css('height', height)\n",
       "\n",
       "        canvas.attr('width', width * mpl.ratio);\n",
       "        canvas.attr('height', height * mpl.ratio);\n",
       "        canvas.attr('style', 'width: ' + width + 'px; height: ' + height + 'px;');\n",
       "\n",
       "        rubberband.attr('width', width);\n",
       "        rubberband.attr('height', height);\n",
       "    }\n",
       "\n",
       "    // Set the figure to an initial 600x600px, this will subsequently be updated\n",
       "    // upon first draw.\n",
       "    this._resize_canvas(600, 600);\n",
       "\n",
       "    // Disable right mouse context menu.\n",
       "    $(this.rubberband_canvas).bind(\"contextmenu\",function(e){\n",
       "        return false;\n",
       "    });\n",
       "\n",
       "    function set_focus () {\n",
       "        canvas.focus();\n",
       "        canvas_div.focus();\n",
       "    }\n",
       "\n",
       "    window.setTimeout(set_focus, 100);\n",
       "}\n",
       "\n",
       "mpl.figure.prototype._init_toolbar = function() {\n",
       "    var fig = this;\n",
       "\n",
       "    var nav_element = $('<div/>')\n",
       "    nav_element.attr('style', 'width: 100%');\n",
       "    this.root.append(nav_element);\n",
       "\n",
       "    // Define a callback function for later on.\n",
       "    function toolbar_event(event) {\n",
       "        return fig.toolbar_button_onclick(event['data']);\n",
       "    }\n",
       "    function toolbar_mouse_event(event) {\n",
       "        return fig.toolbar_button_onmouseover(event['data']);\n",
       "    }\n",
       "\n",
       "    for(var toolbar_ind in mpl.toolbar_items) {\n",
       "        var name = mpl.toolbar_items[toolbar_ind][0];\n",
       "        var tooltip = mpl.toolbar_items[toolbar_ind][1];\n",
       "        var image = mpl.toolbar_items[toolbar_ind][2];\n",
       "        var method_name = mpl.toolbar_items[toolbar_ind][3];\n",
       "\n",
       "        if (!name) {\n",
       "            // put a spacer in here.\n",
       "            continue;\n",
       "        }\n",
       "        var button = $('<button/>');\n",
       "        button.addClass('ui-button ui-widget ui-state-default ui-corner-all ' +\n",
       "                        'ui-button-icon-only');\n",
       "        button.attr('role', 'button');\n",
       "        button.attr('aria-disabled', 'false');\n",
       "        button.click(method_name, toolbar_event);\n",
       "        button.mouseover(tooltip, toolbar_mouse_event);\n",
       "\n",
       "        var icon_img = $('<span/>');\n",
       "        icon_img.addClass('ui-button-icon-primary ui-icon');\n",
       "        icon_img.addClass(image);\n",
       "        icon_img.addClass('ui-corner-all');\n",
       "\n",
       "        var tooltip_span = $('<span/>');\n",
       "        tooltip_span.addClass('ui-button-text');\n",
       "        tooltip_span.html(tooltip);\n",
       "\n",
       "        button.append(icon_img);\n",
       "        button.append(tooltip_span);\n",
       "\n",
       "        nav_element.append(button);\n",
       "    }\n",
       "\n",
       "    var fmt_picker_span = $('<span/>');\n",
       "\n",
       "    var fmt_picker = $('<select/>');\n",
       "    fmt_picker.addClass('mpl-toolbar-option ui-widget ui-widget-content');\n",
       "    fmt_picker_span.append(fmt_picker);\n",
       "    nav_element.append(fmt_picker_span);\n",
       "    this.format_dropdown = fmt_picker[0];\n",
       "\n",
       "    for (var ind in mpl.extensions) {\n",
       "        var fmt = mpl.extensions[ind];\n",
       "        var option = $(\n",
       "            '<option/>', {selected: fmt === mpl.default_extension}).html(fmt);\n",
       "        fmt_picker.append(option)\n",
       "    }\n",
       "\n",
       "    // Add hover states to the ui-buttons\n",
       "    $( \".ui-button\" ).hover(\n",
       "        function() { $(this).addClass(\"ui-state-hover\");},\n",
       "        function() { $(this).removeClass(\"ui-state-hover\");}\n",
       "    );\n",
       "\n",
       "    var status_bar = $('<span class=\"mpl-message\"/>');\n",
       "    nav_element.append(status_bar);\n",
       "    this.message = status_bar[0];\n",
       "}\n",
       "\n",
       "mpl.figure.prototype.request_resize = function(x_pixels, y_pixels) {\n",
       "    // Request matplotlib to resize the figure. Matplotlib will then trigger a resize in the client,\n",
       "    // which will in turn request a refresh of the image.\n",
       "    this.send_message('resize', {'width': x_pixels, 'height': y_pixels});\n",
       "}\n",
       "\n",
       "mpl.figure.prototype.send_message = function(type, properties) {\n",
       "    properties['type'] = type;\n",
       "    properties['figure_id'] = this.id;\n",
       "    this.ws.send(JSON.stringify(properties));\n",
       "}\n",
       "\n",
       "mpl.figure.prototype.send_draw_message = function() {\n",
       "    if (!this.waiting) {\n",
       "        this.waiting = true;\n",
       "        this.ws.send(JSON.stringify({type: \"draw\", figure_id: this.id}));\n",
       "    }\n",
       "}\n",
       "\n",
       "\n",
       "mpl.figure.prototype.handle_save = function(fig, msg) {\n",
       "    var format_dropdown = fig.format_dropdown;\n",
       "    var format = format_dropdown.options[format_dropdown.selectedIndex].value;\n",
       "    fig.ondownload(fig, format);\n",
       "}\n",
       "\n",
       "\n",
       "mpl.figure.prototype.handle_resize = function(fig, msg) {\n",
       "    var size = msg['size'];\n",
       "    if (size[0] != fig.canvas.width || size[1] != fig.canvas.height) {\n",
       "        fig._resize_canvas(size[0], size[1]);\n",
       "        fig.send_message(\"refresh\", {});\n",
       "    };\n",
       "}\n",
       "\n",
       "mpl.figure.prototype.handle_rubberband = function(fig, msg) {\n",
       "    var x0 = msg['x0'] / mpl.ratio;\n",
       "    var y0 = (fig.canvas.height - msg['y0']) / mpl.ratio;\n",
       "    var x1 = msg['x1'] / mpl.ratio;\n",
       "    var y1 = (fig.canvas.height - msg['y1']) / mpl.ratio;\n",
       "    x0 = Math.floor(x0) + 0.5;\n",
       "    y0 = Math.floor(y0) + 0.5;\n",
       "    x1 = Math.floor(x1) + 0.5;\n",
       "    y1 = Math.floor(y1) + 0.5;\n",
       "    var min_x = Math.min(x0, x1);\n",
       "    var min_y = Math.min(y0, y1);\n",
       "    var width = Math.abs(x1 - x0);\n",
       "    var height = Math.abs(y1 - y0);\n",
       "\n",
       "    fig.rubberband_context.clearRect(\n",
       "        0, 0, fig.canvas.width, fig.canvas.height);\n",
       "\n",
       "    fig.rubberband_context.strokeRect(min_x, min_y, width, height);\n",
       "}\n",
       "\n",
       "mpl.figure.prototype.handle_figure_label = function(fig, msg) {\n",
       "    // Updates the figure title.\n",
       "    fig.header.textContent = msg['label'];\n",
       "}\n",
       "\n",
       "mpl.figure.prototype.handle_cursor = function(fig, msg) {\n",
       "    var cursor = msg['cursor'];\n",
       "    switch(cursor)\n",
       "    {\n",
       "    case 0:\n",
       "        cursor = 'pointer';\n",
       "        break;\n",
       "    case 1:\n",
       "        cursor = 'default';\n",
       "        break;\n",
       "    case 2:\n",
       "        cursor = 'crosshair';\n",
       "        break;\n",
       "    case 3:\n",
       "        cursor = 'move';\n",
       "        break;\n",
       "    }\n",
       "    fig.rubberband_canvas.style.cursor = cursor;\n",
       "}\n",
       "\n",
       "mpl.figure.prototype.handle_message = function(fig, msg) {\n",
       "    fig.message.textContent = msg['message'];\n",
       "}\n",
       "\n",
       "mpl.figure.prototype.handle_draw = function(fig, msg) {\n",
       "    // Request the server to send over a new figure.\n",
       "    fig.send_draw_message();\n",
       "}\n",
       "\n",
       "mpl.figure.prototype.handle_image_mode = function(fig, msg) {\n",
       "    fig.image_mode = msg['mode'];\n",
       "}\n",
       "\n",
       "mpl.figure.prototype.updated_canvas_event = function() {\n",
       "    // Called whenever the canvas gets updated.\n",
       "    this.send_message(\"ack\", {});\n",
       "}\n",
       "\n",
       "// A function to construct a web socket function for onmessage handling.\n",
       "// Called in the figure constructor.\n",
       "mpl.figure.prototype._make_on_message_function = function(fig) {\n",
       "    return function socket_on_message(evt) {\n",
       "        if (evt.data instanceof Blob) {\n",
       "            /* FIXME: We get \"Resource interpreted as Image but\n",
       "             * transferred with MIME type text/plain:\" errors on\n",
       "             * Chrome.  But how to set the MIME type?  It doesn't seem\n",
       "             * to be part of the websocket stream */\n",
       "            evt.data.type = \"image/png\";\n",
       "\n",
       "            /* Free the memory for the previous frames */\n",
       "            if (fig.imageObj.src) {\n",
       "                (window.URL || window.webkitURL).revokeObjectURL(\n",
       "                    fig.imageObj.src);\n",
       "            }\n",
       "\n",
       "            fig.imageObj.src = (window.URL || window.webkitURL).createObjectURL(\n",
       "                evt.data);\n",
       "            fig.updated_canvas_event();\n",
       "            fig.waiting = false;\n",
       "            return;\n",
       "        }\n",
       "        else if (typeof evt.data === 'string' && evt.data.slice(0, 21) == \"data:image/png;base64\") {\n",
       "            fig.imageObj.src = evt.data;\n",
       "            fig.updated_canvas_event();\n",
       "            fig.waiting = false;\n",
       "            return;\n",
       "        }\n",
       "\n",
       "        var msg = JSON.parse(evt.data);\n",
       "        var msg_type = msg['type'];\n",
       "\n",
       "        // Call the  \"handle_{type}\" callback, which takes\n",
       "        // the figure and JSON message as its only arguments.\n",
       "        try {\n",
       "            var callback = fig[\"handle_\" + msg_type];\n",
       "        } catch (e) {\n",
       "            console.log(\"No handler for the '\" + msg_type + \"' message type: \", msg);\n",
       "            return;\n",
       "        }\n",
       "\n",
       "        if (callback) {\n",
       "            try {\n",
       "                // console.log(\"Handling '\" + msg_type + \"' message: \", msg);\n",
       "                callback(fig, msg);\n",
       "            } catch (e) {\n",
       "                console.log(\"Exception inside the 'handler_\" + msg_type + \"' callback:\", e, e.stack, msg);\n",
       "            }\n",
       "        }\n",
       "    };\n",
       "}\n",
       "\n",
       "// from http://stackoverflow.com/questions/1114465/getting-mouse-location-in-canvas\n",
       "mpl.findpos = function(e) {\n",
       "    //this section is from http://www.quirksmode.org/js/events_properties.html\n",
       "    var targ;\n",
       "    if (!e)\n",
       "        e = window.event;\n",
       "    if (e.target)\n",
       "        targ = e.target;\n",
       "    else if (e.srcElement)\n",
       "        targ = e.srcElement;\n",
       "    if (targ.nodeType == 3) // defeat Safari bug\n",
       "        targ = targ.parentNode;\n",
       "\n",
       "    // jQuery normalizes the pageX and pageY\n",
       "    // pageX,Y are the mouse positions relative to the document\n",
       "    // offset() returns the position of the element relative to the document\n",
       "    var x = e.pageX - $(targ).offset().left;\n",
       "    var y = e.pageY - $(targ).offset().top;\n",
       "\n",
       "    return {\"x\": x, \"y\": y};\n",
       "};\n",
       "\n",
       "/*\n",
       " * return a copy of an object with only non-object keys\n",
       " * we need this to avoid circular references\n",
       " * http://stackoverflow.com/a/24161582/3208463\n",
       " */\n",
       "function simpleKeys (original) {\n",
       "  return Object.keys(original).reduce(function (obj, key) {\n",
       "    if (typeof original[key] !== 'object')\n",
       "        obj[key] = original[key]\n",
       "    return obj;\n",
       "  }, {});\n",
       "}\n",
       "\n",
       "mpl.figure.prototype.mouse_event = function(event, name) {\n",
       "    var canvas_pos = mpl.findpos(event)\n",
       "\n",
       "    if (name === 'button_press')\n",
       "    {\n",
       "        this.canvas.focus();\n",
       "        this.canvas_div.focus();\n",
       "    }\n",
       "\n",
       "    var x = canvas_pos.x * mpl.ratio;\n",
       "    var y = canvas_pos.y * mpl.ratio;\n",
       "\n",
       "    this.send_message(name, {x: x, y: y, button: event.button,\n",
       "                             step: event.step,\n",
       "                             guiEvent: simpleKeys(event)});\n",
       "\n",
       "    /* This prevents the web browser from automatically changing to\n",
       "     * the text insertion cursor when the button is pressed.  We want\n",
       "     * to control all of the cursor setting manually through the\n",
       "     * 'cursor' event from matplotlib */\n",
       "    event.preventDefault();\n",
       "    return false;\n",
       "}\n",
       "\n",
       "mpl.figure.prototype._key_event_extra = function(event, name) {\n",
       "    // Handle any extra behaviour associated with a key event\n",
       "}\n",
       "\n",
       "mpl.figure.prototype.key_event = function(event, name) {\n",
       "\n",
       "    // Prevent repeat events\n",
       "    if (name == 'key_press')\n",
       "    {\n",
       "        if (event.which === this._key)\n",
       "            return;\n",
       "        else\n",
       "            this._key = event.which;\n",
       "    }\n",
       "    if (name == 'key_release')\n",
       "        this._key = null;\n",
       "\n",
       "    var value = '';\n",
       "    if (event.ctrlKey && event.which != 17)\n",
       "        value += \"ctrl+\";\n",
       "    if (event.altKey && event.which != 18)\n",
       "        value += \"alt+\";\n",
       "    if (event.shiftKey && event.which != 16)\n",
       "        value += \"shift+\";\n",
       "\n",
       "    value += 'k';\n",
       "    value += event.which.toString();\n",
       "\n",
       "    this._key_event_extra(event, name);\n",
       "\n",
       "    this.send_message(name, {key: value,\n",
       "                             guiEvent: simpleKeys(event)});\n",
       "    return false;\n",
       "}\n",
       "\n",
       "mpl.figure.prototype.toolbar_button_onclick = function(name) {\n",
       "    if (name == 'download') {\n",
       "        this.handle_save(this, null);\n",
       "    } else {\n",
       "        this.send_message(\"toolbar_button\", {name: name});\n",
       "    }\n",
       "};\n",
       "\n",
       "mpl.figure.prototype.toolbar_button_onmouseover = function(tooltip) {\n",
       "    this.message.textContent = tooltip;\n",
       "};\n",
       "mpl.toolbar_items = [[\"Home\", \"Reset original view\", \"fa fa-home icon-home\", \"home\"], [\"Back\", \"Back to previous view\", \"fa fa-arrow-left icon-arrow-left\", \"back\"], [\"Forward\", \"Forward to next view\", \"fa fa-arrow-right icon-arrow-right\", \"forward\"], [\"\", \"\", \"\", \"\"], [\"Pan\", \"Pan axes with left mouse, zoom with right\", \"fa fa-arrows icon-move\", \"pan\"], [\"Zoom\", \"Zoom to rectangle\", \"fa fa-square-o icon-check-empty\", \"zoom\"], [\"\", \"\", \"\", \"\"], [\"Download\", \"Download plot\", \"fa fa-floppy-o icon-save\", \"download\"]];\n",
       "\n",
       "mpl.extensions = [\"eps\", \"jpeg\", \"pdf\", \"png\", \"ps\", \"raw\", \"svg\", \"tif\"];\n",
       "\n",
       "mpl.default_extension = \"png\";var comm_websocket_adapter = function(comm) {\n",
       "    // Create a \"websocket\"-like object which calls the given IPython comm\n",
       "    // object with the appropriate methods. Currently this is a non binary\n",
       "    // socket, so there is still some room for performance tuning.\n",
       "    var ws = {};\n",
       "\n",
       "    ws.close = function() {\n",
       "        comm.close()\n",
       "    };\n",
       "    ws.send = function(m) {\n",
       "        //console.log('sending', m);\n",
       "        comm.send(m);\n",
       "    };\n",
       "    // Register the callback with on_msg.\n",
       "    comm.on_msg(function(msg) {\n",
       "        //console.log('receiving', msg['content']['data'], msg);\n",
       "        // Pass the mpl event to the overridden (by mpl) onmessage function.\n",
       "        ws.onmessage(msg['content']['data'])\n",
       "    });\n",
       "    return ws;\n",
       "}\n",
       "\n",
       "mpl.mpl_figure_comm = function(comm, msg) {\n",
       "    // This is the function which gets called when the mpl process\n",
       "    // starts-up an IPython Comm through the \"matplotlib\" channel.\n",
       "\n",
       "    var id = msg.content.data.id;\n",
       "    // Get hold of the div created by the display call when the Comm\n",
       "    // socket was opened in Python.\n",
       "    var element = $(\"#\" + id);\n",
       "    var ws_proxy = comm_websocket_adapter(comm)\n",
       "\n",
       "    function ondownload(figure, format) {\n",
       "        window.open(figure.imageObj.src);\n",
       "    }\n",
       "\n",
       "    var fig = new mpl.figure(id, ws_proxy,\n",
       "                           ondownload,\n",
       "                           element.get(0));\n",
       "\n",
       "    // Call onopen now - mpl needs it, as it is assuming we've passed it a real\n",
       "    // web socket which is closed, not our websocket->open comm proxy.\n",
       "    ws_proxy.onopen();\n",
       "\n",
       "    fig.parent_element = element.get(0);\n",
       "    fig.cell_info = mpl.find_output_cell(\"<div id='\" + id + \"'></div>\");\n",
       "    if (!fig.cell_info) {\n",
       "        console.error(\"Failed to find cell for figure\", id, fig);\n",
       "        return;\n",
       "    }\n",
       "\n",
       "    var output_index = fig.cell_info[2]\n",
       "    var cell = fig.cell_info[0];\n",
       "\n",
       "};\n",
       "\n",
       "mpl.figure.prototype.handle_close = function(fig, msg) {\n",
       "    var width = fig.canvas.width/mpl.ratio\n",
       "    fig.root.unbind('remove')\n",
       "\n",
       "    // Update the output cell to use the data from the current canvas.\n",
       "    fig.push_to_output();\n",
       "    var dataURL = fig.canvas.toDataURL();\n",
       "    // Re-enable the keyboard manager in IPython - without this line, in FF,\n",
       "    // the notebook keyboard shortcuts fail.\n",
       "    IPython.keyboard_manager.enable()\n",
       "    $(fig.parent_element).html('<img src=\"' + dataURL + '\" width=\"' + width + '\">');\n",
       "    fig.close_ws(fig, msg);\n",
       "}\n",
       "\n",
       "mpl.figure.prototype.close_ws = function(fig, msg){\n",
       "    fig.send_message('closing', msg);\n",
       "    // fig.ws.close()\n",
       "}\n",
       "\n",
       "mpl.figure.prototype.push_to_output = function(remove_interactive) {\n",
       "    // Turn the data on the canvas into data in the output cell.\n",
       "    var width = this.canvas.width/mpl.ratio\n",
       "    var dataURL = this.canvas.toDataURL();\n",
       "    this.cell_info[1]['text/html'] = '<img src=\"' + dataURL + '\" width=\"' + width + '\">';\n",
       "}\n",
       "\n",
       "mpl.figure.prototype.updated_canvas_event = function() {\n",
       "    // Tell IPython that the notebook contents must change.\n",
       "    IPython.notebook.set_dirty(true);\n",
       "    this.send_message(\"ack\", {});\n",
       "    var fig = this;\n",
       "    // Wait a second, then push the new image to the DOM so\n",
       "    // that it is saved nicely (might be nice to debounce this).\n",
       "    setTimeout(function () { fig.push_to_output() }, 1000);\n",
       "}\n",
       "\n",
       "mpl.figure.prototype._init_toolbar = function() {\n",
       "    var fig = this;\n",
       "\n",
       "    var nav_element = $('<div/>')\n",
       "    nav_element.attr('style', 'width: 100%');\n",
       "    this.root.append(nav_element);\n",
       "\n",
       "    // Define a callback function for later on.\n",
       "    function toolbar_event(event) {\n",
       "        return fig.toolbar_button_onclick(event['data']);\n",
       "    }\n",
       "    function toolbar_mouse_event(event) {\n",
       "        return fig.toolbar_button_onmouseover(event['data']);\n",
       "    }\n",
       "\n",
       "    for(var toolbar_ind in mpl.toolbar_items){\n",
       "        var name = mpl.toolbar_items[toolbar_ind][0];\n",
       "        var tooltip = mpl.toolbar_items[toolbar_ind][1];\n",
       "        var image = mpl.toolbar_items[toolbar_ind][2];\n",
       "        var method_name = mpl.toolbar_items[toolbar_ind][3];\n",
       "\n",
       "        if (!name) { continue; };\n",
       "\n",
       "        var button = $('<button class=\"btn btn-default\" href=\"#\" title=\"' + name + '\"><i class=\"fa ' + image + ' fa-lg\"></i></button>');\n",
       "        button.click(method_name, toolbar_event);\n",
       "        button.mouseover(tooltip, toolbar_mouse_event);\n",
       "        nav_element.append(button);\n",
       "    }\n",
       "\n",
       "    // Add the status bar.\n",
       "    var status_bar = $('<span class=\"mpl-message\" style=\"text-align:right; float: right;\"/>');\n",
       "    nav_element.append(status_bar);\n",
       "    this.message = status_bar[0];\n",
       "\n",
       "    // Add the close button to the window.\n",
       "    var buttongrp = $('<div class=\"btn-group inline pull-right\"></div>');\n",
       "    var button = $('<button class=\"btn btn-mini btn-primary\" href=\"#\" title=\"Stop Interaction\"><i class=\"fa fa-power-off icon-remove icon-large\"></i></button>');\n",
       "    button.click(function (evt) { fig.handle_close(fig, {}); } );\n",
       "    button.mouseover('Stop Interaction', toolbar_mouse_event);\n",
       "    buttongrp.append(button);\n",
       "    var titlebar = this.root.find($('.ui-dialog-titlebar'));\n",
       "    titlebar.prepend(buttongrp);\n",
       "}\n",
       "\n",
       "mpl.figure.prototype._root_extra_style = function(el){\n",
       "    var fig = this\n",
       "    el.on(\"remove\", function(){\n",
       "\tfig.close_ws(fig, {});\n",
       "    });\n",
       "}\n",
       "\n",
       "mpl.figure.prototype._canvas_extra_style = function(el){\n",
       "    // this is important to make the div 'focusable\n",
       "    el.attr('tabindex', 0)\n",
       "    // reach out to IPython and tell the keyboard manager to turn it's self\n",
       "    // off when our div gets focus\n",
       "\n",
       "    // location in version 3\n",
       "    if (IPython.notebook.keyboard_manager) {\n",
       "        IPython.notebook.keyboard_manager.register_events(el);\n",
       "    }\n",
       "    else {\n",
       "        // location in version 2\n",
       "        IPython.keyboard_manager.register_events(el);\n",
       "    }\n",
       "\n",
       "}\n",
       "\n",
       "mpl.figure.prototype._key_event_extra = function(event, name) {\n",
       "    var manager = IPython.notebook.keyboard_manager;\n",
       "    if (!manager)\n",
       "        manager = IPython.keyboard_manager;\n",
       "\n",
       "    // Check for shift+enter\n",
       "    if (event.shiftKey && event.which == 13) {\n",
       "        this.canvas_div.blur();\n",
       "        event.shiftKey = false;\n",
       "        // Send a \"J\" for go to next cell\n",
       "        event.which = 74;\n",
       "        event.keyCode = 74;\n",
       "        manager.command_mode();\n",
       "        manager.handle_keydown(event);\n",
       "    }\n",
       "}\n",
       "\n",
       "mpl.figure.prototype.handle_save = function(fig, msg) {\n",
       "    fig.ondownload(fig, null);\n",
       "}\n",
       "\n",
       "\n",
       "mpl.find_output_cell = function(html_output) {\n",
       "    // Return the cell and output element which can be found *uniquely* in the notebook.\n",
       "    // Note - this is a bit hacky, but it is done because the \"notebook_saving.Notebook\"\n",
       "    // IPython event is triggered only after the cells have been serialised, which for\n",
       "    // our purposes (turning an active figure into a static one), is too late.\n",
       "    var cells = IPython.notebook.get_cells();\n",
       "    var ncells = cells.length;\n",
       "    for (var i=0; i<ncells; i++) {\n",
       "        var cell = cells[i];\n",
       "        if (cell.cell_type === 'code'){\n",
       "            for (var j=0; j<cell.output_area.outputs.length; j++) {\n",
       "                var data = cell.output_area.outputs[j];\n",
       "                if (data.data) {\n",
       "                    // IPython >= 3 moved mimebundle to data attribute of output\n",
       "                    data = data.data;\n",
       "                }\n",
       "                if (data['text/html'] == html_output) {\n",
       "                    return [cell, data, j];\n",
       "                }\n",
       "            }\n",
       "        }\n",
       "    }\n",
       "}\n",
       "\n",
       "// Register the function which deals with the matplotlib target/channel.\n",
       "// The kernel may be null if the page has been refreshed.\n",
       "if (IPython.notebook.kernel != null) {\n",
       "    IPython.notebook.kernel.comm_manager.register_target('matplotlib', mpl.mpl_figure_comm);\n",
       "}\n"
      ],
      "text/plain": [
       "<IPython.core.display.Javascript object>"
      ]
     },
     "metadata": {},
     "output_type": "display_data"
    },
    {
     "data": {
      "text/html": [
       "<img src=\"data:image/png;base64,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\" width=\"640\">"
      ],
      "text/plain": [
       "<IPython.core.display.HTML object>"
      ]
     },
     "metadata": {},
     "output_type": "display_data"
    },
    {
     "data": {
      "text/plain": [
       "<matplotlib.axes._subplots.AxesSubplot at 0x2044cbfdeb8>"
      ]
     },
     "execution_count": 60,
     "metadata": {},
     "output_type": "execute_result"
    }
   ],
   "source": [
    "# nejlepší výsledky pro jednotlivé druhy křížení\n",
    "#results_pivot.sort_values(by=['cross','feo'])\n",
    "plt.subplot(2,2,1)\n",
    "mch_r = results_pivot[results_pivot['cross']=='mch']\n",
    "mch_r.plot(x = 'cauchy_par', y = 'feo', kind='bar')\n",
    "plt.subplot(2,2,2)\n",
    "rnd_r = results_pivot[results_pivot['cross']=='rnd']\n",
    "rnd_r.plot(x = 'cauchy_par', y = 'feo', kind='bar')\n",
    "plt.subplot(2,2,3)\n",
    "mix_r = results_pivot[results_pivot['cross']=='mix']\n",
    "mix_r.plot(x = 'cauchy_par', y = 'feo', kind='bar')\n",
    "plt.subplot(2,2,4)\n",
    "uni_r = results_pivot[results_pivot['cross']=='uni']\n",
    "uni_r.plot(x = 'cauchy_par', y = 'feo', kind='bar')"
   ]
  },
  {
   "cell_type": "markdown",
   "metadata": {},
   "source": [
    "Závěry z prvního testu:\n",
    "- jde vidět, že na volbě druhu mutace až tolik nezáleží, rozdíly ve FEO nejsou nijak markantní\n",
    "- nejlépe však dopadlo RandomCombination(), tak ho zvolíme i do dalších testů\n",
    "- moje nově implementované průměrování nijak nezaostává za ostatníma, ale ani neni nejlepší :-(\n",
    "- podstatně více však záleží na správné volbě parametru r v Cauchyově křížení\n",
    "- dá se říct, že pro všechny druhy křížení je výhodná volba $r=0,1$"
   ]
  },
  {
   "cell_type": "markdown",
   "metadata": {},
   "source": [
    "***\n",
    "## Hledání nejlepší kombinace N a M pro RandomCombination s r=0,1 (C.M.)\n",
    "Pro tuto kombinaci lze pouít menší maxeval"
   ]
  },
  {
   "cell_type": "code",
   "execution_count": 32,
   "metadata": {},
   "outputs": [],
   "source": [
    "# nastavím parametry testování\n",
    "NUM_RUNS = 10\n",
    "maxeval = 5000\n",
    "N = [1, 2, 5, 10, 20, 50, 100, 200]\n",
    "M_coeff = [2, 3, 4, 6, 8, 10, 20, 50, 100]\n",
    "rr = 0.1;\n",
    "mutation = CauchyMutation(r=rr, correction=MirrorCorrection(rast))\n",
    "crossover = RandomCombination()"
   ]
  },
  {
   "cell_type": "code",
   "execution_count": 33,
   "metadata": {},
   "outputs": [],
   "source": [
    "# funkce druhého experimentu\n",
    "def experiment2_go(of, maxeval, num_runs, N, M, Tsel1, Tsel2, mutation, crossover,r):\n",
    "    results = []\n",
    "    heur_name = 'GO_N{}_M{}'.format(N,M)\n",
    "    for i in tqdm_notebook(range(num_runs), 'Testing {}'.format(heur_name)):\n",
    "        result = GeneticOptimization(of, maxeval, N=N, M=M, Tsel1=Tsel1, Tsel2=Tsel2, \n",
    "                                     mutation=mutation, crossover=crossover).search()\n",
    "        result['run'] = i\n",
    "        result['N'] = N\n",
    "        result['M'] = M\n",
    "        result['heur'] = heur_name\n",
    "        results.append(result)\n",
    "    return pd.DataFrame(results, columns=['heur', 'run', 'N', 'M', 'best_x', 'best_y', 'neval'])"
   ]
  },
  {
   "cell_type": "code",
   "execution_count": 34,
   "metadata": {},
   "outputs": [
    {
     "data": {
      "application/vnd.jupyter.widget-view+json": {
       "model_id": "66f0c17904774d6d84a116bb271dc5ea",
       "version_major": 2,
       "version_minor": 0
      },
      "text/plain": [
       "HBox(children=(IntProgress(value=0, description='Testing GO_N1_M2', max=10, style=ProgressStyle(description_wi…"
      ]
     },
     "metadata": {},
     "output_type": "display_data"
    },
    {
     "name": "stdout",
     "output_type": "stream",
     "text": [
      "\n"
     ]
    },
    {
     "data": {
      "application/vnd.jupyter.widget-view+json": {
       "model_id": "5719b248b9344938987692b6c3e41a05",
       "version_major": 2,
       "version_minor": 0
      },
      "text/plain": [
       "HBox(children=(IntProgress(value=0, description='Testing GO_N1_M3', max=10, style=ProgressStyle(description_wi…"
      ]
     },
     "metadata": {},
     "output_type": "display_data"
    },
    {
     "name": "stdout",
     "output_type": "stream",
     "text": [
      "\n"
     ]
    },
    {
     "data": {
      "application/vnd.jupyter.widget-view+json": {
       "model_id": "36a11475a1c9423db8c7b4fbbce207a8",
       "version_major": 2,
       "version_minor": 0
      },
      "text/plain": [
       "HBox(children=(IntProgress(value=0, description='Testing GO_N1_M4', max=10, style=ProgressStyle(description_wi…"
      ]
     },
     "metadata": {},
     "output_type": "display_data"
    },
    {
     "name": "stdout",
     "output_type": "stream",
     "text": [
      "\n"
     ]
    },
    {
     "data": {
      "application/vnd.jupyter.widget-view+json": {
       "model_id": "d6a2d9e5542b4ffc821dbdd601726618",
       "version_major": 2,
       "version_minor": 0
      },
      "text/plain": [
       "HBox(children=(IntProgress(value=0, description='Testing GO_N1_M6', max=10, style=ProgressStyle(description_wi…"
      ]
     },
     "metadata": {},
     "output_type": "display_data"
    },
    {
     "name": "stdout",
     "output_type": "stream",
     "text": [
      "\n"
     ]
    },
    {
     "data": {
      "application/vnd.jupyter.widget-view+json": {
       "model_id": "5cdd01e525f8427db8d6d98534b230a2",
       "version_major": 2,
       "version_minor": 0
      },
      "text/plain": [
       "HBox(children=(IntProgress(value=0, description='Testing GO_N1_M8', max=10, style=ProgressStyle(description_wi…"
      ]
     },
     "metadata": {},
     "output_type": "display_data"
    },
    {
     "name": "stdout",
     "output_type": "stream",
     "text": [
      "\n"
     ]
    },
    {
     "data": {
      "application/vnd.jupyter.widget-view+json": {
       "model_id": "aa766ad2393145cf9329add4d50b5877",
       "version_major": 2,
       "version_minor": 0
      },
      "text/plain": [
       "HBox(children=(IntProgress(value=0, description='Testing GO_N1_M10', max=10, style=ProgressStyle(description_w…"
      ]
     },
     "metadata": {},
     "output_type": "display_data"
    },
    {
     "name": "stdout",
     "output_type": "stream",
     "text": [
      "\n"
     ]
    },
    {
     "data": {
      "application/vnd.jupyter.widget-view+json": {
       "model_id": "ae9d7b4206324b7e959d9f2f7c863745",
       "version_major": 2,
       "version_minor": 0
      },
      "text/plain": [
       "HBox(children=(IntProgress(value=0, description='Testing GO_N1_M20', max=10, style=ProgressStyle(description_w…"
      ]
     },
     "metadata": {},
     "output_type": "display_data"
    },
    {
     "name": "stdout",
     "output_type": "stream",
     "text": [
      "\n"
     ]
    },
    {
     "data": {
      "application/vnd.jupyter.widget-view+json": {
       "model_id": "a9aa4d47a32d4769920e09837a6d64e7",
       "version_major": 2,
       "version_minor": 0
      },
      "text/plain": [
       "HBox(children=(IntProgress(value=0, description='Testing GO_N1_M50', max=10, style=ProgressStyle(description_w…"
      ]
     },
     "metadata": {},
     "output_type": "display_data"
    },
    {
     "name": "stdout",
     "output_type": "stream",
     "text": [
      "\n"
     ]
    },
    {
     "data": {
      "application/vnd.jupyter.widget-view+json": {
       "model_id": "9d972c09450e4b68bfcc5925a009d82e",
       "version_major": 2,
       "version_minor": 0
      },
      "text/plain": [
       "HBox(children=(IntProgress(value=0, description='Testing GO_N1_M100', max=10, style=ProgressStyle(description_…"
      ]
     },
     "metadata": {},
     "output_type": "display_data"
    },
    {
     "name": "stdout",
     "output_type": "stream",
     "text": [
      "\n"
     ]
    },
    {
     "data": {
      "application/vnd.jupyter.widget-view+json": {
       "model_id": "fed1c065677b4bd9a4aea9ec6bfc9470",
       "version_major": 2,
       "version_minor": 0
      },
      "text/plain": [
       "HBox(children=(IntProgress(value=0, description='Testing GO_N2_M4', max=10, style=ProgressStyle(description_wi…"
      ]
     },
     "metadata": {},
     "output_type": "display_data"
    },
    {
     "name": "stdout",
     "output_type": "stream",
     "text": [
      "\n"
     ]
    },
    {
     "data": {
      "application/vnd.jupyter.widget-view+json": {
       "model_id": "7ebb53909a394a2886c6395f8ebf82e4",
       "version_major": 2,
       "version_minor": 0
      },
      "text/plain": [
       "HBox(children=(IntProgress(value=0, description='Testing GO_N2_M6', max=10, style=ProgressStyle(description_wi…"
      ]
     },
     "metadata": {},
     "output_type": "display_data"
    },
    {
     "name": "stdout",
     "output_type": "stream",
     "text": [
      "\n"
     ]
    },
    {
     "data": {
      "application/vnd.jupyter.widget-view+json": {
       "model_id": "eef1fb0a34a2440cb0a2afa22fc00448",
       "version_major": 2,
       "version_minor": 0
      },
      "text/plain": [
       "HBox(children=(IntProgress(value=0, description='Testing GO_N2_M8', max=10, style=ProgressStyle(description_wi…"
      ]
     },
     "metadata": {},
     "output_type": "display_data"
    },
    {
     "name": "stdout",
     "output_type": "stream",
     "text": [
      "\n"
     ]
    },
    {
     "data": {
      "application/vnd.jupyter.widget-view+json": {
       "model_id": "78bda15dde914f26a16d5f82fdd951cc",
       "version_major": 2,
       "version_minor": 0
      },
      "text/plain": [
       "HBox(children=(IntProgress(value=0, description='Testing GO_N2_M12', max=10, style=ProgressStyle(description_w…"
      ]
     },
     "metadata": {},
     "output_type": "display_data"
    },
    {
     "name": "stdout",
     "output_type": "stream",
     "text": [
      "\n"
     ]
    },
    {
     "data": {
      "application/vnd.jupyter.widget-view+json": {
       "model_id": "504ee75f35f54600b19a413f0b7ab868",
       "version_major": 2,
       "version_minor": 0
      },
      "text/plain": [
       "HBox(children=(IntProgress(value=0, description='Testing GO_N2_M16', max=10, style=ProgressStyle(description_w…"
      ]
     },
     "metadata": {},
     "output_type": "display_data"
    },
    {
     "name": "stdout",
     "output_type": "stream",
     "text": [
      "\n"
     ]
    },
    {
     "data": {
      "application/vnd.jupyter.widget-view+json": {
       "model_id": "e607a12a33b4455890bb88d1a1907c9f",
       "version_major": 2,
       "version_minor": 0
      },
      "text/plain": [
       "HBox(children=(IntProgress(value=0, description='Testing GO_N2_M20', max=10, style=ProgressStyle(description_w…"
      ]
     },
     "metadata": {},
     "output_type": "display_data"
    },
    {
     "name": "stdout",
     "output_type": "stream",
     "text": [
      "\n"
     ]
    },
    {
     "data": {
      "application/vnd.jupyter.widget-view+json": {
       "model_id": "1477b99af78a4f70b5ea7394ddf34821",
       "version_major": 2,
       "version_minor": 0
      },
      "text/plain": [
       "HBox(children=(IntProgress(value=0, description='Testing GO_N2_M40', max=10, style=ProgressStyle(description_w…"
      ]
     },
     "metadata": {},
     "output_type": "display_data"
    },
    {
     "name": "stdout",
     "output_type": "stream",
     "text": [
      "\n"
     ]
    },
    {
     "data": {
      "application/vnd.jupyter.widget-view+json": {
       "model_id": "8ce51668e5f84024bcf38431cf4ec1e3",
       "version_major": 2,
       "version_minor": 0
      },
      "text/plain": [
       "HBox(children=(IntProgress(value=0, description='Testing GO_N2_M100', max=10, style=ProgressStyle(description_…"
      ]
     },
     "metadata": {},
     "output_type": "display_data"
    },
    {
     "name": "stdout",
     "output_type": "stream",
     "text": [
      "\n"
     ]
    },
    {
     "data": {
      "application/vnd.jupyter.widget-view+json": {
       "model_id": "9f83734042e147f1a624ac9a1c3bffa2",
       "version_major": 2,
       "version_minor": 0
      },
      "text/plain": [
       "HBox(children=(IntProgress(value=0, description='Testing GO_N2_M200', max=10, style=ProgressStyle(description_…"
      ]
     },
     "metadata": {},
     "output_type": "display_data"
    },
    {
     "name": "stdout",
     "output_type": "stream",
     "text": [
      "\n"
     ]
    },
    {
     "data": {
      "application/vnd.jupyter.widget-view+json": {
       "model_id": "010c007d39294f959498433109dd76a3",
       "version_major": 2,
       "version_minor": 0
      },
      "text/plain": [
       "HBox(children=(IntProgress(value=0, description='Testing GO_N5_M10', max=10, style=ProgressStyle(description_w…"
      ]
     },
     "metadata": {},
     "output_type": "display_data"
    },
    {
     "name": "stdout",
     "output_type": "stream",
     "text": [
      "\n"
     ]
    },
    {
     "data": {
      "application/vnd.jupyter.widget-view+json": {
       "model_id": "9f6d40ad4a874c9e8ff6b6ab962136db",
       "version_major": 2,
       "version_minor": 0
      },
      "text/plain": [
       "HBox(children=(IntProgress(value=0, description='Testing GO_N5_M15', max=10, style=ProgressStyle(description_w…"
      ]
     },
     "metadata": {},
     "output_type": "display_data"
    },
    {
     "name": "stdout",
     "output_type": "stream",
     "text": [
      "\n"
     ]
    },
    {
     "data": {
      "application/vnd.jupyter.widget-view+json": {
       "model_id": "8152e5f61f0045e8b13f29f993762ebb",
       "version_major": 2,
       "version_minor": 0
      },
      "text/plain": [
       "HBox(children=(IntProgress(value=0, description='Testing GO_N5_M20', max=10, style=ProgressStyle(description_w…"
      ]
     },
     "metadata": {},
     "output_type": "display_data"
    },
    {
     "name": "stdout",
     "output_type": "stream",
     "text": [
      "\n"
     ]
    },
    {
     "data": {
      "application/vnd.jupyter.widget-view+json": {
       "model_id": "6a72ae214369446189f26b91859d5dae",
       "version_major": 2,
       "version_minor": 0
      },
      "text/plain": [
       "HBox(children=(IntProgress(value=0, description='Testing GO_N5_M30', max=10, style=ProgressStyle(description_w…"
      ]
     },
     "metadata": {},
     "output_type": "display_data"
    },
    {
     "name": "stdout",
     "output_type": "stream",
     "text": [
      "\n"
     ]
    },
    {
     "data": {
      "application/vnd.jupyter.widget-view+json": {
       "model_id": "c8f8db851f054bd3adbd40d7f7e5f1ef",
       "version_major": 2,
       "version_minor": 0
      },
      "text/plain": [
       "HBox(children=(IntProgress(value=0, description='Testing GO_N5_M40', max=10, style=ProgressStyle(description_w…"
      ]
     },
     "metadata": {},
     "output_type": "display_data"
    },
    {
     "name": "stdout",
     "output_type": "stream",
     "text": [
      "\n"
     ]
    },
    {
     "data": {
      "application/vnd.jupyter.widget-view+json": {
       "model_id": "b254634c05ae4ce9a22a9ff4b0231836",
       "version_major": 2,
       "version_minor": 0
      },
      "text/plain": [
       "HBox(children=(IntProgress(value=0, description='Testing GO_N5_M50', max=10, style=ProgressStyle(description_w…"
      ]
     },
     "metadata": {},
     "output_type": "display_data"
    },
    {
     "name": "stdout",
     "output_type": "stream",
     "text": [
      "\n"
     ]
    },
    {
     "data": {
      "application/vnd.jupyter.widget-view+json": {
       "model_id": "d2ac66e50f4746568ed6582ac3d66ac3",
       "version_major": 2,
       "version_minor": 0
      },
      "text/plain": [
       "HBox(children=(IntProgress(value=0, description='Testing GO_N5_M100', max=10, style=ProgressStyle(description_…"
      ]
     },
     "metadata": {},
     "output_type": "display_data"
    },
    {
     "name": "stdout",
     "output_type": "stream",
     "text": [
      "\n"
     ]
    },
    {
     "data": {
      "application/vnd.jupyter.widget-view+json": {
       "model_id": "9dd4f01f8d084f1f8c1265fece99036a",
       "version_major": 2,
       "version_minor": 0
      },
      "text/plain": [
       "HBox(children=(IntProgress(value=0, description='Testing GO_N5_M250', max=10, style=ProgressStyle(description_…"
      ]
     },
     "metadata": {},
     "output_type": "display_data"
    },
    {
     "name": "stdout",
     "output_type": "stream",
     "text": [
      "\n"
     ]
    },
    {
     "data": {
      "application/vnd.jupyter.widget-view+json": {
       "model_id": "b26a525f905243988e6e51f558eb2428",
       "version_major": 2,
       "version_minor": 0
      },
      "text/plain": [
       "HBox(children=(IntProgress(value=0, description='Testing GO_N5_M500', max=10, style=ProgressStyle(description_…"
      ]
     },
     "metadata": {},
     "output_type": "display_data"
    },
    {
     "name": "stdout",
     "output_type": "stream",
     "text": [
      "\n"
     ]
    },
    {
     "data": {
      "application/vnd.jupyter.widget-view+json": {
       "model_id": "75452b001ad94c3eb9d8b7f9237ab4c4",
       "version_major": 2,
       "version_minor": 0
      },
      "text/plain": [
       "HBox(children=(IntProgress(value=0, description='Testing GO_N10_M20', max=10, style=ProgressStyle(description_…"
      ]
     },
     "metadata": {},
     "output_type": "display_data"
    },
    {
     "name": "stdout",
     "output_type": "stream",
     "text": [
      "\n"
     ]
    },
    {
     "data": {
      "application/vnd.jupyter.widget-view+json": {
       "model_id": "24cd1d9655454aacae40c311fcca14c9",
       "version_major": 2,
       "version_minor": 0
      },
      "text/plain": [
       "HBox(children=(IntProgress(value=0, description='Testing GO_N10_M30', max=10, style=ProgressStyle(description_…"
      ]
     },
     "metadata": {},
     "output_type": "display_data"
    },
    {
     "name": "stdout",
     "output_type": "stream",
     "text": [
      "\n"
     ]
    },
    {
     "data": {
      "application/vnd.jupyter.widget-view+json": {
       "model_id": "6ac8f8907fdb469ea56f459bed0366d7",
       "version_major": 2,
       "version_minor": 0
      },
      "text/plain": [
       "HBox(children=(IntProgress(value=0, description='Testing GO_N10_M40', max=10, style=ProgressStyle(description_…"
      ]
     },
     "metadata": {},
     "output_type": "display_data"
    },
    {
     "name": "stdout",
     "output_type": "stream",
     "text": [
      "\n"
     ]
    },
    {
     "data": {
      "application/vnd.jupyter.widget-view+json": {
       "model_id": "2e4f96fce5aa4584a3c1e83acdfde218",
       "version_major": 2,
       "version_minor": 0
      },
      "text/plain": [
       "HBox(children=(IntProgress(value=0, description='Testing GO_N10_M60', max=10, style=ProgressStyle(description_…"
      ]
     },
     "metadata": {},
     "output_type": "display_data"
    },
    {
     "name": "stdout",
     "output_type": "stream",
     "text": [
      "\n"
     ]
    },
    {
     "data": {
      "application/vnd.jupyter.widget-view+json": {
       "model_id": "b9e13b372d934a8890dc44fbd5922308",
       "version_major": 2,
       "version_minor": 0
      },
      "text/plain": [
       "HBox(children=(IntProgress(value=0, description='Testing GO_N10_M80', max=10, style=ProgressStyle(description_…"
      ]
     },
     "metadata": {},
     "output_type": "display_data"
    },
    {
     "name": "stdout",
     "output_type": "stream",
     "text": [
      "\n"
     ]
    },
    {
     "data": {
      "application/vnd.jupyter.widget-view+json": {
       "model_id": "8b7be7be45df420d84c18788f8d2a60a",
       "version_major": 2,
       "version_minor": 0
      },
      "text/plain": [
       "HBox(children=(IntProgress(value=0, description='Testing GO_N10_M100', max=10, style=ProgressStyle(description…"
      ]
     },
     "metadata": {},
     "output_type": "display_data"
    },
    {
     "name": "stdout",
     "output_type": "stream",
     "text": [
      "\n"
     ]
    },
    {
     "data": {
      "application/vnd.jupyter.widget-view+json": {
       "model_id": "92ef60b583d34d2bacd5e40b804d273b",
       "version_major": 2,
       "version_minor": 0
      },
      "text/plain": [
       "HBox(children=(IntProgress(value=0, description='Testing GO_N10_M200', max=10, style=ProgressStyle(description…"
      ]
     },
     "metadata": {},
     "output_type": "display_data"
    },
    {
     "name": "stdout",
     "output_type": "stream",
     "text": [
      "\n"
     ]
    },
    {
     "data": {
      "application/vnd.jupyter.widget-view+json": {
       "model_id": "33e0bb6fd2dd46d38cc95545503bb606",
       "version_major": 2,
       "version_minor": 0
      },
      "text/plain": [
       "HBox(children=(IntProgress(value=0, description='Testing GO_N10_M500', max=10, style=ProgressStyle(description…"
      ]
     },
     "metadata": {},
     "output_type": "display_data"
    },
    {
     "name": "stdout",
     "output_type": "stream",
     "text": [
      "\n"
     ]
    },
    {
     "data": {
      "application/vnd.jupyter.widget-view+json": {
       "model_id": "c556e021da6b441b8b0b0621dbc08caf",
       "version_major": 2,
       "version_minor": 0
      },
      "text/plain": [
       "HBox(children=(IntProgress(value=0, description='Testing GO_N10_M1000', max=10, style=ProgressStyle(descriptio…"
      ]
     },
     "metadata": {},
     "output_type": "display_data"
    },
    {
     "name": "stdout",
     "output_type": "stream",
     "text": [
      "\n"
     ]
    },
    {
     "data": {
      "application/vnd.jupyter.widget-view+json": {
       "model_id": "8ba5fd29e9a04e8494965a88fc04f4c5",
       "version_major": 2,
       "version_minor": 0
      },
      "text/plain": [
       "HBox(children=(IntProgress(value=0, description='Testing GO_N20_M40', max=10, style=ProgressStyle(description_…"
      ]
     },
     "metadata": {},
     "output_type": "display_data"
    },
    {
     "name": "stdout",
     "output_type": "stream",
     "text": [
      "\n"
     ]
    },
    {
     "data": {
      "application/vnd.jupyter.widget-view+json": {
       "model_id": "4a1a47331b5748fab990066794333b7f",
       "version_major": 2,
       "version_minor": 0
      },
      "text/plain": [
       "HBox(children=(IntProgress(value=0, description='Testing GO_N20_M60', max=10, style=ProgressStyle(description_…"
      ]
     },
     "metadata": {},
     "output_type": "display_data"
    },
    {
     "name": "stdout",
     "output_type": "stream",
     "text": [
      "\n"
     ]
    },
    {
     "data": {
      "application/vnd.jupyter.widget-view+json": {
       "model_id": "101c347a3a37470abd2075541d6559f9",
       "version_major": 2,
       "version_minor": 0
      },
      "text/plain": [
       "HBox(children=(IntProgress(value=0, description='Testing GO_N20_M80', max=10, style=ProgressStyle(description_…"
      ]
     },
     "metadata": {},
     "output_type": "display_data"
    },
    {
     "name": "stdout",
     "output_type": "stream",
     "text": [
      "\n"
     ]
    },
    {
     "data": {
      "application/vnd.jupyter.widget-view+json": {
       "model_id": "559290b913364b14ac804c68d0bb183b",
       "version_major": 2,
       "version_minor": 0
      },
      "text/plain": [
       "HBox(children=(IntProgress(value=0, description='Testing GO_N20_M120', max=10, style=ProgressStyle(description…"
      ]
     },
     "metadata": {},
     "output_type": "display_data"
    },
    {
     "name": "stdout",
     "output_type": "stream",
     "text": [
      "\n"
     ]
    },
    {
     "data": {
      "application/vnd.jupyter.widget-view+json": {
       "model_id": "fa85fcc740eb47519f5064244bf30bce",
       "version_major": 2,
       "version_minor": 0
      },
      "text/plain": [
       "HBox(children=(IntProgress(value=0, description='Testing GO_N20_M160', max=10, style=ProgressStyle(description…"
      ]
     },
     "metadata": {},
     "output_type": "display_data"
    },
    {
     "name": "stdout",
     "output_type": "stream",
     "text": [
      "\n"
     ]
    },
    {
     "data": {
      "application/vnd.jupyter.widget-view+json": {
       "model_id": "e097d19236f044739ec66fa105d4440e",
       "version_major": 2,
       "version_minor": 0
      },
      "text/plain": [
       "HBox(children=(IntProgress(value=0, description='Testing GO_N20_M200', max=10, style=ProgressStyle(description…"
      ]
     },
     "metadata": {},
     "output_type": "display_data"
    },
    {
     "name": "stdout",
     "output_type": "stream",
     "text": [
      "\n"
     ]
    },
    {
     "data": {
      "application/vnd.jupyter.widget-view+json": {
       "model_id": "65682d7a4de441da8641f9c21474a586",
       "version_major": 2,
       "version_minor": 0
      },
      "text/plain": [
       "HBox(children=(IntProgress(value=0, description='Testing GO_N20_M400', max=10, style=ProgressStyle(description…"
      ]
     },
     "metadata": {},
     "output_type": "display_data"
    },
    {
     "name": "stdout",
     "output_type": "stream",
     "text": [
      "\n"
     ]
    },
    {
     "data": {
      "application/vnd.jupyter.widget-view+json": {
       "model_id": "6590dd67cf664d19bf72bf2f89b64f86",
       "version_major": 2,
       "version_minor": 0
      },
      "text/plain": [
       "HBox(children=(IntProgress(value=0, description='Testing GO_N20_M1000', max=10, style=ProgressStyle(descriptio…"
      ]
     },
     "metadata": {},
     "output_type": "display_data"
    },
    {
     "name": "stdout",
     "output_type": "stream",
     "text": [
      "\n"
     ]
    },
    {
     "data": {
      "application/vnd.jupyter.widget-view+json": {
       "model_id": "ae29c21ad985477483187e9e8608eae1",
       "version_major": 2,
       "version_minor": 0
      },
      "text/plain": [
       "HBox(children=(IntProgress(value=0, description='Testing GO_N20_M2000', max=10, style=ProgressStyle(descriptio…"
      ]
     },
     "metadata": {},
     "output_type": "display_data"
    },
    {
     "name": "stdout",
     "output_type": "stream",
     "text": [
      "\n"
     ]
    },
    {
     "data": {
      "application/vnd.jupyter.widget-view+json": {
       "model_id": "86901a20d95645eda76369535f66101b",
       "version_major": 2,
       "version_minor": 0
      },
      "text/plain": [
       "HBox(children=(IntProgress(value=0, description='Testing GO_N50_M100', max=10, style=ProgressStyle(description…"
      ]
     },
     "metadata": {},
     "output_type": "display_data"
    },
    {
     "name": "stdout",
     "output_type": "stream",
     "text": [
      "\n"
     ]
    },
    {
     "data": {
      "application/vnd.jupyter.widget-view+json": {
       "model_id": "2bb8e5ca2cb04fa989247d1b6894c5a7",
       "version_major": 2,
       "version_minor": 0
      },
      "text/plain": [
       "HBox(children=(IntProgress(value=0, description='Testing GO_N50_M150', max=10, style=ProgressStyle(description…"
      ]
     },
     "metadata": {},
     "output_type": "display_data"
    },
    {
     "name": "stdout",
     "output_type": "stream",
     "text": [
      "\n"
     ]
    },
    {
     "data": {
      "application/vnd.jupyter.widget-view+json": {
       "model_id": "3510391aff0542b8b6e70c831ca24991",
       "version_major": 2,
       "version_minor": 0
      },
      "text/plain": [
       "HBox(children=(IntProgress(value=0, description='Testing GO_N50_M200', max=10, style=ProgressStyle(description…"
      ]
     },
     "metadata": {},
     "output_type": "display_data"
    },
    {
     "name": "stdout",
     "output_type": "stream",
     "text": [
      "\n"
     ]
    },
    {
     "data": {
      "application/vnd.jupyter.widget-view+json": {
       "model_id": "31f80b728f7f4a7cafb114b4cc6dcb39",
       "version_major": 2,
       "version_minor": 0
      },
      "text/plain": [
       "HBox(children=(IntProgress(value=0, description='Testing GO_N50_M300', max=10, style=ProgressStyle(description…"
      ]
     },
     "metadata": {},
     "output_type": "display_data"
    },
    {
     "name": "stdout",
     "output_type": "stream",
     "text": [
      "\n"
     ]
    },
    {
     "data": {
      "application/vnd.jupyter.widget-view+json": {
       "model_id": "be6718575ca548708e581eeb88a11013",
       "version_major": 2,
       "version_minor": 0
      },
      "text/plain": [
       "HBox(children=(IntProgress(value=0, description='Testing GO_N50_M400', max=10, style=ProgressStyle(description…"
      ]
     },
     "metadata": {},
     "output_type": "display_data"
    },
    {
     "name": "stdout",
     "output_type": "stream",
     "text": [
      "\n"
     ]
    },
    {
     "data": {
      "application/vnd.jupyter.widget-view+json": {
       "model_id": "7bc1a3c817c746f08032b5861f8d08f1",
       "version_major": 2,
       "version_minor": 0
      },
      "text/plain": [
       "HBox(children=(IntProgress(value=0, description='Testing GO_N50_M500', max=10, style=ProgressStyle(description…"
      ]
     },
     "metadata": {},
     "output_type": "display_data"
    },
    {
     "name": "stdout",
     "output_type": "stream",
     "text": [
      "\n"
     ]
    },
    {
     "data": {
      "application/vnd.jupyter.widget-view+json": {
       "model_id": "0c7b2419ca4e4f8091110e29238288ad",
       "version_major": 2,
       "version_minor": 0
      },
      "text/plain": [
       "HBox(children=(IntProgress(value=0, description='Testing GO_N50_M1000', max=10, style=ProgressStyle(descriptio…"
      ]
     },
     "metadata": {},
     "output_type": "display_data"
    },
    {
     "name": "stdout",
     "output_type": "stream",
     "text": [
      "\n"
     ]
    },
    {
     "data": {
      "application/vnd.jupyter.widget-view+json": {
       "model_id": "a204e4d49d88438282ed6c052f61d1d2",
       "version_major": 2,
       "version_minor": 0
      },
      "text/plain": [
       "HBox(children=(IntProgress(value=0, description='Testing GO_N50_M2500', max=10, style=ProgressStyle(descriptio…"
      ]
     },
     "metadata": {},
     "output_type": "display_data"
    },
    {
     "name": "stdout",
     "output_type": "stream",
     "text": [
      "\n"
     ]
    },
    {
     "data": {
      "application/vnd.jupyter.widget-view+json": {
       "model_id": "24f8c34fb8dc4c0a8f2c990471b31377",
       "version_major": 2,
       "version_minor": 0
      },
      "text/plain": [
       "HBox(children=(IntProgress(value=0, description='Testing GO_N50_M5000', max=10, style=ProgressStyle(descriptio…"
      ]
     },
     "metadata": {},
     "output_type": "display_data"
    },
    {
     "name": "stdout",
     "output_type": "stream",
     "text": [
      "\n"
     ]
    },
    {
     "data": {
      "application/vnd.jupyter.widget-view+json": {
       "model_id": "66aa2c194a34491e9d176f9214424050",
       "version_major": 2,
       "version_minor": 0
      },
      "text/plain": [
       "HBox(children=(IntProgress(value=0, description='Testing GO_N100_M200', max=10, style=ProgressStyle(descriptio…"
      ]
     },
     "metadata": {},
     "output_type": "display_data"
    },
    {
     "name": "stdout",
     "output_type": "stream",
     "text": [
      "\n"
     ]
    },
    {
     "data": {
      "application/vnd.jupyter.widget-view+json": {
       "model_id": "de224d9164ff44efb77727e91a1c60c5",
       "version_major": 2,
       "version_minor": 0
      },
      "text/plain": [
       "HBox(children=(IntProgress(value=0, description='Testing GO_N100_M300', max=10, style=ProgressStyle(descriptio…"
      ]
     },
     "metadata": {},
     "output_type": "display_data"
    },
    {
     "name": "stdout",
     "output_type": "stream",
     "text": [
      "\n"
     ]
    },
    {
     "data": {
      "application/vnd.jupyter.widget-view+json": {
       "model_id": "74b24424870e4f9196547568c2df662f",
       "version_major": 2,
       "version_minor": 0
      },
      "text/plain": [
       "HBox(children=(IntProgress(value=0, description='Testing GO_N100_M400', max=10, style=ProgressStyle(descriptio…"
      ]
     },
     "metadata": {},
     "output_type": "display_data"
    },
    {
     "name": "stdout",
     "output_type": "stream",
     "text": [
      "\n"
     ]
    },
    {
     "data": {
      "application/vnd.jupyter.widget-view+json": {
       "model_id": "78be552a1e4246358652cd18b470f25b",
       "version_major": 2,
       "version_minor": 0
      },
      "text/plain": [
       "HBox(children=(IntProgress(value=0, description='Testing GO_N100_M600', max=10, style=ProgressStyle(descriptio…"
      ]
     },
     "metadata": {},
     "output_type": "display_data"
    },
    {
     "name": "stdout",
     "output_type": "stream",
     "text": [
      "\n"
     ]
    },
    {
     "data": {
      "application/vnd.jupyter.widget-view+json": {
       "model_id": "00ea5756243b4eb68fc615ba342a3ad6",
       "version_major": 2,
       "version_minor": 0
      },
      "text/plain": [
       "HBox(children=(IntProgress(value=0, description='Testing GO_N100_M800', max=10, style=ProgressStyle(descriptio…"
      ]
     },
     "metadata": {},
     "output_type": "display_data"
    },
    {
     "name": "stdout",
     "output_type": "stream",
     "text": [
      "\n"
     ]
    },
    {
     "data": {
      "application/vnd.jupyter.widget-view+json": {
       "model_id": "734f2d61ec76422fb90676df5250f2b2",
       "version_major": 2,
       "version_minor": 0
      },
      "text/plain": [
       "HBox(children=(IntProgress(value=0, description='Testing GO_N100_M1000', max=10, style=ProgressStyle(descripti…"
      ]
     },
     "metadata": {},
     "output_type": "display_data"
    },
    {
     "name": "stdout",
     "output_type": "stream",
     "text": [
      "\n"
     ]
    },
    {
     "data": {
      "application/vnd.jupyter.widget-view+json": {
       "model_id": "bffabbaefd4b469d9c0641ecddc4fb8f",
       "version_major": 2,
       "version_minor": 0
      },
      "text/plain": [
       "HBox(children=(IntProgress(value=0, description='Testing GO_N100_M2000', max=10, style=ProgressStyle(descripti…"
      ]
     },
     "metadata": {},
     "output_type": "display_data"
    },
    {
     "name": "stdout",
     "output_type": "stream",
     "text": [
      "\n"
     ]
    },
    {
     "data": {
      "application/vnd.jupyter.widget-view+json": {
       "model_id": "b8f50adf85964913b712fa0d3ad9c6b4",
       "version_major": 2,
       "version_minor": 0
      },
      "text/plain": [
       "HBox(children=(IntProgress(value=0, description='Testing GO_N100_M5000', max=10, style=ProgressStyle(descripti…"
      ]
     },
     "metadata": {},
     "output_type": "display_data"
    },
    {
     "name": "stdout",
     "output_type": "stream",
     "text": [
      "\n"
     ]
    },
    {
     "data": {
      "application/vnd.jupyter.widget-view+json": {
       "model_id": "ecc95844b54345c59d436ebbcaacb476",
       "version_major": 2,
       "version_minor": 0
      },
      "text/plain": [
       "HBox(children=(IntProgress(value=0, description='Testing GO_N100_M10000', max=10, style=ProgressStyle(descript…"
      ]
     },
     "metadata": {},
     "output_type": "display_data"
    },
    {
     "name": "stdout",
     "output_type": "stream",
     "text": [
      "\n"
     ]
    },
    {
     "data": {
      "application/vnd.jupyter.widget-view+json": {
       "model_id": "63fd89dd2a60468289da3140a32c4e87",
       "version_major": 2,
       "version_minor": 0
      },
      "text/plain": [
       "HBox(children=(IntProgress(value=0, description='Testing GO_N200_M400', max=10, style=ProgressStyle(descriptio…"
      ]
     },
     "metadata": {},
     "output_type": "display_data"
    },
    {
     "name": "stdout",
     "output_type": "stream",
     "text": [
      "\n"
     ]
    },
    {
     "data": {
      "application/vnd.jupyter.widget-view+json": {
       "model_id": "3907e19a1f1948ab952adb1517045379",
       "version_major": 2,
       "version_minor": 0
      },
      "text/plain": [
       "HBox(children=(IntProgress(value=0, description='Testing GO_N200_M600', max=10, style=ProgressStyle(descriptio…"
      ]
     },
     "metadata": {},
     "output_type": "display_data"
    },
    {
     "name": "stdout",
     "output_type": "stream",
     "text": [
      "\n"
     ]
    },
    {
     "data": {
      "application/vnd.jupyter.widget-view+json": {
       "model_id": "dd9d3a3031c84e0d947821204e8f948f",
       "version_major": 2,
       "version_minor": 0
      },
      "text/plain": [
       "HBox(children=(IntProgress(value=0, description='Testing GO_N200_M800', max=10, style=ProgressStyle(descriptio…"
      ]
     },
     "metadata": {},
     "output_type": "display_data"
    },
    {
     "name": "stdout",
     "output_type": "stream",
     "text": [
      "\n"
     ]
    },
    {
     "data": {
      "application/vnd.jupyter.widget-view+json": {
       "model_id": "8c8f9c2056df45d9ad9756f18e7c5934",
       "version_major": 2,
       "version_minor": 0
      },
      "text/plain": [
       "HBox(children=(IntProgress(value=0, description='Testing GO_N200_M1200', max=10, style=ProgressStyle(descripti…"
      ]
     },
     "metadata": {},
     "output_type": "display_data"
    },
    {
     "name": "stdout",
     "output_type": "stream",
     "text": [
      "\n"
     ]
    },
    {
     "data": {
      "application/vnd.jupyter.widget-view+json": {
       "model_id": "1f66a2603f9d439dab2d0e2916c8ccc8",
       "version_major": 2,
       "version_minor": 0
      },
      "text/plain": [
       "HBox(children=(IntProgress(value=0, description='Testing GO_N200_M1600', max=10, style=ProgressStyle(descripti…"
      ]
     },
     "metadata": {},
     "output_type": "display_data"
    },
    {
     "name": "stdout",
     "output_type": "stream",
     "text": [
      "\n"
     ]
    },
    {
     "data": {
      "application/vnd.jupyter.widget-view+json": {
       "model_id": "1fa5120984774fefa48d4a1c13b1f6e3",
       "version_major": 2,
       "version_minor": 0
      },
      "text/plain": [
       "HBox(children=(IntProgress(value=0, description='Testing GO_N200_M2000', max=10, style=ProgressStyle(descripti…"
      ]
     },
     "metadata": {},
     "output_type": "display_data"
    },
    {
     "name": "stdout",
     "output_type": "stream",
     "text": [
      "\n"
     ]
    },
    {
     "data": {
      "application/vnd.jupyter.widget-view+json": {
       "model_id": "d04dc867dc3f423b9ae7a58133b764e4",
       "version_major": 2,
       "version_minor": 0
      },
      "text/plain": [
       "HBox(children=(IntProgress(value=0, description='Testing GO_N200_M4000', max=10, style=ProgressStyle(descripti…"
      ]
     },
     "metadata": {},
     "output_type": "display_data"
    },
    {
     "name": "stdout",
     "output_type": "stream",
     "text": [
      "\n"
     ]
    },
    {
     "data": {
      "application/vnd.jupyter.widget-view+json": {
       "model_id": "f8ba7805eea8474a8060e1b3d29641e7",
       "version_major": 2,
       "version_minor": 0
      },
      "text/plain": [
       "HBox(children=(IntProgress(value=0, description='Testing GO_N200_M10000', max=10, style=ProgressStyle(descript…"
      ]
     },
     "metadata": {},
     "output_type": "display_data"
    },
    {
     "name": "stdout",
     "output_type": "stream",
     "text": [
      "\n"
     ]
    },
    {
     "data": {
      "application/vnd.jupyter.widget-view+json": {
       "model_id": "3e29a619f0e8457d8539bd9946653c9d",
       "version_major": 2,
       "version_minor": 0
      },
      "text/plain": [
       "HBox(children=(IntProgress(value=0, description='Testing GO_N200_M20000', max=10, style=ProgressStyle(descript…"
      ]
     },
     "metadata": {},
     "output_type": "display_data"
    },
    {
     "name": "stdout",
     "output_type": "stream",
     "text": [
      "\n",
      "336.7439589000023\n"
     ]
    }
   ],
   "source": [
    "# spuštění druhého experimentu\n",
    "results2 = pd.DataFrame()\n",
    "\n",
    "start = timer();\n",
    "for n in N:\n",
    "    for mc in M_coeff:\n",
    "        m = n*mc;\n",
    "        res = experiment2_go(of=rast, maxeval=maxeval, num_runs=NUM_RUNS, N=n, M=m, Tsel1=0.1, Tsel2=1, \n",
    "                            mutation=mutation, crossover=crossover,r = rr)\n",
    "        results2 = pd.concat([results2, res], axis=0)\n",
    "end = timer();\n",
    "print(end - start) # in seconds"
   ]
  },
  {
   "cell_type": "markdown",
   "metadata": {},
   "source": [
    "Test trval 6min."
   ]
  },
  {
   "cell_type": "code",
   "execution_count": 35,
   "metadata": {},
   "outputs": [
    {
     "data": {
      "text/html": [
       "<div>\n",
       "<style scoped>\n",
       "    .dataframe tbody tr th:only-of-type {\n",
       "        vertical-align: middle;\n",
       "    }\n",
       "\n",
       "    .dataframe tbody tr th {\n",
       "        vertical-align: top;\n",
       "    }\n",
       "\n",
       "    .dataframe thead th {\n",
       "        text-align: right;\n",
       "    }\n",
       "</style>\n",
       "<table border=\"1\" class=\"dataframe\">\n",
       "  <thead>\n",
       "    <tr style=\"text-align: right;\">\n",
       "      <th></th>\n",
       "      <th>heur</th>\n",
       "      <th>run</th>\n",
       "      <th>N</th>\n",
       "      <th>M</th>\n",
       "      <th>best_x</th>\n",
       "      <th>best_y</th>\n",
       "      <th>neval</th>\n",
       "    </tr>\n",
       "  </thead>\n",
       "  <tbody>\n",
       "    <tr>\n",
       "      <th>0</th>\n",
       "      <td>GO_N1_M2</td>\n",
       "      <td>0</td>\n",
       "      <td>1</td>\n",
       "      <td>2</td>\n",
       "      <td>[-0.06469225903481135, 0.04486396212193089, -0...</td>\n",
       "      <td>1.521146</td>\n",
       "      <td>inf</td>\n",
       "    </tr>\n",
       "    <tr>\n",
       "      <th>1</th>\n",
       "      <td>GO_N1_M2</td>\n",
       "      <td>1</td>\n",
       "      <td>1</td>\n",
       "      <td>2</td>\n",
       "      <td>[0.026477397717680873, 1.0814340785653886, -0....</td>\n",
       "      <td>4.407285</td>\n",
       "      <td>inf</td>\n",
       "    </tr>\n",
       "    <tr>\n",
       "      <th>2</th>\n",
       "      <td>GO_N1_M2</td>\n",
       "      <td>2</td>\n",
       "      <td>1</td>\n",
       "      <td>2</td>\n",
       "      <td>[0.9894881192026661, 0.9020143023400484, 0.975...</td>\n",
       "      <td>4.721719</td>\n",
       "      <td>inf</td>\n",
       "    </tr>\n",
       "    <tr>\n",
       "      <th>3</th>\n",
       "      <td>GO_N1_M2</td>\n",
       "      <td>3</td>\n",
       "      <td>1</td>\n",
       "      <td>2</td>\n",
       "      <td>[-0.015236701600711555, -0.9748776103867369, -...</td>\n",
       "      <td>3.164395</td>\n",
       "      <td>inf</td>\n",
       "    </tr>\n",
       "    <tr>\n",
       "      <th>4</th>\n",
       "      <td>GO_N1_M2</td>\n",
       "      <td>4</td>\n",
       "      <td>1</td>\n",
       "      <td>2</td>\n",
       "      <td>[0.01927921757512152, -0.0016708231775881544, ...</td>\n",
       "      <td>2.564382</td>\n",
       "      <td>inf</td>\n",
       "    </tr>\n",
       "  </tbody>\n",
       "</table>\n",
       "</div>"
      ],
      "text/plain": [
       "       heur  run  N  M                                             best_x  \\\n",
       "0  GO_N1_M2    0  1  2  [-0.06469225903481135, 0.04486396212193089, -0...   \n",
       "1  GO_N1_M2    1  1  2  [0.026477397717680873, 1.0814340785653886, -0....   \n",
       "2  GO_N1_M2    2  1  2  [0.9894881192026661, 0.9020143023400484, 0.975...   \n",
       "3  GO_N1_M2    3  1  2  [-0.015236701600711555, -0.9748776103867369, -...   \n",
       "4  GO_N1_M2    4  1  2  [0.01927921757512152, -0.0016708231775881544, ...   \n",
       "\n",
       "     best_y  neval  \n",
       "0  1.521146    inf  \n",
       "1  4.407285    inf  \n",
       "2  4.721719    inf  \n",
       "3  3.164395    inf  \n",
       "4  2.564382    inf  "
      ]
     },
     "execution_count": 35,
     "metadata": {},
     "output_type": "execute_result"
    }
   ],
   "source": [
    "# uložení výsledků do pickle formátu\n",
    "results2.to_pickle('results2.pkl')\n",
    "# results2 = pd.read_pickle(results2.pkl)\n",
    "results2.head()"
   ]
  },
  {
   "cell_type": "code",
   "execution_count": 37,
   "metadata": {},
   "outputs": [
    {
     "data": {
      "text/html": [
       "<div>\n",
       "<style scoped>\n",
       "    .dataframe tbody tr th:only-of-type {\n",
       "        vertical-align: middle;\n",
       "    }\n",
       "\n",
       "    .dataframe tbody tr th {\n",
       "        vertical-align: top;\n",
       "    }\n",
       "\n",
       "    .dataframe thead th {\n",
       "        text-align: right;\n",
       "    }\n",
       "</style>\n",
       "<table border=\"1\" class=\"dataframe\">\n",
       "  <thead>\n",
       "    <tr style=\"text-align: right;\">\n",
       "      <th></th>\n",
       "      <th>N</th>\n",
       "      <th>M</th>\n",
       "      <th>heur</th>\n",
       "      <th>feo</th>\n",
       "      <th>mne</th>\n",
       "      <th>rel</th>\n",
       "    </tr>\n",
       "  </thead>\n",
       "  <tbody>\n",
       "    <tr>\n",
       "      <th>22</th>\n",
       "      <td>5</td>\n",
       "      <td>40</td>\n",
       "      <td>GO_N5_M40</td>\n",
       "      <td>1593.800000</td>\n",
       "      <td>1593.800000</td>\n",
       "      <td>1.0</td>\n",
       "    </tr>\n",
       "    <tr>\n",
       "      <th>28</th>\n",
       "      <td>10</td>\n",
       "      <td>30</td>\n",
       "      <td>GO_N10_M30</td>\n",
       "      <td>1679.000000</td>\n",
       "      <td>1679.000000</td>\n",
       "      <td>1.0</td>\n",
       "    </tr>\n",
       "    <tr>\n",
       "      <th>19</th>\n",
       "      <td>5</td>\n",
       "      <td>15</td>\n",
       "      <td>GO_N5_M15</td>\n",
       "      <td>1954.320988</td>\n",
       "      <td>1758.888889</td>\n",
       "      <td>0.9</td>\n",
       "    </tr>\n",
       "    <tr>\n",
       "      <th>21</th>\n",
       "      <td>5</td>\n",
       "      <td>30</td>\n",
       "      <td>GO_N5_M30</td>\n",
       "      <td>2015.300000</td>\n",
       "      <td>2015.300000</td>\n",
       "      <td>1.0</td>\n",
       "    </tr>\n",
       "    <tr>\n",
       "      <th>20</th>\n",
       "      <td>5</td>\n",
       "      <td>20</td>\n",
       "      <td>GO_N5_M20</td>\n",
       "      <td>2034.600000</td>\n",
       "      <td>2034.600000</td>\n",
       "      <td>1.0</td>\n",
       "    </tr>\n",
       "  </tbody>\n",
       "</table>\n",
       "</div>"
      ],
      "text/plain": [
       "     N   M        heur          feo          mne  rel\n",
       "22   5  40   GO_N5_M40  1593.800000  1593.800000  1.0\n",
       "28  10  30  GO_N10_M30  1679.000000  1679.000000  1.0\n",
       "19   5  15   GO_N5_M15  1954.320988  1758.888889  0.9\n",
       "21   5  30   GO_N5_M30  2015.300000  2015.300000  1.0\n",
       "20   5  20   GO_N5_M20  2034.600000  2034.600000  1.0"
      ]
     },
     "execution_count": 37,
     "metadata": {},
     "output_type": "execute_result"
    }
   ],
   "source": [
    "# Sestavení kontingenční tabulky s výsledky\n",
    "results_pivot2 = results2.pivot_table(\n",
    "    index=['N', 'M', 'heur'],\n",
    "    values=['neval'],\n",
    "    aggfunc=(rel, mne, feo)\n",
    ")['neval']\n",
    "results_pivot2 = results_pivot2.reset_index()\n",
    "results_pivot2.sort_values(by='feo').head()\n",
    "# vykresleni nejlepsich kombinací podle Feoktisova kritéria"
   ]
  },
  {
   "cell_type": "markdown",
   "metadata": {},
   "source": [
    "Závěry z druhého testu:\n",
    "- nejlépe vychází kombinace $N=5, M=40$ a $N=10,M=30$, tkaže v prvním testu byly předpokládány správné hodnoty\n",
    "- bohužel ale (z časových důvodů) bylo použito málo testovacích běhů (10) pro každou kombinaci, tak výsledky nejsou uplně přesné"
   ]
  },
  {
   "cell_type": "code",
   "execution_count": 61,
   "metadata": {},
   "outputs": [],
   "source": [
    "from heur_sg import ShootAndGo\n",
    "from objfun_sumsin import SumSin"
   ]
  },
  {
   "cell_type": "code",
   "execution_count": 64,
   "metadata": {},
   "outputs": [],
   "source": [
    "def experiment_rs(of, maxeval, num_runs):\n",
    "    method = 'RS'\n",
    "    results = []\n",
    "    for i in tqdm_notebook(range(num_runs), 'Random_shooting'):\n",
    "        result = ShootAndGo(of, maxeval=maxeval, hmax=0).search() # dict with results of one run\n",
    "        result['run'] = i\n",
    "        result['heur'] = 'Random_shooting'\n",
    "        results.append(result)\n",
    "    \n",
    "    return pd.DataFrame(results, columns=['heur', 'run', 'best_x', 'best_y', 'neval'])"
   ]
  },
  {
   "cell_type": "code",
   "execution_count": 71,
   "metadata": {},
   "outputs": [
    {
     "data": {
      "application/vnd.jupyter.widget-view+json": {
       "model_id": "66ae2f4a0ec44973919396de1f0ed5d0",
       "version_major": 2,
       "version_minor": 0
      },
      "text/plain": [
       "HBox(children=(IntProgress(value=0, description='Random_shooting', max=10, style=ProgressStyle(description_wid…"
      ]
     },
     "metadata": {},
     "output_type": "display_data"
    },
    {
     "name": "stdout",
     "output_type": "stream",
     "text": [
      "\n"
     ]
    }
   ],
   "source": [
    "res3 = experiment_rs(of=rast, maxeval=1000000, num_runs=10)"
   ]
  },
  {
   "cell_type": "code",
   "execution_count": 72,
   "metadata": {},
   "outputs": [
    {
     "data": {
      "text/html": [
       "<div>\n",
       "<style scoped>\n",
       "    .dataframe tbody tr th:only-of-type {\n",
       "        vertical-align: middle;\n",
       "    }\n",
       "\n",
       "    .dataframe tbody tr th {\n",
       "        vertical-align: top;\n",
       "    }\n",
       "\n",
       "    .dataframe thead th {\n",
       "        text-align: right;\n",
       "    }\n",
       "</style>\n",
       "<table border=\"1\" class=\"dataframe\">\n",
       "  <thead>\n",
       "    <tr style=\"text-align: right;\">\n",
       "      <th></th>\n",
       "      <th>heur</th>\n",
       "      <th>run</th>\n",
       "      <th>best_x</th>\n",
       "      <th>best_y</th>\n",
       "      <th>neval</th>\n",
       "    </tr>\n",
       "  </thead>\n",
       "  <tbody>\n",
       "    <tr>\n",
       "      <th>0</th>\n",
       "      <td>Random_shooting</td>\n",
       "      <td>0</td>\n",
       "      <td>[-0.9895335780697883, -0.013853961043468033, 0...</td>\n",
       "      <td>1.177625</td>\n",
       "      <td>inf</td>\n",
       "    </tr>\n",
       "    <tr>\n",
       "      <th>1</th>\n",
       "      <td>Random_shooting</td>\n",
       "      <td>1</td>\n",
       "      <td>[0.0050402393409259005, -0.006241918416044712,...</td>\n",
       "      <td>0.528775</td>\n",
       "      <td>inf</td>\n",
       "    </tr>\n",
       "    <tr>\n",
       "      <th>2</th>\n",
       "      <td>Random_shooting</td>\n",
       "      <td>2</td>\n",
       "      <td>[-0.03772794882280994, 0.0281201322054212, 0.0...</td>\n",
       "      <td>0.495164</td>\n",
       "      <td>8.678720e+05</td>\n",
       "    </tr>\n",
       "    <tr>\n",
       "      <th>3</th>\n",
       "      <td>Random_shooting</td>\n",
       "      <td>3</td>\n",
       "      <td>[0.053204573299471924, 0.01708198608981437, -0...</td>\n",
       "      <td>0.618264</td>\n",
       "      <td>inf</td>\n",
       "    </tr>\n",
       "    <tr>\n",
       "      <th>4</th>\n",
       "      <td>Random_shooting</td>\n",
       "      <td>4</td>\n",
       "      <td>[-0.04439708513217511, -0.038445457346503176, ...</td>\n",
       "      <td>0.689409</td>\n",
       "      <td>inf</td>\n",
       "    </tr>\n",
       "    <tr>\n",
       "      <th>5</th>\n",
       "      <td>Random_shooting</td>\n",
       "      <td>5</td>\n",
       "      <td>[0.03138923354450274, 0.03976874675004716, 0.0...</td>\n",
       "      <td>0.519796</td>\n",
       "      <td>inf</td>\n",
       "    </tr>\n",
       "    <tr>\n",
       "      <th>6</th>\n",
       "      <td>Random_shooting</td>\n",
       "      <td>6</td>\n",
       "      <td>[-0.022209331938230825, 0.038895745462553144, ...</td>\n",
       "      <td>0.401635</td>\n",
       "      <td>6.437050e+05</td>\n",
       "    </tr>\n",
       "    <tr>\n",
       "      <th>7</th>\n",
       "      <td>Random_shooting</td>\n",
       "      <td>7</td>\n",
       "      <td>[-0.05123911419660221, 0.010703161209502099, 0...</td>\n",
       "      <td>0.730671</td>\n",
       "      <td>inf</td>\n",
       "    </tr>\n",
       "    <tr>\n",
       "      <th>8</th>\n",
       "      <td>Random_shooting</td>\n",
       "      <td>8</td>\n",
       "      <td>[0.00046061706723854456, 0.0025851994685872626...</td>\n",
       "      <td>0.052131</td>\n",
       "      <td>8.160160e+05</td>\n",
       "    </tr>\n",
       "    <tr>\n",
       "      <th>9</th>\n",
       "      <td>Random_shooting</td>\n",
       "      <td>9</td>\n",
       "      <td>[-0.020570036843787776, 0.041383915901871404, ...</td>\n",
       "      <td>0.631135</td>\n",
       "      <td>inf</td>\n",
       "    </tr>\n",
       "  </tbody>\n",
       "</table>\n",
       "</div>"
      ],
      "text/plain": [
       "              heur  run                                             best_x  \\\n",
       "0  Random_shooting    0  [-0.9895335780697883, -0.013853961043468033, 0...   \n",
       "1  Random_shooting    1  [0.0050402393409259005, -0.006241918416044712,...   \n",
       "2  Random_shooting    2  [-0.03772794882280994, 0.0281201322054212, 0.0...   \n",
       "3  Random_shooting    3  [0.053204573299471924, 0.01708198608981437, -0...   \n",
       "4  Random_shooting    4  [-0.04439708513217511, -0.038445457346503176, ...   \n",
       "5  Random_shooting    5  [0.03138923354450274, 0.03976874675004716, 0.0...   \n",
       "6  Random_shooting    6  [-0.022209331938230825, 0.038895745462553144, ...   \n",
       "7  Random_shooting    7  [-0.05123911419660221, 0.010703161209502099, 0...   \n",
       "8  Random_shooting    8  [0.00046061706723854456, 0.0025851994685872626...   \n",
       "9  Random_shooting    9  [-0.020570036843787776, 0.041383915901871404, ...   \n",
       "\n",
       "     best_y         neval  \n",
       "0  1.177625           inf  \n",
       "1  0.528775           inf  \n",
       "2  0.495164  8.678720e+05  \n",
       "3  0.618264           inf  \n",
       "4  0.689409           inf  \n",
       "5  0.519796           inf  \n",
       "6  0.401635  6.437050e+05  \n",
       "7  0.730671           inf  \n",
       "8  0.052131  8.160160e+05  \n",
       "9  0.631135           inf  "
      ]
     },
     "execution_count": 72,
     "metadata": {},
     "output_type": "execute_result"
    }
   ],
   "source": [
    "res3"
   ]
  },
  {
   "cell_type": "code",
   "execution_count": 74,
   "metadata": {},
   "outputs": [
    {
     "data": {
      "text/html": [
       "<div>\n",
       "<style scoped>\n",
       "    .dataframe tbody tr th:only-of-type {\n",
       "        vertical-align: middle;\n",
       "    }\n",
       "\n",
       "    .dataframe tbody tr th {\n",
       "        vertical-align: top;\n",
       "    }\n",
       "\n",
       "    .dataframe thead th {\n",
       "        text-align: right;\n",
       "    }\n",
       "</style>\n",
       "<table border=\"1\" class=\"dataframe\">\n",
       "  <thead>\n",
       "    <tr style=\"text-align: right;\">\n",
       "      <th></th>\n",
       "      <th>heur</th>\n",
       "      <th>feo</th>\n",
       "      <th>mne</th>\n",
       "      <th>rel</th>\n",
       "    </tr>\n",
       "  </thead>\n",
       "  <tbody>\n",
       "    <tr>\n",
       "      <th>0</th>\n",
       "      <td>Random_shooting</td>\n",
       "      <td>2.586214e+06</td>\n",
       "      <td>775864.333333</td>\n",
       "      <td>0.3</td>\n",
       "    </tr>\n",
       "  </tbody>\n",
       "</table>\n",
       "</div>"
      ],
      "text/plain": [
       "              heur           feo            mne  rel\n",
       "0  Random_shooting  2.586214e+06  775864.333333  0.3"
      ]
     },
     "execution_count": 74,
     "metadata": {},
     "output_type": "execute_result"
    }
   ],
   "source": [
    "results_pivot3 = res3.pivot_table(\n",
    "    index=['heur'],\n",
    "    values=['neval'],\n",
    "    aggfunc=(rel, mne, feo)\n",
    ")['neval']\n",
    "results_pivot3 = results_pivot3.reset_index()\n",
    "results_pivot3"
   ]
  },
  {
   "cell_type": "markdown",
   "metadata": {},
   "source": [
    "Vidíme, že Random Shooting má oproti mé vyladěné metodě o 3 řády horší FEO.\n",
    "\n",
    "Ono je to logické, jelikož se musíme trefit do oblasti , která zabírá pouze 1,5*10^-8 celkového objemu (tzn. průměrně bychom měli střílet 66milion-krát)"
   ]
  },
  {
   "cell_type": "code",
   "execution_count": null,
   "metadata": {},
   "outputs": [],
   "source": []
  }
 ],
 "metadata": {
  "kernelspec": {
   "display_name": "Python 3",
   "language": "python",
   "name": "python3"
  },
  "language_info": {
   "codemirror_mode": {
    "name": "ipython",
    "version": 3
   },
   "file_extension": ".py",
   "mimetype": "text/x-python",
   "name": "python",
   "nbconvert_exporter": "python",
   "pygments_lexer": "ipython3",
   "version": "3.7.1"
  }
 },
 "nbformat": 4,
 "nbformat_minor": 2
}
